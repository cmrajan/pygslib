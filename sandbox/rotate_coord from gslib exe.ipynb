{
 "cells": [
  {
   "cell_type": "code",
   "execution_count": 21,
   "metadata": {},
   "outputs": [],
   "source": [
    "import rotcoord\n",
    "import pygslib"
   ]
  },
  {
   "cell_type": "markdown",
   "metadata": {},
   "source": [
    "# test with arbitrary gslib files"
   ]
  },
  {
   "cell_type": "code",
   "execution_count": 22,
   "metadata": {},
   "outputs": [],
   "source": [
    "parameters = {\n",
    "    'datafl' : '_xxx_.out',     # path to file, or none (to use '_xxx_.in') or numpy array (with columns [x,y])\n",
    "    'icolx'  : 1,              # -columns with X and Y coordinates\n",
    "    'icoly'  : 2,\n",
    "    'outfl'  : 'test.out',      # path to the output file or None (to use '_xxx_.out')\n",
    "    'xorigin': 0,            # origin of rotated system in original coordinates (pibot point)\n",
    "    'yorigin': 0,\n",
    "    'angle'  : 45,            # rotation angle (in degrees clockwise)\n",
    "    'switch' : 0}            # -0=convert to rotated coordinate system, -1=convert from rotated system to original system"
   ]
  },
  {
   "cell_type": "code",
   "execution_count": 23,
   "metadata": {},
   "outputs": [
    {
     "name": "stdout",
     "output_type": "stream",
     "text": [
      "                  Parameters for ROTCOORD\n",
      "                  ***********************\n",
      "\n",
      "START OF PARAMETERS:\n",
      "_xxx_.out                          -file with data\n",
      "1 2                   -columns with X and Y coordinates\n",
      "test.out                           -file for output\n",
      "0 0               -origin of rotated system in original coordinates (pibot point)\n",
      "45                           -rotation angle (in degrees clockwise)\n",
      "0                          -0=convert to rotated coordinate system\n",
      "                                  -1=convert from rotated system to original system\n",
      "\n",
      "\n",
      "\n",
      "ROTCOORD Version: 2.905\n",
      "\n",
      " data file = _xxx_.out                               \n",
      " columns =           1           2\n",
      " output file = test.out                                \n",
      " xorig,yorig =    0.000000E+00    0.000000E+00\n",
      " angle =       45.000000\n",
      " ireverse          0\n",
      "\n",
      "ROTCOORD Version: 2.905 Finished\n",
      "\n",
      "Stop - Program terminated.\n",
      "\n",
      "\n"
     ]
    }
   ],
   "source": [
    "result =rotcoord.rotcoord(parameters)"
   ]
  },
  {
   "cell_type": "code",
   "execution_count": 24,
   "metadata": {},
   "outputs": [
    {
     "data": {
      "text/html": [
       "<div>\n",
       "<style scoped>\n",
       "    .dataframe tbody tr th:only-of-type {\n",
       "        vertical-align: middle;\n",
       "    }\n",
       "\n",
       "    .dataframe tbody tr th {\n",
       "        vertical-align: top;\n",
       "    }\n",
       "\n",
       "    .dataframe thead th {\n",
       "        text-align: right;\n",
       "    }\n",
       "</style>\n",
       "<table border=\"1\" class=\"dataframe\">\n",
       "  <thead>\n",
       "    <tr style=\"text-align: right;\">\n",
       "      <th></th>\n",
       "      <th>X</th>\n",
       "      <th>Y</th>\n",
       "      <th>Z</th>\n",
       "      <th>IJK</th>\n",
       "      <th>Rotated X</th>\n",
       "      <th>Rotated Y</th>\n",
       "    </tr>\n",
       "  </thead>\n",
       "  <tbody>\n",
       "    <tr>\n",
       "      <th>0</th>\n",
       "      <td>10.0</td>\n",
       "      <td>10.0</td>\n",
       "      <td>5.0</td>\n",
       "      <td>0.0</td>\n",
       "      <td>-3.090862e-07</td>\n",
       "      <td>14.14214</td>\n",
       "    </tr>\n",
       "    <tr>\n",
       "      <th>1</th>\n",
       "      <td>30.0</td>\n",
       "      <td>10.0</td>\n",
       "      <td>5.0</td>\n",
       "      <td>1.0</td>\n",
       "      <td>1.414213e+01</td>\n",
       "      <td>28.28427</td>\n",
       "    </tr>\n",
       "    <tr>\n",
       "      <th>2</th>\n",
       "      <td>50.0</td>\n",
       "      <td>10.0</td>\n",
       "      <td>5.0</td>\n",
       "      <td>2.0</td>\n",
       "      <td>2.828427e+01</td>\n",
       "      <td>42.42641</td>\n",
       "    </tr>\n",
       "    <tr>\n",
       "      <th>3</th>\n",
       "      <td>70.0</td>\n",
       "      <td>10.0</td>\n",
       "      <td>5.0</td>\n",
       "      <td>3.0</td>\n",
       "      <td>4.242641e+01</td>\n",
       "      <td>56.56854</td>\n",
       "    </tr>\n",
       "    <tr>\n",
       "      <th>4</th>\n",
       "      <td>90.0</td>\n",
       "      <td>10.0</td>\n",
       "      <td>5.0</td>\n",
       "      <td>4.0</td>\n",
       "      <td>5.656854e+01</td>\n",
       "      <td>70.71068</td>\n",
       "    </tr>\n",
       "  </tbody>\n",
       "</table>\n",
       "</div>"
      ],
      "text/plain": [
       "      X     Y    Z  IJK     Rotated X  Rotated Y\n",
       "0  10.0  10.0  5.0  0.0 -3.090862e-07   14.14214\n",
       "1  30.0  10.0  5.0  1.0  1.414213e+01   28.28427\n",
       "2  50.0  10.0  5.0  2.0  2.828427e+01   42.42641\n",
       "3  70.0  10.0  5.0  3.0  4.242641e+01   56.56854\n",
       "4  90.0  10.0  5.0  4.0  5.656854e+01   70.71068"
      ]
     },
     "execution_count": 24,
     "metadata": {},
     "output_type": "execute_result"
    }
   ],
   "source": [
    "result.head()"
   ]
  },
  {
   "cell_type": "code",
   "execution_count": 25,
   "metadata": {},
   "outputs": [],
   "source": [
    "result.to_csv('test.csv', index=False)"
   ]
  },
  {
   "cell_type": "markdown",
   "metadata": {},
   "source": [
    "# test with numpy array\n"
   ]
  },
  {
   "cell_type": "code",
   "execution_count": 26,
   "metadata": {},
   "outputs": [],
   "source": [
    "parameters = {\n",
    "    'datafl' : result[['X','Y']].values,     # path to file, or none (to use '_xxx_.in') or numpy array (with columns [x,y])\n",
    "    'icolx'  : 1,              # -columns with X and Y coordinates\n",
    "    'icoly'  : 2,\n",
    "    'outfl'  : 'test.out',      # path to the output file or None (to use '_xxx_.out')\n",
    "    'xorigin': 0,            # origin of rotated system in original coordinates (pibot point)\n",
    "    'yorigin': 0,\n",
    "    'angle'  : 45,            # rotation angle (in degrees clockwise)\n",
    "    'switch' : 0}            # -0=convert to rotated coordinate system, -1=convert from rotated system to original system"
   ]
  },
  {
   "cell_type": "code",
   "execution_count": 27,
   "metadata": {},
   "outputs": [
    {
     "name": "stdout",
     "output_type": "stream",
     "text": [
      "                  Parameters for ROTCOORD\n",
      "                  ***********************\n",
      "\n",
      "START OF PARAMETERS:\n",
      "_xxx_.in                          -file with data\n",
      "1 2                   -columns with X and Y coordinates\n",
      "test.out                           -file for output\n",
      "0 0               -origin of rotated system in original coordinates (pibot point)\n",
      "45                           -rotation angle (in degrees clockwise)\n",
      "0                          -0=convert to rotated coordinate system\n",
      "                                  -1=convert from rotated system to original system\n",
      "\n",
      "\n",
      "\n",
      "ROTCOORD Version: 2.905\n",
      "\n",
      " data file = _xxx_.in                                \n",
      " columns =           1           2\n",
      " output file = test.out                                \n",
      " xorig,yorig =    0.000000E+00    0.000000E+00\n",
      " angle =       45.000000\n",
      " ireverse          0\n",
      "\n",
      "ROTCOORD Version: 2.905 Finished\n",
      "\n",
      "Stop - Program terminated.\n",
      "\n",
      "\n"
     ]
    }
   ],
   "source": [
    "result2 =rotcoord.rotcoord(parameters)\n",
    "result[['Xr', 'Yr']] = result2[['Rotated X','Rotated Y']]\n",
    "result.to_csv('test.csv', index=False)"
   ]
  },
  {
   "cell_type": "code",
   "execution_count": 28,
   "metadata": {},
   "outputs": [
    {
     "data": {
      "text/html": [
       "<div>\n",
       "<style scoped>\n",
       "    .dataframe tbody tr th:only-of-type {\n",
       "        vertical-align: middle;\n",
       "    }\n",
       "\n",
       "    .dataframe tbody tr th {\n",
       "        vertical-align: top;\n",
       "    }\n",
       "\n",
       "    .dataframe thead th {\n",
       "        text-align: right;\n",
       "    }\n",
       "</style>\n",
       "<table border=\"1\" class=\"dataframe\">\n",
       "  <thead>\n",
       "    <tr style=\"text-align: right;\">\n",
       "      <th></th>\n",
       "      <th>X</th>\n",
       "      <th>Y</th>\n",
       "      <th>Z</th>\n",
       "      <th>IJK</th>\n",
       "      <th>Rotated X</th>\n",
       "      <th>Rotated Y</th>\n",
       "      <th>Xr</th>\n",
       "      <th>Yr</th>\n",
       "    </tr>\n",
       "  </thead>\n",
       "  <tbody>\n",
       "    <tr>\n",
       "      <th>0</th>\n",
       "      <td>10.0</td>\n",
       "      <td>10.0</td>\n",
       "      <td>5.0</td>\n",
       "      <td>0.0</td>\n",
       "      <td>-3.090862e-07</td>\n",
       "      <td>14.14214</td>\n",
       "      <td>-3.090862e-07</td>\n",
       "      <td>14.14214</td>\n",
       "    </tr>\n",
       "    <tr>\n",
       "      <th>1</th>\n",
       "      <td>30.0</td>\n",
       "      <td>10.0</td>\n",
       "      <td>5.0</td>\n",
       "      <td>1.0</td>\n",
       "      <td>1.414213e+01</td>\n",
       "      <td>28.28427</td>\n",
       "      <td>1.414213e+01</td>\n",
       "      <td>28.28427</td>\n",
       "    </tr>\n",
       "    <tr>\n",
       "      <th>2</th>\n",
       "      <td>50.0</td>\n",
       "      <td>10.0</td>\n",
       "      <td>5.0</td>\n",
       "      <td>2.0</td>\n",
       "      <td>2.828427e+01</td>\n",
       "      <td>42.42641</td>\n",
       "      <td>2.828427e+01</td>\n",
       "      <td>42.42641</td>\n",
       "    </tr>\n",
       "    <tr>\n",
       "      <th>3</th>\n",
       "      <td>70.0</td>\n",
       "      <td>10.0</td>\n",
       "      <td>5.0</td>\n",
       "      <td>3.0</td>\n",
       "      <td>4.242641e+01</td>\n",
       "      <td>56.56854</td>\n",
       "      <td>4.242641e+01</td>\n",
       "      <td>56.56854</td>\n",
       "    </tr>\n",
       "    <tr>\n",
       "      <th>4</th>\n",
       "      <td>90.0</td>\n",
       "      <td>10.0</td>\n",
       "      <td>5.0</td>\n",
       "      <td>4.0</td>\n",
       "      <td>5.656854e+01</td>\n",
       "      <td>70.71068</td>\n",
       "      <td>5.656854e+01</td>\n",
       "      <td>70.71068</td>\n",
       "    </tr>\n",
       "  </tbody>\n",
       "</table>\n",
       "</div>"
      ],
      "text/plain": [
       "      X     Y    Z  IJK     Rotated X  Rotated Y            Xr        Yr\n",
       "0  10.0  10.0  5.0  0.0 -3.090862e-07   14.14214 -3.090862e-07  14.14214\n",
       "1  30.0  10.0  5.0  1.0  1.414213e+01   28.28427  1.414213e+01  28.28427\n",
       "2  50.0  10.0  5.0  2.0  2.828427e+01   42.42641  2.828427e+01  42.42641\n",
       "3  70.0  10.0  5.0  3.0  4.242641e+01   56.56854  4.242641e+01  56.56854\n",
       "4  90.0  10.0  5.0  4.0  5.656854e+01   70.71068  5.656854e+01  70.71068"
      ]
     },
     "execution_count": 28,
     "metadata": {},
     "output_type": "execute_result"
    }
   ],
   "source": [
    "result.head()"
   ]
  },
  {
   "cell_type": "code",
   "execution_count": 34,
   "metadata": {},
   "outputs": [
    {
     "data": {
      "text/plain": [
       "<matplotlib.axes._subplots.AxesSubplot at 0x1857d8885c0>"
      ]
     },
     "execution_count": 34,
     "metadata": {},
     "output_type": "execute_result"
    },
    {
     "data": {
      "image/png": "[encoded data removed]",
      "text/plain": [
       "<Figure size 432x288 with 1 Axes>"
      ]
     },
     "metadata": {},
     "output_type": "display_data"
    }
   ],
   "source": [
    "ax = result.plot(x= 'X', y='Y', kind = 'scatter', color='b')\n",
    "result.plot(x= 'Rotated X', y='Rotated Y', kind = 'scatter', color='r', ax = ax)"
   ]
  },
  {
   "cell_type": "code",
   "execution_count": null,
   "metadata": {},
   "outputs": [],
   "source": []
  }
 ],
 "metadata": {
  "kernelspec": {
   "display_name": "Python 3",
   "language": "python",
   "name": "python3"
  },
  "language_info": {
   "codemirror_mode": {
    "name": "ipython",
    "version": 3
   },
   "file_extension": ".py",
   "mimetype": "text/x-python",
   "name": "python",
   "nbconvert_exporter": "python",
   "pygments_lexer": "ipython3",
   "version": "3.6.4"
  }
 },
 "nbformat": 4,
 "nbformat_minor": 2
}

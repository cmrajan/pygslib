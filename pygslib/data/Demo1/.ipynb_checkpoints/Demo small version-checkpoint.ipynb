{
 "cells": [
  {
   "cell_type": "markdown",
   "metadata": {
    "slideshow": {
     "slide_type": "slide"
    }
   },
   "source": [
    "# Mineral Resource estimation with Python (Quick Demo)\n",
    "\n",
    "Welcome to the **world of Python**. \n",
    "\n",
    "Content: \n",
    " - import drillhole tables\n",
    " - create drillholes\n",
    " - tag drillholes with domain\n",
    " - composite\n",
    " - create a block model\n",
    " - do statistical analysis (no variography)\n",
    " - interpolate grade and validate interpolations\n",
    " - Report resources\n",
    " \n",
    " <img src ='fig1.JPG'>\n",
    " "
   ]
  },
  {
   "cell_type": "markdown",
   "metadata": {},
   "source": [
    "### Import drillhole tables"
   ]
  },
  {
   "cell_type": "code",
   "execution_count": 1,
   "metadata": {
    "slideshow": {
     "slide_type": "slide"
    }
   },
   "outputs": [
    {
     "data": {
      "application/javascript": [
       "\n",
       "(function(root) {\n",
       "  function now() {\n",
       "    return new Date();\n",
       "  }\n",
       "\n",
       "  var force = true;\n",
       "\n",
       "  if (typeof root._bokeh_onload_callbacks === \"undefined\" || force === true) {\n",
       "    root._bokeh_onload_callbacks = [];\n",
       "    root._bokeh_is_loading = undefined;\n",
       "  }\n",
       "\n",
       "  var JS_MIME_TYPE = 'application/javascript';\n",
       "  var HTML_MIME_TYPE = 'text/html';\n",
       "  var EXEC_MIME_TYPE = 'application/vnd.bokehjs_exec.v0+json';\n",
       "  var CLASS_NAME = 'output_bokeh rendered_html';\n",
       "\n",
       "  /**\n",
       "   * Render data to the DOM node\n",
       "   */\n",
       "  function render(props, node) {\n",
       "    var script = document.createElement(\"script\");\n",
       "    node.appendChild(script);\n",
       "  }\n",
       "\n",
       "  /**\n",
       "   * Handle when an output is cleared or removed\n",
       "   */\n",
       "  function handleClearOutput(event, handle) {\n",
       "    var cell = handle.cell;\n",
       "\n",
       "    var id = cell.output_area._bokeh_element_id;\n",
       "    var server_id = cell.output_area._bokeh_server_id;\n",
       "    // Clean up Bokeh references\n",
       "    if (id != null && id in Bokeh.index) {\n",
       "      Bokeh.index[id].model.document.clear();\n",
       "      delete Bokeh.index[id];\n",
       "    }\n",
       "\n",
       "    if (server_id !== undefined) {\n",
       "      // Clean up Bokeh references\n",
       "      var cmd = \"from bokeh.io.state import curstate; print(curstate().uuid_to_server['\" + server_id + \"'].get_sessions()[0].document.roots[0]._id)\";\n",
       "      cell.notebook.kernel.execute(cmd, {\n",
       "        iopub: {\n",
       "          output: function(msg) {\n",
       "            var id = msg.content.text.trim();\n",
       "            if (id in Bokeh.index) {\n",
       "              Bokeh.index[id].model.document.clear();\n",
       "              delete Bokeh.index[id];\n",
       "            }\n",
       "          }\n",
       "        }\n",
       "      });\n",
       "      // Destroy server and session\n",
       "      var cmd = \"import bokeh.io.notebook as ion; ion.destroy_server('\" + server_id + \"')\";\n",
       "      cell.notebook.kernel.execute(cmd);\n",
       "    }\n",
       "  }\n",
       "\n",
       "  /**\n",
       "   * Handle when a new output is added\n",
       "   */\n",
       "  function handleAddOutput(event, handle) {\n",
       "    var output_area = handle.output_area;\n",
       "    var output = handle.output;\n",
       "\n",
       "    // limit handleAddOutput to display_data with EXEC_MIME_TYPE content only\n",
       "    if ((output.output_type != \"display_data\") || (!output.data.hasOwnProperty(EXEC_MIME_TYPE))) {\n",
       "      return\n",
       "    }\n",
       "\n",
       "    var toinsert = output_area.element.find(\".\" + CLASS_NAME.split(' ')[0]);\n",
       "\n",
       "    if (output.metadata[EXEC_MIME_TYPE][\"id\"] !== undefined) {\n",
       "      toinsert[toinsert.length - 1].firstChild.textContent = output.data[JS_MIME_TYPE];\n",
       "      // store reference to embed id on output_area\n",
       "      output_area._bokeh_element_id = output.metadata[EXEC_MIME_TYPE][\"id\"];\n",
       "    }\n",
       "    if (output.metadata[EXEC_MIME_TYPE][\"server_id\"] !== undefined) {\n",
       "      var bk_div = document.createElement(\"div\");\n",
       "      bk_div.innerHTML = output.data[HTML_MIME_TYPE];\n",
       "      var script_attrs = bk_div.children[0].attributes;\n",
       "      for (var i = 0; i < script_attrs.length; i++) {\n",
       "        toinsert[toinsert.length - 1].firstChild.setAttribute(script_attrs[i].name, script_attrs[i].value);\n",
       "        toinsert[toinsert.length - 1].firstChild.textContent = bk_div.children[0].textContent\n",
       "      }\n",
       "      // store reference to server id on output_area\n",
       "      output_area._bokeh_server_id = output.metadata[EXEC_MIME_TYPE][\"server_id\"];\n",
       "    }\n",
       "  }\n",
       "\n",
       "  function register_renderer(events, OutputArea) {\n",
       "\n",
       "    function append_mime(data, metadata, element) {\n",
       "      // create a DOM node to render to\n",
       "      var toinsert = this.create_output_subarea(\n",
       "        metadata,\n",
       "        CLASS_NAME,\n",
       "        EXEC_MIME_TYPE\n",
       "      );\n",
       "      this.keyboard_manager.register_events(toinsert);\n",
       "      // Render to node\n",
       "      var props = {data: data, metadata: metadata[EXEC_MIME_TYPE]};\n",
       "      render(props, toinsert[toinsert.length - 1]);\n",
       "      element.append(toinsert);\n",
       "      return toinsert\n",
       "    }\n",
       "\n",
       "    /* Handle when an output is cleared or removed */\n",
       "    events.on('clear_output.CodeCell', handleClearOutput);\n",
       "    events.on('delete.Cell', handleClearOutput);\n",
       "\n",
       "    /* Handle when a new output is added */\n",
       "    events.on('output_added.OutputArea', handleAddOutput);\n",
       "\n",
       "    /**\n",
       "     * Register the mime type and append_mime function with output_area\n",
       "     */\n",
       "    OutputArea.prototype.register_mime_type(EXEC_MIME_TYPE, append_mime, {\n",
       "      /* Is output safe? */\n",
       "      safe: true,\n",
       "      /* Index of renderer in `output_area.display_order` */\n",
       "      index: 0\n",
       "    });\n",
       "  }\n",
       "\n",
       "  // register the mime type if in Jupyter Notebook environment and previously unregistered\n",
       "  if (root.Jupyter !== undefined) {\n",
       "    var events = require('base/js/events');\n",
       "    var OutputArea = require('notebook/js/outputarea').OutputArea;\n",
       "\n",
       "    if (OutputArea.prototype.mime_types().indexOf(EXEC_MIME_TYPE) == -1) {\n",
       "      register_renderer(events, OutputArea);\n",
       "    }\n",
       "  }\n",
       "\n",
       "  \n",
       "  if (typeof (root._bokeh_timeout) === \"undefined\" || force === true) {\n",
       "    root._bokeh_timeout = Date.now() + 5000;\n",
       "    root._bokeh_failed_load = false;\n",
       "  }\n",
       "\n",
       "  var NB_LOAD_WARNING = {'data': {'text/html':\n",
       "     \"<div style='background-color: #fdd'>\\n\"+\n",
       "     \"<p>\\n\"+\n",
       "     \"BokehJS does not appear to have successfully loaded. If loading BokehJS from CDN, this \\n\"+\n",
       "     \"may be due to a slow or bad network connection. Possible fixes:\\n\"+\n",
       "     \"</p>\\n\"+\n",
       "     \"<ul>\\n\"+\n",
       "     \"<li>re-rerun `output_notebook()` to attempt to load from CDN again, or</li>\\n\"+\n",
       "     \"<li>use INLINE resources instead, as so:</li>\\n\"+\n",
       "     \"</ul>\\n\"+\n",
       "     \"<code>\\n\"+\n",
       "     \"from bokeh.resources import INLINE\\n\"+\n",
       "     \"output_notebook(resources=INLINE)\\n\"+\n",
       "     \"</code>\\n\"+\n",
       "     \"</div>\"}};\n",
       "\n",
       "  function display_loaded() {\n",
       "    var el = document.getElementById(null);\n",
       "    if (el != null) {\n",
       "      el.textContent = \"BokehJS is loading...\";\n",
       "    }\n",
       "    if (root.Bokeh !== undefined) {\n",
       "      if (el != null) {\n",
       "        el.textContent = \"BokehJS \" + root.Bokeh.version + \" successfully loaded.\";\n",
       "      }\n",
       "    } else if (Date.now() < root._bokeh_timeout) {\n",
       "      setTimeout(display_loaded, 100)\n",
       "    }\n",
       "  }\n",
       "\n",
       "\n",
       "  function run_callbacks() {\n",
       "    try {\n",
       "      root._bokeh_onload_callbacks.forEach(function(callback) {\n",
       "        if (callback != null)\n",
       "          callback();\n",
       "      });\n",
       "    } finally {\n",
       "      delete root._bokeh_onload_callbacks\n",
       "    }\n",
       "    console.debug(\"Bokeh: all callbacks have finished\");\n",
       "  }\n",
       "\n",
       "  function load_libs(css_urls, js_urls, callback) {\n",
       "    if (css_urls == null) css_urls = [];\n",
       "    if (js_urls == null) js_urls = [];\n",
       "\n",
       "    root._bokeh_onload_callbacks.push(callback);\n",
       "    if (root._bokeh_is_loading > 0) {\n",
       "      console.debug(\"Bokeh: BokehJS is being loaded, scheduling callback at\", now());\n",
       "      return null;\n",
       "    }\n",
       "    if (js_urls == null || js_urls.length === 0) {\n",
       "      run_callbacks();\n",
       "      return null;\n",
       "    }\n",
       "    console.debug(\"Bokeh: BokehJS not loaded, scheduling load and callback at\", now());\n",
       "    root._bokeh_is_loading = css_urls.length + js_urls.length;\n",
       "\n",
       "    function on_load() {\n",
       "      root._bokeh_is_loading--;\n",
       "      if (root._bokeh_is_loading === 0) {\n",
       "        console.debug(\"Bokeh: all BokehJS libraries/stylesheets loaded\");\n",
       "        run_callbacks()\n",
       "      }\n",
       "    }\n",
       "\n",
       "    function on_error() {\n",
       "      console.error(\"failed to load \" + url);\n",
       "    }\n",
       "\n",
       "    for (var i = 0; i < css_urls.length; i++) {\n",
       "      var url = css_urls[i];\n",
       "      const element = document.createElement(\"link\");\n",
       "      element.onload = on_load;\n",
       "      element.onerror = on_error;\n",
       "      element.rel = \"stylesheet\";\n",
       "      element.type = \"text/css\";\n",
       "      element.href = url;\n",
       "      console.debug(\"Bokeh: injecting link tag for BokehJS stylesheet: \", url);\n",
       "      document.body.appendChild(element);\n",
       "    }\n",
       "\n",
       "    const hashes = {\"https://cdn.bokeh.org/bokeh/release/bokeh-2.2.3.min.js\": \"T2yuo9Oe71Cz/I4X9Ac5+gpEa5a8PpJCDlqKYO0CfAuEszu1JrXLl8YugMqYe3sM\", \"https://cdn.bokeh.org/bokeh/release/bokeh-widgets-2.2.3.min.js\": \"98GDGJ0kOMCUMUePhksaQ/GYgB3+NH9h996V88sh3aOiUNX3N+fLXAtry6xctSZ6\", \"https://cdn.bokeh.org/bokeh/release/bokeh-tables-2.2.3.min.js\": \"89bArO+nlbP3sgakeHjCo1JYxYR5wufVgA3IbUvDY+K7w4zyxJqssu7wVnfeKCq8\"};\n",
       "\n",
       "    for (var i = 0; i < js_urls.length; i++) {\n",
       "      var url = js_urls[i];\n",
       "      var element = document.createElement('script');\n",
       "      element.onload = on_load;\n",
       "      element.onerror = on_error;\n",
       "      element.async = false;\n",
       "      element.src = url;\n",
       "      if (url in hashes) {\n",
       "        element.crossOrigin = \"anonymous\";\n",
       "        element.integrity = \"sha384-\" + hashes[url];\n",
       "      }\n",
       "      console.debug(\"Bokeh: injecting script tag for BokehJS library: \", url);\n",
       "      document.head.appendChild(element);\n",
       "    }\n",
       "  };\n",
       "\n",
       "  function inject_raw_css(css) {\n",
       "    const element = document.createElement(\"style\");\n",
       "    element.appendChild(document.createTextNode(css));\n",
       "    document.body.appendChild(element);\n",
       "  }\n",
       "\n",
       "  \n",
       "  var js_urls = [\"https://cdn.bokeh.org/bokeh/release/bokeh-2.2.3.min.js\", \"https://cdn.bokeh.org/bokeh/release/bokeh-widgets-2.2.3.min.js\", \"https://cdn.bokeh.org/bokeh/release/bokeh-tables-2.2.3.min.js\"];\n",
       "  var css_urls = [];\n",
       "  \n",
       "\n",
       "  var inline_js = [\n",
       "    function(Bokeh) {\n",
       "      Bokeh.set_log_level(\"info\");\n",
       "    },\n",
       "    function(Bokeh) {\n",
       "    \n",
       "    \n",
       "    }\n",
       "  ];\n",
       "\n",
       "  function run_inline_js() {\n",
       "    \n",
       "    if (root.Bokeh !== undefined || force === true) {\n",
       "      \n",
       "    for (var i = 0; i < inline_js.length; i++) {\n",
       "      inline_js[i].call(root, root.Bokeh);\n",
       "    }\n",
       "    } else if (Date.now() < root._bokeh_timeout) {\n",
       "      setTimeout(run_inline_js, 100);\n",
       "    } else if (!root._bokeh_failed_load) {\n",
       "      console.log(\"Bokeh: BokehJS failed to load within specified timeout.\");\n",
       "      root._bokeh_failed_load = true;\n",
       "    } else if (force !== true) {\n",
       "      var cell = $(document.getElementById(null)).parents('.cell').data().cell;\n",
       "      cell.output_area.append_execute_result(NB_LOAD_WARNING)\n",
       "    }\n",
       "\n",
       "  }\n",
       "\n",
       "  if (root._bokeh_is_loading === 0) {\n",
       "    console.debug(\"Bokeh: BokehJS loaded, going straight to plotting\");\n",
       "    run_inline_js();\n",
       "  } else {\n",
       "    load_libs(css_urls, js_urls, function() {\n",
       "      console.debug(\"Bokeh: BokehJS plotting callback run at\", now());\n",
       "      run_inline_js();\n",
       "    });\n",
       "  }\n",
       "}(window));"
      ],
      "application/vnd.bokehjs_load.v0+json": "\n(function(root) {\n  function now() {\n    return new Date();\n  }\n\n  var force = true;\n\n  if (typeof root._bokeh_onload_callbacks === \"undefined\" || force === true) {\n    root._bokeh_onload_callbacks = [];\n    root._bokeh_is_loading = undefined;\n  }\n\n  \n\n  \n  if (typeof (root._bokeh_timeout) === \"undefined\" || force === true) {\n    root._bokeh_timeout = Date.now() + 5000;\n    root._bokeh_failed_load = false;\n  }\n\n  var NB_LOAD_WARNING = {'data': {'text/html':\n     \"<div style='background-color: #fdd'>\\n\"+\n     \"<p>\\n\"+\n     \"BokehJS does not appear to have successfully loaded. If loading BokehJS from CDN, this \\n\"+\n     \"may be due to a slow or bad network connection. Possible fixes:\\n\"+\n     \"</p>\\n\"+\n     \"<ul>\\n\"+\n     \"<li>re-rerun `output_notebook()` to attempt to load from CDN again, or</li>\\n\"+\n     \"<li>use INLINE resources instead, as so:</li>\\n\"+\n     \"</ul>\\n\"+\n     \"<code>\\n\"+\n     \"from bokeh.resources import INLINE\\n\"+\n     \"output_notebook(resources=INLINE)\\n\"+\n     \"</code>\\n\"+\n     \"</div>\"}};\n\n  function display_loaded() {\n    var el = document.getElementById(null);\n    if (el != null) {\n      el.textContent = \"BokehJS is loading...\";\n    }\n    if (root.Bokeh !== undefined) {\n      if (el != null) {\n        el.textContent = \"BokehJS \" + root.Bokeh.version + \" successfully loaded.\";\n      }\n    } else if (Date.now() < root._bokeh_timeout) {\n      setTimeout(display_loaded, 100)\n    }\n  }\n\n\n  function run_callbacks() {\n    try {\n      root._bokeh_onload_callbacks.forEach(function(callback) {\n        if (callback != null)\n          callback();\n      });\n    } finally {\n      delete root._bokeh_onload_callbacks\n    }\n    console.debug(\"Bokeh: all callbacks have finished\");\n  }\n\n  function load_libs(css_urls, js_urls, callback) {\n    if (css_urls == null) css_urls = [];\n    if (js_urls == null) js_urls = [];\n\n    root._bokeh_onload_callbacks.push(callback);\n    if (root._bokeh_is_loading > 0) {\n      console.debug(\"Bokeh: BokehJS is being loaded, scheduling callback at\", now());\n      return null;\n    }\n    if (js_urls == null || js_urls.length === 0) {\n      run_callbacks();\n      return null;\n    }\n    console.debug(\"Bokeh: BokehJS not loaded, scheduling load and callback at\", now());\n    root._bokeh_is_loading = css_urls.length + js_urls.length;\n\n    function on_load() {\n      root._bokeh_is_loading--;\n      if (root._bokeh_is_loading === 0) {\n        console.debug(\"Bokeh: all BokehJS libraries/stylesheets loaded\");\n        run_callbacks()\n      }\n    }\n\n    function on_error() {\n      console.error(\"failed to load \" + url);\n    }\n\n    for (var i = 0; i < css_urls.length; i++) {\n      var url = css_urls[i];\n      const element = document.createElement(\"link\");\n      element.onload = on_load;\n      element.onerror = on_error;\n      element.rel = \"stylesheet\";\n      element.type = \"text/css\";\n      element.href = url;\n      console.debug(\"Bokeh: injecting link tag for BokehJS stylesheet: \", url);\n      document.body.appendChild(element);\n    }\n\n    const hashes = {\"https://cdn.bokeh.org/bokeh/release/bokeh-2.2.3.min.js\": \"T2yuo9Oe71Cz/I4X9Ac5+gpEa5a8PpJCDlqKYO0CfAuEszu1JrXLl8YugMqYe3sM\", \"https://cdn.bokeh.org/bokeh/release/bokeh-widgets-2.2.3.min.js\": \"98GDGJ0kOMCUMUePhksaQ/GYgB3+NH9h996V88sh3aOiUNX3N+fLXAtry6xctSZ6\", \"https://cdn.bokeh.org/bokeh/release/bokeh-tables-2.2.3.min.js\": \"89bArO+nlbP3sgakeHjCo1JYxYR5wufVgA3IbUvDY+K7w4zyxJqssu7wVnfeKCq8\"};\n\n    for (var i = 0; i < js_urls.length; i++) {\n      var url = js_urls[i];\n      var element = document.createElement('script');\n      element.onload = on_load;\n      element.onerror = on_error;\n      element.async = false;\n      element.src = url;\n      if (url in hashes) {\n        element.crossOrigin = \"anonymous\";\n        element.integrity = \"sha384-\" + hashes[url];\n      }\n      console.debug(\"Bokeh: injecting script tag for BokehJS library: \", url);\n      document.head.appendChild(element);\n    }\n  };\n\n  function inject_raw_css(css) {\n    const element = document.createElement(\"style\");\n    element.appendChild(document.createTextNode(css));\n    document.body.appendChild(element);\n  }\n\n  \n  var js_urls = [\"https://cdn.bokeh.org/bokeh/release/bokeh-2.2.3.min.js\", \"https://cdn.bokeh.org/bokeh/release/bokeh-widgets-2.2.3.min.js\", \"https://cdn.bokeh.org/bokeh/release/bokeh-tables-2.2.3.min.js\"];\n  var css_urls = [];\n  \n\n  var inline_js = [\n    function(Bokeh) {\n      Bokeh.set_log_level(\"info\");\n    },\n    function(Bokeh) {\n    \n    \n    }\n  ];\n\n  function run_inline_js() {\n    \n    if (root.Bokeh !== undefined || force === true) {\n      \n    for (var i = 0; i < inline_js.length; i++) {\n      inline_js[i].call(root, root.Bokeh);\n    }\n    } else if (Date.now() < root._bokeh_timeout) {\n      setTimeout(run_inline_js, 100);\n    } else if (!root._bokeh_failed_load) {\n      console.log(\"Bokeh: BokehJS failed to load within specified timeout.\");\n      root._bokeh_failed_load = true;\n    } else if (force !== true) {\n      var cell = $(document.getElementById(null)).parents('.cell').data().cell;\n      cell.output_area.append_execute_result(NB_LOAD_WARNING)\n    }\n\n  }\n\n  if (root._bokeh_is_loading === 0) {\n    console.debug(\"Bokeh: BokehJS loaded, going straight to plotting\");\n    run_inline_js();\n  } else {\n    load_libs(css_urls, js_urls, function() {\n      console.debug(\"Bokeh: BokehJS plotting callback run at\", now());\n      run_inline_js();\n    });\n  }\n}(window));"
     },
     "metadata": {},
     "output_type": "display_data"
    }
   ],
   "source": [
    "# Import libraries \n",
    "import pandas as pd \n",
    "import pygslib\n",
    "import numpy as np\n",
    "import matplotlib.pyplot as plt    \n",
    "%matplotlib inline "
   ]
  },
  {
   "cell_type": "code",
   "execution_count": 2,
   "metadata": {
    "slideshow": {
     "slide_type": "slide"
    }
   },
   "outputs": [],
   "source": [
    "# Import drillhole data located in folder data/ into pandas dataframes\n",
    "collar = pd.read_csv('data/collar.csv')\n",
    "survey = pd.read_csv('data/survey.csv')\n",
    "assay  = pd.read_csv('data/assay.csv')"
   ]
  },
  {
   "cell_type": "markdown",
   "metadata": {},
   "source": [
    "### Create drillholes"
   ]
  },
  {
   "cell_type": "code",
   "execution_count": 3,
   "metadata": {},
   "outputs": [],
   "source": [
    "# create drillhole object\n",
    "mydholes = pygslib.drillhole.Drillhole(collar, survey)   \n",
    "\n",
    "# add intervall table\n",
    "mydholes.addtable(table = assay, table_name = 'assay')  "
   ]
  },
  {
   "cell_type": "code",
   "execution_count": 4,
   "metadata": {},
   "outputs": [
    {
     "data": {
      "text/plain": [
       "{}"
      ]
     },
     "execution_count": 4,
     "metadata": {},
     "output_type": "execute_result"
    }
   ],
   "source": [
    "# validate\n",
    "mydholes.validate()\n",
    "mydholes.validate_table('assay')"
   ]
  },
  {
   "cell_type": "code",
   "execution_count": 5,
   "metadata": {},
   "outputs": [],
   "source": [
    "# Desurvey\n",
    "mydholes.desurvey('assay', endpoints=True)"
   ]
  },
  {
   "cell_type": "code",
   "execution_count": 6,
   "metadata": {},
   "outputs": [
    {
     "data": {
      "text/html": [
       "<div>\n",
       "<style scoped>\n",
       "    .dataframe tbody tr th:only-of-type {\n",
       "        vertical-align: middle;\n",
       "    }\n",
       "\n",
       "    .dataframe tbody tr th {\n",
       "        vertical-align: top;\n",
       "    }\n",
       "\n",
       "    .dataframe thead th {\n",
       "        text-align: right;\n",
       "    }\n",
       "</style>\n",
       "<table border=\"1\" class=\"dataframe\">\n",
       "  <thead>\n",
       "    <tr style=\"text-align: right;\">\n",
       "      <th></th>\n",
       "      <th>BHID</th>\n",
       "      <th>FROM</th>\n",
       "      <th>TO</th>\n",
       "      <th>Au</th>\n",
       "      <th>azmm</th>\n",
       "      <th>dipm</th>\n",
       "      <th>xm</th>\n",
       "      <th>ym</th>\n",
       "      <th>zm</th>\n",
       "      <th>azmb</th>\n",
       "      <th>dipb</th>\n",
       "      <th>xb</th>\n",
       "      <th>yb</th>\n",
       "      <th>zb</th>\n",
       "      <th>azme</th>\n",
       "      <th>dipe</th>\n",
       "      <th>xe</th>\n",
       "      <th>ye</th>\n",
       "      <th>ze</th>\n",
       "    </tr>\n",
       "  </thead>\n",
       "  <tbody>\n",
       "    <tr>\n",
       "      <th>0</th>\n",
       "      <td>0</td>\n",
       "      <td>0.0</td>\n",
       "      <td>1.0</td>\n",
       "      <td>0.0</td>\n",
       "      <td>90.0</td>\n",
       "      <td>86.774025</td>\n",
       "      <td>4.561190</td>\n",
       "      <td>-1.229899e-09</td>\n",
       "      <td>99.227970</td>\n",
       "      <td>90.0</td>\n",
       "      <td>86.774086</td>\n",
       "      <td>4.533054</td>\n",
       "      <td>0.000000e+00</td>\n",
       "      <td>99.727177</td>\n",
       "      <td>90.0</td>\n",
       "      <td>86.774147</td>\n",
       "      <td>4.589327</td>\n",
       "      <td>-2.459786e-09</td>\n",
       "      <td>98.728762</td>\n",
       "    </tr>\n",
       "    <tr>\n",
       "      <th>1</th>\n",
       "      <td>0</td>\n",
       "      <td>1.0</td>\n",
       "      <td>2.0</td>\n",
       "      <td>0.0</td>\n",
       "      <td>90.0</td>\n",
       "      <td>86.774147</td>\n",
       "      <td>4.617463</td>\n",
       "      <td>-3.689650e-09</td>\n",
       "      <td>98.229554</td>\n",
       "      <td>90.0</td>\n",
       "      <td>86.774147</td>\n",
       "      <td>4.589327</td>\n",
       "      <td>-2.459786e-09</td>\n",
       "      <td>98.728762</td>\n",
       "      <td>90.0</td>\n",
       "      <td>86.774086</td>\n",
       "      <td>4.645599</td>\n",
       "      <td>-4.919526e-09</td>\n",
       "      <td>97.730346</td>\n",
       "    </tr>\n",
       "    <tr>\n",
       "      <th>2</th>\n",
       "      <td>0</td>\n",
       "      <td>2.0</td>\n",
       "      <td>3.0</td>\n",
       "      <td>0.0</td>\n",
       "      <td>90.0</td>\n",
       "      <td>86.774086</td>\n",
       "      <td>4.673736</td>\n",
       "      <td>-6.149413e-09</td>\n",
       "      <td>97.231139</td>\n",
       "      <td>90.0</td>\n",
       "      <td>86.774086</td>\n",
       "      <td>4.645599</td>\n",
       "      <td>-4.919526e-09</td>\n",
       "      <td>97.730346</td>\n",
       "      <td>90.0</td>\n",
       "      <td>86.774025</td>\n",
       "      <td>4.701872</td>\n",
       "      <td>-7.379312e-09</td>\n",
       "      <td>96.731931</td>\n",
       "    </tr>\n",
       "    <tr>\n",
       "      <th>3</th>\n",
       "      <td>0</td>\n",
       "      <td>3.0</td>\n",
       "      <td>4.0</td>\n",
       "      <td>0.0</td>\n",
       "      <td>90.0</td>\n",
       "      <td>86.774086</td>\n",
       "      <td>4.730009</td>\n",
       "      <td>-8.609211e-09</td>\n",
       "      <td>96.232723</td>\n",
       "      <td>90.0</td>\n",
       "      <td>86.774025</td>\n",
       "      <td>4.701872</td>\n",
       "      <td>-7.379312e-09</td>\n",
       "      <td>96.731931</td>\n",
       "      <td>90.0</td>\n",
       "      <td>86.774086</td>\n",
       "      <td>4.758146</td>\n",
       "      <td>-9.839098e-09</td>\n",
       "      <td>95.733516</td>\n",
       "    </tr>\n",
       "    <tr>\n",
       "      <th>4</th>\n",
       "      <td>0</td>\n",
       "      <td>4.0</td>\n",
       "      <td>5.0</td>\n",
       "      <td>0.0</td>\n",
       "      <td>90.0</td>\n",
       "      <td>86.774086</td>\n",
       "      <td>4.786282</td>\n",
       "      <td>-1.106898e-08</td>\n",
       "      <td>95.234308</td>\n",
       "      <td>90.0</td>\n",
       "      <td>86.774086</td>\n",
       "      <td>4.758146</td>\n",
       "      <td>-9.839098e-09</td>\n",
       "      <td>95.733516</td>\n",
       "      <td>90.0</td>\n",
       "      <td>86.774086</td>\n",
       "      <td>4.814419</td>\n",
       "      <td>-1.229887e-08</td>\n",
       "      <td>94.735100</td>\n",
       "    </tr>\n",
       "    <tr>\n",
       "      <th>...</th>\n",
       "      <td>...</td>\n",
       "      <td>...</td>\n",
       "      <td>...</td>\n",
       "      <td>...</td>\n",
       "      <td>...</td>\n",
       "      <td>...</td>\n",
       "      <td>...</td>\n",
       "      <td>...</td>\n",
       "      <td>...</td>\n",
       "      <td>...</td>\n",
       "      <td>...</td>\n",
       "      <td>...</td>\n",
       "      <td>...</td>\n",
       "      <td>...</td>\n",
       "      <td>...</td>\n",
       "      <td>...</td>\n",
       "      <td>...</td>\n",
       "      <td>...</td>\n",
       "      <td>...</td>\n",
       "    </tr>\n",
       "    <tr>\n",
       "      <th>1877</th>\n",
       "      <td>9</td>\n",
       "      <td>54.0</td>\n",
       "      <td>55.0</td>\n",
       "      <td>0.0</td>\n",
       "      <td>90.0</td>\n",
       "      <td>78.596626</td>\n",
       "      <td>134.394202</td>\n",
       "      <td>5.000000e+01</td>\n",
       "      <td>48.709835</td>\n",
       "      <td>90.0</td>\n",
       "      <td>78.653839</td>\n",
       "      <td>134.295589</td>\n",
       "      <td>5.000000e+01</td>\n",
       "      <td>49.200014</td>\n",
       "      <td>90.0</td>\n",
       "      <td>78.539665</td>\n",
       "      <td>134.493303</td>\n",
       "      <td>5.000000e+01</td>\n",
       "      <td>48.219755</td>\n",
       "    </tr>\n",
       "    <tr>\n",
       "      <th>1878</th>\n",
       "      <td>9</td>\n",
       "      <td>55.0</td>\n",
       "      <td>56.0</td>\n",
       "      <td>0.0</td>\n",
       "      <td>90.0</td>\n",
       "      <td>78.482979</td>\n",
       "      <td>134.592890</td>\n",
       "      <td>5.000000e+01</td>\n",
       "      <td>47.729772</td>\n",
       "      <td>90.0</td>\n",
       "      <td>78.539665</td>\n",
       "      <td>134.493303</td>\n",
       "      <td>5.000000e+01</td>\n",
       "      <td>48.219755</td>\n",
       "      <td>90.0</td>\n",
       "      <td>78.426582</td>\n",
       "      <td>134.692961</td>\n",
       "      <td>5.000000e+01</td>\n",
       "      <td>47.239889</td>\n",
       "    </tr>\n",
       "    <tr>\n",
       "      <th>1879</th>\n",
       "      <td>9</td>\n",
       "      <td>56.0</td>\n",
       "      <td>57.0</td>\n",
       "      <td>0.0</td>\n",
       "      <td>90.0</td>\n",
       "      <td>78.370461</td>\n",
       "      <td>134.793512</td>\n",
       "      <td>5.000000e+01</td>\n",
       "      <td>46.750104</td>\n",
       "      <td>90.0</td>\n",
       "      <td>78.426582</td>\n",
       "      <td>134.692961</td>\n",
       "      <td>5.000000e+01</td>\n",
       "      <td>47.239889</td>\n",
       "      <td>90.0</td>\n",
       "      <td>78.314583</td>\n",
       "      <td>134.894543</td>\n",
       "      <td>5.000000e+01</td>\n",
       "      <td>46.260417</td>\n",
       "    </tr>\n",
       "    <tr>\n",
       "      <th>1880</th>\n",
       "      <td>9</td>\n",
       "      <td>57.0</td>\n",
       "      <td>58.0</td>\n",
       "      <td>0.0</td>\n",
       "      <td>90.0</td>\n",
       "      <td>78.259003</td>\n",
       "      <td>134.996049</td>\n",
       "      <td>5.000000e+01</td>\n",
       "      <td>45.770829</td>\n",
       "      <td>90.0</td>\n",
       "      <td>78.314583</td>\n",
       "      <td>134.894543</td>\n",
       "      <td>5.000000e+01</td>\n",
       "      <td>46.260417</td>\n",
       "      <td>90.0</td>\n",
       "      <td>78.203651</td>\n",
       "      <td>135.098030</td>\n",
       "      <td>5.000000e+01</td>\n",
       "      <td>45.281340</td>\n",
       "    </tr>\n",
       "    <tr>\n",
       "      <th>1881</th>\n",
       "      <td>9</td>\n",
       "      <td>58.0</td>\n",
       "      <td>59.0</td>\n",
       "      <td>0.0</td>\n",
       "      <td>90.0</td>\n",
       "      <td>78.148552</td>\n",
       "      <td>135.200482</td>\n",
       "      <td>5.000000e+01</td>\n",
       "      <td>44.791949</td>\n",
       "      <td>90.0</td>\n",
       "      <td>78.203651</td>\n",
       "      <td>135.098030</td>\n",
       "      <td>5.000000e+01</td>\n",
       "      <td>45.281340</td>\n",
       "      <td>90.0</td>\n",
       "      <td>78.093719</td>\n",
       "      <td>135.303403</td>\n",
       "      <td>5.000000e+01</td>\n",
       "      <td>44.302656</td>\n",
       "    </tr>\n",
       "  </tbody>\n",
       "</table>\n",
       "<p>1882 rows × 19 columns</p>\n",
       "</div>"
      ],
      "text/plain": [
       "     BHID  FROM    TO   Au  azmm       dipm          xm            ym  \\\n",
       "0       0   0.0   1.0  0.0  90.0  86.774025    4.561190 -1.229899e-09   \n",
       "1       0   1.0   2.0  0.0  90.0  86.774147    4.617463 -3.689650e-09   \n",
       "2       0   2.0   3.0  0.0  90.0  86.774086    4.673736 -6.149413e-09   \n",
       "3       0   3.0   4.0  0.0  90.0  86.774086    4.730009 -8.609211e-09   \n",
       "4       0   4.0   5.0  0.0  90.0  86.774086    4.786282 -1.106898e-08   \n",
       "...   ...   ...   ...  ...   ...        ...         ...           ...   \n",
       "1877    9  54.0  55.0  0.0  90.0  78.596626  134.394202  5.000000e+01   \n",
       "1878    9  55.0  56.0  0.0  90.0  78.482979  134.592890  5.000000e+01   \n",
       "1879    9  56.0  57.0  0.0  90.0  78.370461  134.793512  5.000000e+01   \n",
       "1880    9  57.0  58.0  0.0  90.0  78.259003  134.996049  5.000000e+01   \n",
       "1881    9  58.0  59.0  0.0  90.0  78.148552  135.200482  5.000000e+01   \n",
       "\n",
       "             zm  azmb       dipb          xb            yb         zb  azme  \\\n",
       "0     99.227970  90.0  86.774086    4.533054  0.000000e+00  99.727177  90.0   \n",
       "1     98.229554  90.0  86.774147    4.589327 -2.459786e-09  98.728762  90.0   \n",
       "2     97.231139  90.0  86.774086    4.645599 -4.919526e-09  97.730346  90.0   \n",
       "3     96.232723  90.0  86.774025    4.701872 -7.379312e-09  96.731931  90.0   \n",
       "4     95.234308  90.0  86.774086    4.758146 -9.839098e-09  95.733516  90.0   \n",
       "...         ...   ...        ...         ...           ...        ...   ...   \n",
       "1877  48.709835  90.0  78.653839  134.295589  5.000000e+01  49.200014  90.0   \n",
       "1878  47.729772  90.0  78.539665  134.493303  5.000000e+01  48.219755  90.0   \n",
       "1879  46.750104  90.0  78.426582  134.692961  5.000000e+01  47.239889  90.0   \n",
       "1880  45.770829  90.0  78.314583  134.894543  5.000000e+01  46.260417  90.0   \n",
       "1881  44.791949  90.0  78.203651  135.098030  5.000000e+01  45.281340  90.0   \n",
       "\n",
       "           dipe          xe            ye         ze  \n",
       "0     86.774147    4.589327 -2.459786e-09  98.728762  \n",
       "1     86.774086    4.645599 -4.919526e-09  97.730346  \n",
       "2     86.774025    4.701872 -7.379312e-09  96.731931  \n",
       "3     86.774086    4.758146 -9.839098e-09  95.733516  \n",
       "4     86.774086    4.814419 -1.229887e-08  94.735100  \n",
       "...         ...         ...           ...        ...  \n",
       "1877  78.539665  134.493303  5.000000e+01  48.219755  \n",
       "1878  78.426582  134.692961  5.000000e+01  47.239889  \n",
       "1879  78.314583  134.894543  5.000000e+01  46.260417  \n",
       "1880  78.203651  135.098030  5.000000e+01  45.281340  \n",
       "1881  78.093719  135.303403  5.000000e+01  44.302656  \n",
       "\n",
       "[1882 rows x 19 columns]"
      ]
     },
     "execution_count": 6,
     "metadata": {},
     "output_type": "execute_result"
    }
   ],
   "source": [
    "mydholes.table['assay']"
   ]
  },
  {
   "cell_type": "code",
   "execution_count": 7,
   "metadata": {},
   "outputs": [],
   "source": [
    "# Export drillhole as vtk file\n",
    "mydholes.intervals2vtk(table_name= 'assay', filename= 'assay')"
   ]
  },
  {
   "cell_type": "markdown",
   "metadata": {},
   "source": [
    "### Tag drillholes with domain (wireframe solid)"
   ]
  },
  {
   "cell_type": "code",
   "execution_count": 8,
   "metadata": {},
   "outputs": [],
   "source": [
    "# import wireframe\n",
    "dom1_poly= pygslib.vtktools.loadVTP('data/dom1.vtp')\n",
    "\n",
    "# creating array to tag samples in domain1\n",
    "inside1=pygslib.vtktools.pointinsolid(dom1_poly, \n",
    "                       x=mydholes.table['assay']['xm'].values, # .values this extracts numpy array from pandas\n",
    "                       y=mydholes.table['assay']['ym'].values, \n",
    "                       z=mydholes.table['assay']['zm'].values)\n",
    "\n",
    "# creating a new domain field \n",
    "mydholes.table['assay']['Domain1']=inside1.astype(int)\n",
    "\n",
    "# Export drillhole as vtk file\n",
    "mydholes.intervals2vtk(table_name= 'assay', filename= 'assay')"
   ]
  },
  {
   "cell_type": "markdown",
   "metadata": {},
   "source": [
    "###  Composite"
   ]
  },
  {
   "cell_type": "code",
   "execution_count": 9,
   "metadata": {},
   "outputs": [],
   "source": [
    "# extract samples from domain 1 and addit as a new table\n",
    "mydholes.addtable(mydholes.table['assay'].loc[mydholes.table['assay']['Domain1']==1, :], 'assay_d1', overwrite = True)\n",
    "\n",
    "# composite only using samples in Dom1\n",
    "mydholes.downh_composite('assay_d1','Au', 'cmp', cint = 1, overwrite = True)\n",
    "\n",
    "# need to desurvey cmp\n",
    "mydholes.desurvey('cmp')\n",
    "\n",
    "# Export drillhole as vtk file\n",
    "mydholes.intervals2vtk(table_name= 'cmp', filename= 'cmp')"
   ]
  },
  {
   "cell_type": "markdown",
   "metadata": {},
   "source": [
    "###  Create a block model with definition: \n",
    "```\n",
    "xorg = 0\n",
    "yorg = 0\n",
    "zorg = 0\n",
    "dx = 10\n",
    "dy = 10\n",
    "dz = 10\n",
    "nx = 18\n",
    "ny = 20\n",
    "nz = 15\n",
    "\n",
    "```\n"
   ]
  },
  {
   "cell_type": "code",
   "execution_count": 10,
   "metadata": {},
   "outputs": [],
   "source": [
    "#create an empty model\n",
    "mymodel = pygslib.blockmodel.Blockmodel(xorg = 0,\n",
    "                                        yorg = 0,\n",
    "                                        zorg = 0,\n",
    "                                        dx = 5,\n",
    "                                        dy = 5,\n",
    "                                        dz = 5,\n",
    "                                        nx = 36,\n",
    "                                        ny = 40,\n",
    "                                        nz = 30)\n",
    "\n",
    "#generate blocks and calculate percent in domain 1\n",
    "_ = mymodel.fillwireframe(dom1_poly)\n",
    "\n",
    "# remove blocks out of domain 1\n",
    "mymodel.set_blocks (mymodel.bmtable[mymodel.bmtable['__in']>0])\n",
    "\n",
    "# and save the model as vtkunestructured grid\n",
    "mymodel.blocks2vtkUnstructuredGrid('bmodel') # this will have extension vtu"
   ]
  },
  {
   "cell_type": "markdown",
   "metadata": {},
   "source": [
    "### Statistical analysis (no variography)"
   ]
  },
  {
   "cell_type": "markdown",
   "metadata": {},
   "source": [
    "#### Declustering"
   ]
  },
  {
   "cell_type": "code",
   "execution_count": 11,
   "metadata": {},
   "outputs": [
    {
     "data": {
      "image/png": "[encoded data removed]",
      "text/plain": [
       "<Figure size 432x288 with 1 Axes>"
      ]
     },
     "metadata": {
      "needs_background": "light"
     },
     "output_type": "display_data"
    },
    {
     "data": {
      "image/png": "[encoded data removed]",
      "text/plain": [
       "<Figure size 432x288 with 1 Axes>"
      ]
     },
     "metadata": {
      "needs_background": "light"
     },
     "output_type": "display_data"
    },
    {
     "data": {
      "image/png": "[encoded data removed]",
      "text/plain": [
       "<Figure size 432x288 with 1 Axes>"
      ]
     },
     "metadata": {
      "needs_background": "light"
     },
     "output_type": "display_data"
    }
   ],
   "source": [
    "#declustering parameters \n",
    "parameters_declus = { \n",
    "        'x'      :  mydholes.table['cmp'].loc[:, 'xm'], \n",
    "        'y'      :  mydholes.table['cmp'].loc[:, 'ym'],  \n",
    "        'z'      :  mydholes.table['cmp'].loc[:, 'zm'], \n",
    "        'vr'     :  mydholes.table['cmp'].loc[:, 'Au'],   \n",
    "        'anisy'  :  1.,       \n",
    "        'anisz'  :  .05,              \n",
    "        'minmax' :  0,                 \n",
    "        'ncell'  :  100,                  \n",
    "        'cmin'   :  10., \n",
    "        'cmax'   :  100.,                 \n",
    "        'noff'   :  8,                    \n",
    "        'maxcel' :  -1}               \n",
    "\n",
    "# declustering \n",
    "wtopt,vrop,wtmin,wtmax,error, \\\n",
    "xinc,yinc,zinc,rxcs,rycs,rzcs,rvrcr = pygslib.gslib.declus(parameters_declus)\n",
    "\n",
    "#Plotting declustering optimization results\n",
    "plt.plot (rxcs, rvrcr, '-o')\n",
    "plt.xlabel('X cell size')\n",
    "plt.ylabel('declustered mean')\n",
    "plt.show()\n",
    "plt.plot (rycs, rvrcr, '-o')\n",
    "plt.xlabel('Y cell size')\n",
    "plt.ylabel('declustered mean')\n",
    "plt.show()\n",
    "plt.plot (rzcs, rvrcr, '-o')\n",
    "plt.xlabel('Z cell size')\n",
    "plt.ylabel('declustered mean')\n",
    "plt.show()"
   ]
  },
  {
   "cell_type": "markdown",
   "metadata": {},
   "source": [
    "Now we fix the cell size to 60 x 60 x 3 "
   ]
  },
  {
   "cell_type": "code",
   "execution_count": 12,
   "metadata": {},
   "outputs": [
    {
     "name": "stdout",
     "output_type": "stream",
     "text": [
      "declustered mean: 1.2334635703750538\n"
     ]
    }
   ],
   "source": [
    "#declustering parameters \n",
    "parameters_declus['ncell'] = 1\n",
    "parameters_declus['cmin'] = 60.\n",
    "parameters_declus['cmax'] = 60.\n",
    "   \n",
    "# declustering \n",
    "wtopt,vrop,wtmin,wtmax,error, \\\n",
    "xinc,yinc,zinc,rxcs,rycs,rzcs,rvrcr = pygslib.gslib.declus(parameters_declus)\n",
    "\n",
    "# Adding declustering weight to a drillhole interval table\n",
    "mydholes.table['cmp']['declustwt'] = 1\n",
    "mydholes.table['cmp'].loc[:, 'declustwt'] = wtopt\n",
    "\n",
    "# calculating declustered mean\n",
    "decl_mean = rvrcr[0]\n",
    "\n",
    "print ('declustered mean:', decl_mean)"
   ]
  },
  {
   "cell_type": "markdown",
   "metadata": {},
   "source": [
    "#### Variography\n",
    "\n",
    "For now use this variogram model"
   ]
  },
  {
   "cell_type": "markdown",
   "metadata": {},
   "source": [
    "In Pygslib: \n",
    "```\n",
    "vario_model = {\n",
    "            # Variogram parameters Pygslib\n",
    "            # ----------\n",
    "            'c0'         : 0.1,   \n",
    "            'it'         : [1],    # \n",
    "            'cc'         : [.9],     \n",
    "            'aa'         : [100],   \n",
    "            'aa1'        : [100],  \n",
    "            'aa2'        : [20],   \n",
    "            'ang1'       : [0],   \n",
    "            'ang2'       : [0],  \n",
    "            'ang3'       : [-15]}  \n",
    "\n",
    "```\n",
    "\n",
    "\n",
    "In gslib: \n",
    "\n",
    "```\n",
    "1    0.1                      -nst, nugget effect\n",
    "1    0.9  0.0   0.0  -15.0     -it,cc,ang1,ang2,ang3\n",
    "       100.0  100.0  20.0     -a_hmax, a_hmin, a_vert\n",
    "\n",
    "\n",
    "nst and c0: the number of variogram structures and the nugget\n",
    "it:  the type of structure\n",
    "cc:  the c parameter \"sill\"\n",
    "ang1,ang2,ang3: the angles defining the geometric anisotropy\n",
    "aa: also aa_hmax, the maximum horizontal range\n",
    "aa1: also aa_hmin, the minimum horizontal range\n",
    "aa2: also aa_vert, the vertical range\n",
    "\n",
    "\n",
    "it is \n",
    "\n",
    "1. Spherical (use actual range)\n",
    "2. Exponential (use practical range)\n",
    "3. Gaussian (use practical range)\n",
    "4. Power law variogram\n",
    "5. Cosine hole effect model\n",
    "\n",
    "\n",
    "```"
   ]
  },
  {
   "cell_type": "markdown",
   "metadata": {},
   "source": [
    "### Interpolation and validation"
   ]
  },
  {
   "cell_type": "code",
   "execution_count": 13,
   "metadata": {},
   "outputs": [],
   "source": [
    "# creating BHID of type integer, this is to be able to use drillhole id in Fortran!\n",
    "mydholes.txt2intID('cmp')"
   ]
  },
  {
   "cell_type": "code",
   "execution_count": 14,
   "metadata": {},
   "outputs": [
    {
     "data": {
      "text/html": [
       "<div>\n",
       "<style scoped>\n",
       "    .dataframe tbody tr th:only-of-type {\n",
       "        vertical-align: middle;\n",
       "    }\n",
       "\n",
       "    .dataframe tbody tr th {\n",
       "        vertical-align: top;\n",
       "    }\n",
       "\n",
       "    .dataframe thead th {\n",
       "        text-align: right;\n",
       "    }\n",
       "</style>\n",
       "<table border=\"1\" class=\"dataframe\">\n",
       "  <thead>\n",
       "    <tr style=\"text-align: right;\">\n",
       "      <th></th>\n",
       "      <th>BHID</th>\n",
       "      <th>FROM</th>\n",
       "      <th>TO</th>\n",
       "      <th>_len</th>\n",
       "      <th>Au</th>\n",
       "      <th>_acum</th>\n",
       "      <th>azmm</th>\n",
       "      <th>dipm</th>\n",
       "      <th>xm</th>\n",
       "      <th>ym</th>\n",
       "      <th>...</th>\n",
       "      <th>xb</th>\n",
       "      <th>yb</th>\n",
       "      <th>zb</th>\n",
       "      <th>azme</th>\n",
       "      <th>dipe</th>\n",
       "      <th>xe</th>\n",
       "      <th>ye</th>\n",
       "      <th>ze</th>\n",
       "      <th>declustwt</th>\n",
       "      <th>BHIDint</th>\n",
       "    </tr>\n",
       "  </thead>\n",
       "  <tbody>\n",
       "    <tr>\n",
       "      <th>0</th>\n",
       "      <td>0</td>\n",
       "      <td>53.0</td>\n",
       "      <td>54.0</td>\n",
       "      <td>1.0</td>\n",
       "      <td>0.554726</td>\n",
       "      <td>0.554726</td>\n",
       "      <td>90.0</td>\n",
       "      <td>70.104324</td>\n",
       "      <td>15.210061</td>\n",
       "      <td>-4.667069e-07</td>\n",
       "      <td>...</td>\n",
       "      <td>15.040610</td>\n",
       "      <td>-4.592999e-07</td>\n",
       "      <td>47.965848</td>\n",
       "      <td>90.0</td>\n",
       "      <td>69.929565</td>\n",
       "      <td>15.380932</td>\n",
       "      <td>-4.741759e-07</td>\n",
       "      <td>47.025540</td>\n",
       "      <td>1.597576</td>\n",
       "      <td>1</td>\n",
       "    </tr>\n",
       "    <tr>\n",
       "      <th>1</th>\n",
       "      <td>0</td>\n",
       "      <td>54.0</td>\n",
       "      <td>55.0</td>\n",
       "      <td>1.0</td>\n",
       "      <td>1.083848</td>\n",
       "      <td>1.083848</td>\n",
       "      <td>90.0</td>\n",
       "      <td>69.752914</td>\n",
       "      <td>15.553244</td>\n",
       "      <td>-4.817078e-07</td>\n",
       "      <td>...</td>\n",
       "      <td>15.380932</td>\n",
       "      <td>-4.741759e-07</td>\n",
       "      <td>47.025540</td>\n",
       "      <td>90.0</td>\n",
       "      <td>69.577721</td>\n",
       "      <td>15.726995</td>\n",
       "      <td>-4.893027e-07</td>\n",
       "      <td>46.087331</td>\n",
       "      <td>0.922595</td>\n",
       "      <td>1</td>\n",
       "    </tr>\n",
       "    <tr>\n",
       "      <th>2</th>\n",
       "      <td>0</td>\n",
       "      <td>55.0</td>\n",
       "      <td>56.0</td>\n",
       "      <td>1.0</td>\n",
       "      <td>3.343537</td>\n",
       "      <td>3.343537</td>\n",
       "      <td>90.0</td>\n",
       "      <td>69.403954</td>\n",
       "      <td>15.902174</td>\n",
       "      <td>-4.969600e-07</td>\n",
       "      <td>...</td>\n",
       "      <td>15.726995</td>\n",
       "      <td>-4.893027e-07</td>\n",
       "      <td>46.087331</td>\n",
       "      <td>90.0</td>\n",
       "      <td>69.231575</td>\n",
       "      <td>16.078766</td>\n",
       "      <td>-5.046791e-07</td>\n",
       "      <td>45.151246</td>\n",
       "      <td>0.786860</td>\n",
       "      <td>1</td>\n",
       "    </tr>\n",
       "    <tr>\n",
       "      <th>3</th>\n",
       "      <td>0</td>\n",
       "      <td>56.0</td>\n",
       "      <td>57.0</td>\n",
       "      <td>1.0</td>\n",
       "      <td>3.343537</td>\n",
       "      <td>3.343537</td>\n",
       "      <td>90.0</td>\n",
       "      <td>69.060555</td>\n",
       "      <td>16.256759</td>\n",
       "      <td>-5.124595e-07</td>\n",
       "      <td>...</td>\n",
       "      <td>16.078766</td>\n",
       "      <td>-5.046791e-07</td>\n",
       "      <td>45.151246</td>\n",
       "      <td>90.0</td>\n",
       "      <td>68.883598</td>\n",
       "      <td>16.436171</td>\n",
       "      <td>-5.203018e-07</td>\n",
       "      <td>44.217298</td>\n",
       "      <td>0.777183</td>\n",
       "      <td>1</td>\n",
       "    </tr>\n",
       "    <tr>\n",
       "      <th>4</th>\n",
       "      <td>0</td>\n",
       "      <td>57.0</td>\n",
       "      <td>58.0</td>\n",
       "      <td>1.0</td>\n",
       "      <td>2.343359</td>\n",
       "      <td>2.343359</td>\n",
       "      <td>90.0</td>\n",
       "      <td>68.707550</td>\n",
       "      <td>16.617019</td>\n",
       "      <td>-5.282069e-07</td>\n",
       "      <td>...</td>\n",
       "      <td>16.436171</td>\n",
       "      <td>-5.203018e-07</td>\n",
       "      <td>44.217298</td>\n",
       "      <td>90.0</td>\n",
       "      <td>68.532883</td>\n",
       "      <td>16.799293</td>\n",
       "      <td>-5.361744e-07</td>\n",
       "      <td>43.285558</td>\n",
       "      <td>0.777183</td>\n",
       "      <td>1</td>\n",
       "    </tr>\n",
       "    <tr>\n",
       "      <th>...</th>\n",
       "      <td>...</td>\n",
       "      <td>...</td>\n",
       "      <td>...</td>\n",
       "      <td>...</td>\n",
       "      <td>...</td>\n",
       "      <td>...</td>\n",
       "      <td>...</td>\n",
       "      <td>...</td>\n",
       "      <td>...</td>\n",
       "      <td>...</td>\n",
       "      <td>...</td>\n",
       "      <td>...</td>\n",
       "      <td>...</td>\n",
       "      <td>...</td>\n",
       "      <td>...</td>\n",
       "      <td>...</td>\n",
       "      <td>...</td>\n",
       "      <td>...</td>\n",
       "      <td>...</td>\n",
       "      <td>...</td>\n",
       "      <td>...</td>\n",
       "    </tr>\n",
       "    <tr>\n",
       "      <th>365</th>\n",
       "      <td>9</td>\n",
       "      <td>40.0</td>\n",
       "      <td>41.0</td>\n",
       "      <td>1.0</td>\n",
       "      <td>0.895752</td>\n",
       "      <td>0.895752</td>\n",
       "      <td>90.0</td>\n",
       "      <td>80.193840</td>\n",
       "      <td>132.069411</td>\n",
       "      <td>5.000000e+01</td>\n",
       "      <td>...</td>\n",
       "      <td>131.984491</td>\n",
       "      <td>5.000000e+01</td>\n",
       "      <td>62.996976</td>\n",
       "      <td>90.0</td>\n",
       "      <td>80.138733</td>\n",
       "      <td>132.154805</td>\n",
       "      <td>5.000000e+01</td>\n",
       "      <td>62.011587</td>\n",
       "      <td>0.550287</td>\n",
       "      <td>29</td>\n",
       "    </tr>\n",
       "    <tr>\n",
       "      <th>366</th>\n",
       "      <td>9</td>\n",
       "      <td>41.0</td>\n",
       "      <td>42.0</td>\n",
       "      <td>1.0</td>\n",
       "      <td>2.067564</td>\n",
       "      <td>2.067564</td>\n",
       "      <td>90.0</td>\n",
       "      <td>80.083946</td>\n",
       "      <td>132.240672</td>\n",
       "      <td>5.000000e+01</td>\n",
       "      <td>...</td>\n",
       "      <td>132.154805</td>\n",
       "      <td>5.000000e+01</td>\n",
       "      <td>62.011587</td>\n",
       "      <td>90.0</td>\n",
       "      <td>80.029457</td>\n",
       "      <td>132.327009</td>\n",
       "      <td>5.000000e+01</td>\n",
       "      <td>61.026525</td>\n",
       "      <td>0.651304</td>\n",
       "      <td>29</td>\n",
       "    </tr>\n",
       "    <tr>\n",
       "      <th>367</th>\n",
       "      <td>9</td>\n",
       "      <td>42.0</td>\n",
       "      <td>43.0</td>\n",
       "      <td>1.0</td>\n",
       "      <td>2.067564</td>\n",
       "      <td>2.067564</td>\n",
       "      <td>90.0</td>\n",
       "      <td>79.971809</td>\n",
       "      <td>132.413828</td>\n",
       "      <td>5.000000e+01</td>\n",
       "      <td>...</td>\n",
       "      <td>132.327009</td>\n",
       "      <td>5.000000e+01</td>\n",
       "      <td>61.026525</td>\n",
       "      <td>90.0</td>\n",
       "      <td>79.912537</td>\n",
       "      <td>132.501149</td>\n",
       "      <td>5.000000e+01</td>\n",
       "      <td>60.041804</td>\n",
       "      <td>0.650681</td>\n",
       "      <td>29</td>\n",
       "    </tr>\n",
       "    <tr>\n",
       "      <th>368</th>\n",
       "      <td>9</td>\n",
       "      <td>43.0</td>\n",
       "      <td>44.0</td>\n",
       "      <td>1.0</td>\n",
       "      <td>1.500111</td>\n",
       "      <td>1.500111</td>\n",
       "      <td>90.0</td>\n",
       "      <td>79.853592</td>\n",
       "      <td>132.588978</td>\n",
       "      <td>5.000000e+01</td>\n",
       "      <td>...</td>\n",
       "      <td>132.501149</td>\n",
       "      <td>5.000000e+01</td>\n",
       "      <td>60.041804</td>\n",
       "      <td>90.0</td>\n",
       "      <td>79.795021</td>\n",
       "      <td>132.677311</td>\n",
       "      <td>5.000000e+01</td>\n",
       "      <td>59.057444</td>\n",
       "      <td>0.688997</td>\n",
       "      <td>29</td>\n",
       "    </tr>\n",
       "    <tr>\n",
       "      <th>369</th>\n",
       "      <td>9</td>\n",
       "      <td>44.0</td>\n",
       "      <td>45.0</td>\n",
       "      <td>1.0</td>\n",
       "      <td>0.424451</td>\n",
       "      <td>0.424451</td>\n",
       "      <td>90.0</td>\n",
       "      <td>79.736778</td>\n",
       "      <td>132.766146</td>\n",
       "      <td>5.000000e+01</td>\n",
       "      <td>...</td>\n",
       "      <td>132.677311</td>\n",
       "      <td>5.000000e+01</td>\n",
       "      <td>59.057444</td>\n",
       "      <td>90.0</td>\n",
       "      <td>79.678848</td>\n",
       "      <td>132.855480</td>\n",
       "      <td>5.000000e+01</td>\n",
       "      <td>58.073444</td>\n",
       "      <td>1.089780</td>\n",
       "      <td>29</td>\n",
       "    </tr>\n",
       "  </tbody>\n",
       "</table>\n",
       "<p>370 rows × 23 columns</p>\n",
       "</div>"
      ],
      "text/plain": [
       "    BHID  FROM    TO  _len        Au     _acum  azmm       dipm          xm  \\\n",
       "0      0  53.0  54.0   1.0  0.554726  0.554726  90.0  70.104324   15.210061   \n",
       "1      0  54.0  55.0   1.0  1.083848  1.083848  90.0  69.752914   15.553244   \n",
       "2      0  55.0  56.0   1.0  3.343537  3.343537  90.0  69.403954   15.902174   \n",
       "3      0  56.0  57.0   1.0  3.343537  3.343537  90.0  69.060555   16.256759   \n",
       "4      0  57.0  58.0   1.0  2.343359  2.343359  90.0  68.707550   16.617019   \n",
       "..   ...   ...   ...   ...       ...       ...   ...        ...         ...   \n",
       "365    9  40.0  41.0   1.0  0.895752  0.895752  90.0  80.193840  132.069411   \n",
       "366    9  41.0  42.0   1.0  2.067564  2.067564  90.0  80.083946  132.240672   \n",
       "367    9  42.0  43.0   1.0  2.067564  2.067564  90.0  79.971809  132.413828   \n",
       "368    9  43.0  44.0   1.0  1.500111  1.500111  90.0  79.853592  132.588978   \n",
       "369    9  44.0  45.0   1.0  0.424451  0.424451  90.0  79.736778  132.766146   \n",
       "\n",
       "               ym  ...          xb            yb         zb  azme       dipe  \\\n",
       "0   -4.667069e-07  ...   15.040610 -4.592999e-07  47.965848  90.0  69.929565   \n",
       "1   -4.817078e-07  ...   15.380932 -4.741759e-07  47.025540  90.0  69.577721   \n",
       "2   -4.969600e-07  ...   15.726995 -4.893027e-07  46.087331  90.0  69.231575   \n",
       "3   -5.124595e-07  ...   16.078766 -5.046791e-07  45.151246  90.0  68.883598   \n",
       "4   -5.282069e-07  ...   16.436171 -5.203018e-07  44.217298  90.0  68.532883   \n",
       "..            ...  ...         ...           ...        ...   ...        ...   \n",
       "365  5.000000e+01  ...  131.984491  5.000000e+01  62.996976  90.0  80.138733   \n",
       "366  5.000000e+01  ...  132.154805  5.000000e+01  62.011587  90.0  80.029457   \n",
       "367  5.000000e+01  ...  132.327009  5.000000e+01  61.026525  90.0  79.912537   \n",
       "368  5.000000e+01  ...  132.501149  5.000000e+01  60.041804  90.0  79.795021   \n",
       "369  5.000000e+01  ...  132.677311  5.000000e+01  59.057444  90.0  79.678848   \n",
       "\n",
       "             xe            ye         ze  declustwt  BHIDint  \n",
       "0     15.380932 -4.741759e-07  47.025540   1.597576        1  \n",
       "1     15.726995 -4.893027e-07  46.087331   0.922595        1  \n",
       "2     16.078766 -5.046791e-07  45.151246   0.786860        1  \n",
       "3     16.436171 -5.203018e-07  44.217298   0.777183        1  \n",
       "4     16.799293 -5.361744e-07  43.285558   0.777183        1  \n",
       "..          ...           ...        ...        ...      ...  \n",
       "365  132.154805  5.000000e+01  62.011587   0.550287       29  \n",
       "366  132.327009  5.000000e+01  61.026525   0.651304       29  \n",
       "367  132.501149  5.000000e+01  60.041804   0.650681       29  \n",
       "368  132.677311  5.000000e+01  59.057444   0.688997       29  \n",
       "369  132.855480  5.000000e+01  58.073444   1.089780       29  \n",
       "\n",
       "[370 rows x 23 columns]"
      ]
     },
     "execution_count": 14,
     "metadata": {},
     "output_type": "execute_result"
    }
   ],
   "source": [
    "mydholes.table['cmp']"
   ]
  },
  {
   "cell_type": "code",
   "execution_count": 15,
   "metadata": {},
   "outputs": [],
   "source": [
    "# creating parameter dictionary for estimation in one block\n",
    "kt3d_Parameters = {\n",
    "            # Input Data (Only using intervals in the mineralized domain)\n",
    "            # ----------\n",
    "            'x' : mydholes.table[\"cmp\"]['xm'].values, \n",
    "            'y' : mydholes.table[\"cmp\"]['ym'].values,\n",
    "            'z' : mydholes.table[\"cmp\"]['zm'].values,\n",
    "            'vr' : mydholes.table[\"cmp\"]['Au'].values,\n",
    "            'bhidint' : mydholes.table[\"cmp\"]['BHIDint'].values, # an interger BHID\n",
    "            # Output (Target) \n",
    "            # ----------\n",
    "            'nx' : 100,  # these parameters are only used to define supperblock search\n",
    "            'ny' : 100,  \n",
    "            'nz' : 100, \n",
    "            'xmn' : 0,  \n",
    "            'ymn' : 0,  \n",
    "            'zmn' : 0,  \n",
    "            'xsiz' : 5,  \n",
    "            'ysiz' : 5,   \n",
    "            'zsiz' : 5, \n",
    "            'nxdis' : 5,  \n",
    "            'nydis' : 5,  \n",
    "            'nzdis' : 3,  \n",
    "            'outx' : mymodel.bmtable['XC'].values,  \n",
    "            'outy' : mymodel.bmtable['YC'].values,\n",
    "            'outz' : mymodel.bmtable['ZC'].values,\n",
    "            # Search parameters \n",
    "            # ----------\n",
    "            'radius'     : 60,   \n",
    "            'radius1'    : 60,   \n",
    "            'radius2'    : 8,   \n",
    "            'sang1'      : 0,  \n",
    "            'sang2'      : 0,   \n",
    "            'sang3'      : -15,   \n",
    "            'ndmax'      : 20,    \n",
    "            'ndmin'      : 7,  \n",
    "            'noct'       : 0,\n",
    "            'nbhid'      : 5,   \n",
    "            # Kriging parameters and options \n",
    "            # ----------\n",
    "            'ktype'      : 1,   # 1 Ordinary kriging \n",
    "            'idbg'       : 0,   # 0 no debug \n",
    "            # Variogram parameters Pygslib\n",
    "            # ----------\n",
    "            'c0'         : 0.1,   \n",
    "            'it'         : [1],    \n",
    "            'cc'         : [.9],     \n",
    "            'aa'         : [100],   \n",
    "            'aa1'        : [100],  \n",
    "            'aa2'        : [20],   \n",
    "            'ang1'       : [0],   \n",
    "            'ang2'       : [0],  \n",
    "            'ang3'       : [-15]}   "
   ]
  },
  {
   "cell_type": "code",
   "execution_count": 16,
   "metadata": {},
   "outputs": [],
   "source": [
    "# estimating in all blocks\n",
    "estimate, debug, summary = pygslib.gslib.kt3d(kt3d_Parameters)"
   ]
  },
  {
   "cell_type": "code",
   "execution_count": 17,
   "metadata": {},
   "outputs": [],
   "source": [
    "# adding the estimate into the model\n",
    "mymodel.bmtable['Au_OK'] = estimate['outest']\n",
    "mymodel.bmtable['Au_ID2'] = estimate['outidpower']\n",
    "mymodel.bmtable['Au_NN'] = estimate['outnn']\n",
    "mymodel.bmtable['Au_Lagrange'] = estimate['outlagrange']\n",
    "mymodel.bmtable['Au_KVar']= estimate['outkvar']"
   ]
  },
  {
   "cell_type": "code",
   "execution_count": 18,
   "metadata": {},
   "outputs": [],
   "source": [
    "# exporting block model to VTK (unstructured grid) \n",
    "mymodel.blocks2vtkUnstructuredGrid(path='bmodel.vtu')"
   ]
  },
  {
   "cell_type": "markdown",
   "metadata": {},
   "source": [
    "### Validating results\n",
    "\n",
    "Basic validations are:\n",
    "\n",
    " - visual validation\n",
    " - comparison of mean grades\n",
    " - swath plots \n",
    " - global change of support (GCOS)\n"
   ]
  },
  {
   "cell_type": "markdown",
   "metadata": {},
   "source": [
    "#### Visual validations \n"
   ]
  },
  {
   "cell_type": "markdown",
   "metadata": {},
   "source": [
    "#### Mean comparison"
   ]
  },
  {
   "cell_type": "code",
   "execution_count": 19,
   "metadata": {},
   "outputs": [
    {
     "name": "stdout",
     "output_type": "stream",
     "text": [
      "Mean in model OK   : 1.1652812957763672\n",
      "Mean in model ID2   : 1.3255397081375122\n",
      "Mean in model NN   : 1.130252480506897\n",
      "Mean in data    : 1.327910876878377\n",
      "Declustered mean: 1.2334635703750538\n"
     ]
    }
   ],
   "source": [
    "print (\"Mean in model OK   :\",  mymodel.bmtable['Au_OK'].mean())\n",
    "print (\"Mean in model ID2   :\",  mymodel.bmtable['Au_ID2'].mean())\n",
    "print (\"Mean in model NN   :\",  mymodel.bmtable['Au_NN'].mean())\n",
    "print (\"Mean in data    :\", mydholes.table[\"cmp\"]['Au'].mean())\n",
    "print (\"Declustered mean:\", decl_mean)"
   ]
  },
  {
   "cell_type": "markdown",
   "metadata": {},
   "source": [
    "#### Swath plots\n"
   ]
  },
  {
   "cell_type": "code",
   "execution_count": 20,
   "metadata": {},
   "outputs": [
    {
     "data": {
      "text/plain": [
       "<AxesSubplot:xlabel='XC'>"
      ]
     },
     "execution_count": 20,
     "metadata": {},
     "output_type": "execute_result"
    },
    {
     "data": {
      "image/png": "[encoded data removed]",
      "text/plain": [
       "<Figure size 432x288 with 1 Axes>"
      ]
     },
     "metadata": {
      "needs_background": "light"
     },
     "output_type": "display_data"
    }
   ],
   "source": [
    "mymodel.bmtable.groupby('XC')[['Au_OK','Au_ID2','Au_NN']].mean().plot()"
   ]
  },
  {
   "cell_type": "code",
   "execution_count": 21,
   "metadata": {},
   "outputs": [
    {
     "data": {
      "text/plain": [
       "<AxesSubplot:xlabel='YC'>"
      ]
     },
     "execution_count": 21,
     "metadata": {},
     "output_type": "execute_result"
    },
    {
     "data": {
      "image/png": "[encoded data removed]",
      "text/plain": [
       "<Figure size 432x288 with 1 Axes>"
      ]
     },
     "metadata": {
      "needs_background": "light"
     },
     "output_type": "display_data"
    }
   ],
   "source": [
    "mymodel.bmtable.groupby('YC')[['Au_OK','Au_ID2','Au_NN']].mean().plot()"
   ]
  },
  {
   "cell_type": "code",
   "execution_count": 22,
   "metadata": {},
   "outputs": [
    {
     "data": {
      "text/plain": [
       "<AxesSubplot:xlabel='ZC'>"
      ]
     },
     "execution_count": 22,
     "metadata": {},
     "output_type": "execute_result"
    },
    {
     "data": {
      "image/png": "[encoded data removed]",
      "text/plain": [
       "<Figure size 432x288 with 1 Axes>"
      ]
     },
     "metadata": {
      "needs_background": "light"
     },
     "output_type": "display_data"
    }
   ],
   "source": [
    "mymodel.bmtable.groupby('ZC')[['Au_OK','Au_ID2','Au_NN']].mean().plot()"
   ]
  },
  {
   "cell_type": "markdown",
   "metadata": {},
   "source": [
    "#### Global change of support  "
   ]
  },
  {
   "cell_type": "code",
   "execution_count": 23,
   "metadata": {},
   "outputs": [
    {
     "name": "stdout",
     "output_type": "stream",
     "text": [
      "Raw Variance 2.1061216069329984\n",
      "Variance from PCI 2.094884672460484\n",
      "zamin 0.03685925411414369\n",
      "zamax 9.442381351285942\n",
      "yamin -2.475495099019804\n",
      "yamax 2.7095419083816763\n",
      "zpmin 0.03681988794743433\n",
      "zpmax 9.55869048194472\n",
      "ypmin -2.7615523104620925\n",
      "ypmax 3.0176035207041405\n"
     ]
    },
    {
     "data": {
      "image/png": "[encoded data removed]",
      "text/plain": [
       "<Figure size 432x288 with 1 Axes>"
      ]
     },
     "metadata": {
      "needs_background": "light"
     },
     "output_type": "display_data"
    }
   ],
   "source": [
    "# Fit anamorphosis by changing, zmax, zmin, and extrapolation function\n",
    "PCI, H, raw, zana, gauss, z, P, raw_var, PCI_var, fig1 = pygslib.nonlinear.anamor(\n",
    "                         z = mydholes.table[\"cmp\"]['Au'], \n",
    "                         w = mydholes.table[\"cmp\"]['declustwt'], \n",
    "                         zmin = mydholes.table[\"cmp\"]['Au'].min(), \n",
    "                         zmax = mydholes.table[\"cmp\"]['Au'].max(),\n",
    "                         zpmin = None, zpmax = None,\n",
    "                         ymin=-5, ymax=5,\n",
    "                         ndisc = 5000,\n",
    "                         ltail=1, utail=4, ltpar=1, utpar=1.5, K=40)"
   ]
  },
  {
   "cell_type": "code",
   "execution_count": 24,
   "metadata": {},
   "outputs": [
    {
     "name": "stdout",
     "output_type": "stream",
     "text": [
      "cbb : 0.77792609791222\n",
      "r   : 0.6794841586261439\n"
     ]
    }
   ],
   "source": [
    "# calc block covariance\n",
    "parameters_cov = {\n",
    "           # Coordinates of the discretization points (using 500 points located at random in the block)\n",
    "            'xdb'  :  np.random.rand(1000)*5, # array('f')\n",
    "            'ydb'  :  np.random.rand(1000)*5, # array('f')\n",
    "            'zdb'  :  np.random.rand(1000)*5, # array('f')\n",
    "           # Variogram model\n",
    "            'c0'         : 0.1,   \n",
    "            'it'         : [1],    \n",
    "            'cc'         : [.9],     \n",
    "            'aa'         : [100],   \n",
    "            'aa1'        : [100],  \n",
    "            'aa2'        : [20],   \n",
    "            'ang1'       : [0],   \n",
    "            'ang2'       : [0],  \n",
    "            'ang3'       : [-15]} \n",
    "\n",
    "\n",
    "cbb = pygslib.gslib.block_covariance(parameters_cov)\n",
    "\n",
    "# calculate the support correction coefficient r\n",
    "r = pygslib.nonlinear.get_r(Var_Zv = cbb, PCI = PCI)\n",
    "\n",
    "print ('cbb :', cbb)\n",
    "print ('r   :', r)"
   ]
  },
  {
   "cell_type": "code",
   "execution_count": 25,
   "metadata": {},
   "outputs": [
    {
     "data": {
      "image/png": "[encoded data removed]",
      "text/plain": [
       "<Figure size 432x288 with 1 Axes>"
      ]
     },
     "metadata": {
      "needs_background": "light"
     },
     "output_type": "display_data"
    }
   ],
   "source": [
    "# fit block anamorphosis\n",
    "ZV, PV, fig2 = pygslib.nonlinear.anamor_blk( PCI, H, r = r, gauss = gauss, Z = z,\n",
    "                  ltail=1, utail=1, ltpar=1, utpar=1,\n",
    "                  raw=raw, zana=zana)"
   ]
  },
  {
   "cell_type": "code",
   "execution_count": 26,
   "metadata": {},
   "outputs": [],
   "source": [
    "# calculate grade tonnage courve\n",
    "\n",
    "cutoff = np.arange(0, 3, 0.01)\n",
    "tt = []\n",
    "gg = []\n",
    "label = []\n",
    "\n",
    "# calculate GTC from gaussian in block support \n",
    "t,ga,gb = pygslib.nonlinear.gtcurve (cutoff = cutoff, z=ZV, p=PV, varred = 1, ivtyp = 0, zmin = 0, zmax = None,\n",
    "             ltail = 1, ltpar = 1, middle = 1, mpar = 1, utail = 1, utpar = 1,maxdis = 1000)\n",
    "tt.append(t)\n",
    "gg.append(ga)\n",
    "label.append('DGM with block support')"
   ]
  },
  {
   "cell_type": "code",
   "execution_count": 27,
   "metadata": {},
   "outputs": [
    {
     "data": {
      "image/png": "[encoded data removed]",
      "text/plain": [
       "<Figure size 460.8x345.6 with 2 Axes>"
      ]
     },
     "metadata": {
      "needs_background": "light"
     },
     "output_type": "display_data"
    }
   ],
   "source": [
    "# see how it look with GCOS. This is also know as global estimation\n",
    "fig = pygslib.nonlinear.plotgt(cutoff = cutoff, t = tt, g = gg, label = label)"
   ]
  },
  {
   "cell_type": "code",
   "execution_count": 28,
   "metadata": {},
   "outputs": [],
   "source": [
    "# to compare global resources with the one estimated we calculate the CDF of the blocks\n",
    "\n",
    "# cdf of kriging estimate\n",
    "parameters_probplt = {\n",
    "        'iwt'  : 0,                             #int, 1 use declustering weight\n",
    "        'va'   : mymodel.bmtable['Au_OK'][mymodel.bmtable['Au_OK'].notnull()].values,             # array('d') with bounds (nd)\n",
    "        'wt'   : np.ones(mymodel.bmtable['Au_OK'][mymodel.bmtable['Au_OK'].notnull()].shape[0])} # array('d') with bounds (nd), wight variable (obtained with declust?)\n",
    "\n",
    "\n",
    "binval_ok,cl_ok,xpt025,xlqt,xmed,xuqt,xpt975,xmin,xmax, \\\n",
    "xcvr,xmen,xvar,error = pygslib.gslib.__plot.probplt(**parameters_probplt)\n",
    "\n",
    "# cdf of id2\n",
    "parameters_probplt = {\n",
    "        'iwt'  : 0,                             #int, 1 use declustering weight\n",
    "        'va'   : mymodel.bmtable['Au_ID2'][mymodel.bmtable['Au_OK'].notnull()].values,             # array('d') with bounds (nd)\n",
    "        'wt'   : np.ones(mymodel.bmtable['Au_OK'][mymodel.bmtable['Au_OK'].notnull()].shape[0])} # array('d') with bounds (nd), wight variable (obtained with declust?)\n",
    "\n",
    "binval_id2,cl_id2,xpt025,xlqt,xmed,xuqt,xpt975,xmin,xmax, \\\n",
    "xcvr,xmen,xvar,error = pygslib.gslib.__plot.probplt(**parameters_probplt)"
   ]
  },
  {
   "cell_type": "code",
   "execution_count": 29,
   "metadata": {},
   "outputs": [],
   "source": [
    "# calculate GTC ok \n",
    "t,ga,gb = pygslib.nonlinear.gtcurve (cutoff = cutoff, z=cl_ok, p=binval_ok, varred = 1, ivtyp = 2, zmin = 0, zmax = None,\n",
    "             ltail = 1, ltpar = 1, middle = 1, mpar = 1, utail = 1, utpar = 1,maxdis = 1000)\n",
    "tt.append(t)\n",
    "gg.append(ga)\n",
    "label.append('Ordinary Kriging')\n",
    "\n",
    "# calculate GTC in block support\n",
    "t,ga,gb = pygslib.nonlinear.gtcurve (cutoff = cutoff, z=cl_id2, p=binval_id2, varred = 1, ivtyp = 2, zmin = 0, zmax = None,\n",
    "             ltail = 1, ltpar = 1, middle = 1, mpar = 1, utail = 1, utpar = 1,maxdis = 1000)\n",
    "tt.append(t)\n",
    "gg.append(ga)\n",
    "label.append('Inverse of the Distance 2)')"
   ]
  },
  {
   "cell_type": "code",
   "execution_count": 30,
   "metadata": {},
   "outputs": [
    {
     "data": {
      "image/png": "[encoded data removed]",
      "text/plain": [
       "<Figure size 460.8x345.6 with 2 Axes>"
      ]
     },
     "metadata": {
      "needs_background": "light"
     },
     "output_type": "display_data"
    }
   ],
   "source": [
    "fig = pygslib.nonlinear.plotgt(cutoff = cutoff, t = tt, g = gg, label = label)"
   ]
  },
  {
   "cell_type": "code",
   "execution_count": 31,
   "metadata": {},
   "outputs": [
    {
     "data": {
      "text/plain": [
       "<matplotlib.legend.Legend at 0x168df845eb0>"
      ]
     },
     "execution_count": 31,
     "metadata": {},
     "output_type": "execute_result"
    },
    {
     "data": {
      "image/png": "[encoded data removed]",
      "text/plain": [
       "<Figure size 432x288 with 1 Axes>"
      ]
     },
     "metadata": {
      "needs_background": "light"
     },
     "output_type": "display_data"
    }
   ],
   "source": [
    "# we can plot diferences (relative error in grade)\n",
    "plt.plot (cutoff, gg[0]-gg[1], label = 'DGM - OK')\n",
    "plt.plot (cutoff, gg[0]-gg[2], label = 'DGM - ID2')\n",
    "plt.plot (cutoff, np.zeros(cutoff.shape[0]),'--k', label = 'Zero error')\n",
    "plt.title('relative error in grade')\n",
    "plt.xlabel ('cutoff')\n",
    "plt.ylabel ('relative error')\n",
    "plt.legend()"
   ]
  },
  {
   "cell_type": "code",
   "execution_count": 32,
   "metadata": {},
   "outputs": [
    {
     "data": {
      "text/plain": [
       "Text(0.5, 1.0, 'relative error in tonnage')"
      ]
     },
     "execution_count": 32,
     "metadata": {},
     "output_type": "execute_result"
    },
    {
     "data": {
      "image/png": "[encoded data removed]",
      "text/plain": [
       "<Figure size 432x288 with 1 Axes>"
      ]
     },
     "metadata": {
      "needs_background": "light"
     },
     "output_type": "display_data"
    }
   ],
   "source": [
    "# we can plot diferences (relative error in tonnage)\n",
    "plt.plot (cutoff, tt[0]-tt[1], label = 'DGM - OK')\n",
    "plt.plot (cutoff, tt[0]-tt[2], label = 'DGM - ID2')\n",
    "plt.plot (cutoff, np.zeros(cutoff.shape[0]),'--k', label = 'Zero error')\n",
    "plt.legend()\n",
    "plt.xlabel ('cutoff')\n",
    "plt.ylabel ('relative error')\n",
    "plt.title('relative error in tonnage')"
   ]
  },
  {
   "cell_type": "code",
   "execution_count": null,
   "metadata": {},
   "outputs": [],
   "source": []
  },
  {
   "cell_type": "code",
   "execution_count": null,
   "metadata": {},
   "outputs": [],
   "source": []
  }
 ],
 "metadata": {
  "kernelspec": {
   "display_name": "Python 3",
   "language": "python",
   "name": "python3"
  },
  "language_info": {
   "codemirror_mode": {
    "name": "ipython",
    "version": 3
   },
   "file_extension": ".py",
   "mimetype": "text/x-python",
   "name": "python",
   "nbconvert_exporter": "python",
   "pygments_lexer": "ipython3",
   "version": "3.8.6"
  }
 },
 "nbformat": 4,
 "nbformat_minor": 4
}

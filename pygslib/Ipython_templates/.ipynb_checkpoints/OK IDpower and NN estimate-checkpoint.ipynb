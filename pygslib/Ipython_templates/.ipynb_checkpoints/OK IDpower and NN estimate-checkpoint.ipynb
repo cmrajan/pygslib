{
 "cells": [
  {
   "cell_type": "markdown",
   "metadata": {},
   "source": [
    "# Basic example KT3D OK, IDpower and NN estimate \n",
    "\n",
    "This example shows how to obtain simultaneous ordinary kriging, inverse to the power of the distance and nearest neighbor estimates using ``pygslib.gslib.KT3D``.\n"
   ]
  },
  {
   "cell_type": "code",
   "execution_count": 1,
   "metadata": {},
   "outputs": [],
   "source": [
    "# import third party python libraries\n",
    "import matplotlib.pylab as plt\n",
    "# make plots inline\n",
    "%matplotlib inline"
   ]
  },
  {
   "cell_type": "code",
   "execution_count": 6,
   "metadata": {},
   "outputs": [],
   "source": [
    "# import pygslib\n",
    "import pygslib\n",
    "import numpy as np"
   ]
  },
  {
   "cell_type": "code",
   "execution_count": 7,
   "metadata": {},
   "outputs": [
    {
     "data": {
      "text/plain": [
       "[<matplotlib.lines.Line2D at 0x143265b6970>]"
      ]
     },
     "execution_count": 7,
     "metadata": {},
     "output_type": "execute_result"
    },
    {
     "data": {
      "image/png": "[encoded data removed]",
      "text/plain": [
       "<Figure size 432x288 with 1 Axes>"
      ]
     },
     "metadata": {
      "needs_background": "light"
     },
     "output_type": "display_data"
    }
   ],
   "source": [
    "# target point\n",
    "xc = np.array([0])\n",
    "yc = np.array([0])\n",
    "zc = np.array([0])\n",
    "\n",
    "# data\n",
    "x = np.array([1.5,1.2,0,-1,0])\n",
    "y = np.array([1.5,0,1.1,0,-0.5])\n",
    "z = np.array([0,0,0,0, 0])\n",
    "vr = np.array([1,2,3,4,5])\n",
    "bhid = np.array([1,2,3,4,5])\n",
    "\n",
    "# see points location\n",
    "plt.plot (xc,yc, '*', markersize=20)\n",
    "plt.plot (x,y, 'o',  markersize=10)\n"
   ]
  },
  {
   "cell_type": "code",
   "execution_count": 8,
   "metadata": {},
   "outputs": [],
   "source": [
    "# creating parameter dictionary for estimation in one point\n",
    "kt3d_Parameters = {\n",
    "            # Input Data \n",
    "            # ----------\n",
    "            'x' : x, \n",
    "            'y' : y,\n",
    "            'z' : z,\n",
    "            'vr' : vr,\n",
    "            # Output (Target point) \n",
    "            # ----------\n",
    "            'nx' : 1,  \n",
    "            'ny' : 1,  \n",
    "            'nz' : 1, \n",
    "            'xmn' : 0,  \n",
    "            'ymn' : 0,  \n",
    "            'zmn' : 0,  \n",
    "            'xsiz' : 1,  \n",
    "            'ysiz' : 1,   \n",
    "            'zsiz' : 1, \n",
    "            'nxdis' : 1,  \n",
    "            'nydis' : 1,  \n",
    "            'nzdis' : 1,  \n",
    "            'outx' : xc,\n",
    "            'outy' : yc,\n",
    "            'outz' : zc,\n",
    "            # Search parameters \n",
    "            # ----------\n",
    "            'radius'     : 850,   \n",
    "            'radius1'    : 850,   \n",
    "            'radius2'    : 250,   \n",
    "            'sang1'      : -28,  \n",
    "            'sang2'      : 34,   \n",
    "            'sang3'      : 7,   \n",
    "            'ndmax'      : 12,    \n",
    "            'ndmin'      : 1,  \n",
    "            'noct'       : 0,\n",
    "            # Kriging parameters and options \n",
    "            # ----------\n",
    "            'ktype'      : 1,   # 1 Ordinary kriging \n",
    "            'idbg'       : 0,   # 0 no debug \n",
    "            # ID power parameter\n",
    "            'id2power'   :2.0,   # the power applied to the inverse of the distance\n",
    "            # Variogram parameters \n",
    "            # ----------\n",
    "            'c0'         : 0.35,    \n",
    "            'it'         : [2,2],    \n",
    "            'cc'         : [0.41,0.23], \n",
    "            'aa'         : [96,1117],   \n",
    "            'aa1'        : [96,1117],  \n",
    "            'aa2'        : [96,300],   \n",
    "            'ang1'       : [-28,-28],   \n",
    "            'ang2'       : [ 34, 34],  \n",
    "            'ang3'       : [  7,  7]} "
   ]
  },
  {
   "cell_type": "code",
   "execution_count": 9,
   "metadata": {},
   "outputs": [],
   "source": [
    "# estimating\n",
    "estimate, debug, summary = pygslib.gslib.kt3d(kt3d_Parameters)"
   ]
  },
  {
   "cell_type": "code",
   "execution_count": 10,
   "metadata": {},
   "outputs": [
    {
     "name": "stdout",
     "output_type": "stream",
     "text": [
      "{'x': array([0]), 'y': array([0]), 'z': array([0]), 'outidpower': array([4.1657987], dtype=float32), 'outnn': array([5.], dtype=float32), 'outest': array([3.0942636], dtype=float32), 'outkvar': array([0.43245965], dtype=float32), 'outlagrange': array([-0.06698406], dtype=float32)}\n"
     ]
    }
   ],
   "source": [
    "print (estimate)"
   ]
  },
  {
   "cell_type": "code",
   "execution_count": 11,
   "metadata": {},
   "outputs": [
    {
     "name": "stdout",
     "output_type": "stream",
     "text": [
      "NN estimate : [5.]\n",
      "ID2 estimate : [4.1657987]\n",
      "OK estimate : [3.0942636]\n"
     ]
    }
   ],
   "source": [
    "print (\"NN estimate :\", estimate['outnn'])\n",
    "print (\"ID2 estimate :\", estimate['outidpower'])\n",
    "print (\"OK estimate :\", estimate['outest'])"
   ]
  },
  {
   "cell_type": "code",
   "execution_count": null,
   "metadata": {
    "collapsed": true,
    "jupyter": {
     "outputs_hidden": true
    }
   },
   "outputs": [],
   "source": []
  }
 ],
 "metadata": {
  "anaconda-cloud": {},
  "kernelspec": {
   "display_name": "Python 3",
   "language": "python",
   "name": "python3"
  },
  "language_info": {
   "codemirror_mode": {
    "name": "ipython",
    "version": 3
   },
   "file_extension": ".py",
   "mimetype": "text/x-python",
   "name": "python",
   "nbconvert_exporter": "python",
   "pygments_lexer": "ipython3",
   "version": "3.8.6"
  }
 },
 "nbformat": 4,
 "nbformat_minor": 4
}

{
 "cells": [
  {
   "cell_type": "markdown",
   "metadata": {},
   "source": [
    "PyGSLIB\n",
    "========\n",
    "\n",
    "bigaus\n",
    "---------------\n",
    "\n",
    "\n"
   ]
  },
  {
   "cell_type": "code",
   "execution_count": 1,
   "metadata": {},
   "outputs": [
    {
     "data": {
      "application/javascript": [
       "\n",
       "(function(root) {\n",
       "  function now() {\n",
       "    return new Date();\n",
       "  }\n",
       "\n",
       "  var force = true;\n",
       "\n",
       "  if (typeof root._bokeh_onload_callbacks === \"undefined\" || force === true) {\n",
       "    root._bokeh_onload_callbacks = [];\n",
       "    root._bokeh_is_loading = undefined;\n",
       "  }\n",
       "\n",
       "  var JS_MIME_TYPE = 'application/javascript';\n",
       "  var HTML_MIME_TYPE = 'text/html';\n",
       "  var EXEC_MIME_TYPE = 'application/vnd.bokehjs_exec.v0+json';\n",
       "  var CLASS_NAME = 'output_bokeh rendered_html';\n",
       "\n",
       "  /**\n",
       "   * Render data to the DOM node\n",
       "   */\n",
       "  function render(props, node) {\n",
       "    var script = document.createElement(\"script\");\n",
       "    node.appendChild(script);\n",
       "  }\n",
       "\n",
       "  /**\n",
       "   * Handle when an output is cleared or removed\n",
       "   */\n",
       "  function handleClearOutput(event, handle) {\n",
       "    var cell = handle.cell;\n",
       "\n",
       "    var id = cell.output_area._bokeh_element_id;\n",
       "    var server_id = cell.output_area._bokeh_server_id;\n",
       "    // Clean up Bokeh references\n",
       "    if (id != null && id in Bokeh.index) {\n",
       "      Bokeh.index[id].model.document.clear();\n",
       "      delete Bokeh.index[id];\n",
       "    }\n",
       "\n",
       "    if (server_id !== undefined) {\n",
       "      // Clean up Bokeh references\n",
       "      var cmd = \"from bokeh.io.state import curstate; print(curstate().uuid_to_server['\" + server_id + \"'].get_sessions()[0].document.roots[0]._id)\";\n",
       "      cell.notebook.kernel.execute(cmd, {\n",
       "        iopub: {\n",
       "          output: function(msg) {\n",
       "            var id = msg.content.text.trim();\n",
       "            if (id in Bokeh.index) {\n",
       "              Bokeh.index[id].model.document.clear();\n",
       "              delete Bokeh.index[id];\n",
       "            }\n",
       "          }\n",
       "        }\n",
       "      });\n",
       "      // Destroy server and session\n",
       "      var cmd = \"import bokeh.io.notebook as ion; ion.destroy_server('\" + server_id + \"')\";\n",
       "      cell.notebook.kernel.execute(cmd);\n",
       "    }\n",
       "  }\n",
       "\n",
       "  /**\n",
       "   * Handle when a new output is added\n",
       "   */\n",
       "  function handleAddOutput(event, handle) {\n",
       "    var output_area = handle.output_area;\n",
       "    var output = handle.output;\n",
       "\n",
       "    // limit handleAddOutput to display_data with EXEC_MIME_TYPE content only\n",
       "    if ((output.output_type != \"display_data\") || (!output.data.hasOwnProperty(EXEC_MIME_TYPE))) {\n",
       "      return\n",
       "    }\n",
       "\n",
       "    var toinsert = output_area.element.find(\".\" + CLASS_NAME.split(' ')[0]);\n",
       "\n",
       "    if (output.metadata[EXEC_MIME_TYPE][\"id\"] !== undefined) {\n",
       "      toinsert[toinsert.length - 1].firstChild.textContent = output.data[JS_MIME_TYPE];\n",
       "      // store reference to embed id on output_area\n",
       "      output_area._bokeh_element_id = output.metadata[EXEC_MIME_TYPE][\"id\"];\n",
       "    }\n",
       "    if (output.metadata[EXEC_MIME_TYPE][\"server_id\"] !== undefined) {\n",
       "      var bk_div = document.createElement(\"div\");\n",
       "      bk_div.innerHTML = output.data[HTML_MIME_TYPE];\n",
       "      var script_attrs = bk_div.children[0].attributes;\n",
       "      for (var i = 0; i < script_attrs.length; i++) {\n",
       "        toinsert[toinsert.length - 1].firstChild.setAttribute(script_attrs[i].name, script_attrs[i].value);\n",
       "        toinsert[toinsert.length - 1].firstChild.textContent = bk_div.children[0].textContent\n",
       "      }\n",
       "      // store reference to server id on output_area\n",
       "      output_area._bokeh_server_id = output.metadata[EXEC_MIME_TYPE][\"server_id\"];\n",
       "    }\n",
       "  }\n",
       "\n",
       "  function register_renderer(events, OutputArea) {\n",
       "\n",
       "    function append_mime(data, metadata, element) {\n",
       "      // create a DOM node to render to\n",
       "      var toinsert = this.create_output_subarea(\n",
       "        metadata,\n",
       "        CLASS_NAME,\n",
       "        EXEC_MIME_TYPE\n",
       "      );\n",
       "      this.keyboard_manager.register_events(toinsert);\n",
       "      // Render to node\n",
       "      var props = {data: data, metadata: metadata[EXEC_MIME_TYPE]};\n",
       "      render(props, toinsert[toinsert.length - 1]);\n",
       "      element.append(toinsert);\n",
       "      return toinsert\n",
       "    }\n",
       "\n",
       "    /* Handle when an output is cleared or removed */\n",
       "    events.on('clear_output.CodeCell', handleClearOutput);\n",
       "    events.on('delete.Cell', handleClearOutput);\n",
       "\n",
       "    /* Handle when a new output is added */\n",
       "    events.on('output_added.OutputArea', handleAddOutput);\n",
       "\n",
       "    /**\n",
       "     * Register the mime type and append_mime function with output_area\n",
       "     */\n",
       "    OutputArea.prototype.register_mime_type(EXEC_MIME_TYPE, append_mime, {\n",
       "      /* Is output safe? */\n",
       "      safe: true,\n",
       "      /* Index of renderer in `output_area.display_order` */\n",
       "      index: 0\n",
       "    });\n",
       "  }\n",
       "\n",
       "  // register the mime type if in Jupyter Notebook environment and previously unregistered\n",
       "  if (root.Jupyter !== undefined) {\n",
       "    var events = require('base/js/events');\n",
       "    var OutputArea = require('notebook/js/outputarea').OutputArea;\n",
       "\n",
       "    if (OutputArea.prototype.mime_types().indexOf(EXEC_MIME_TYPE) == -1) {\n",
       "      register_renderer(events, OutputArea);\n",
       "    }\n",
       "  }\n",
       "\n",
       "  \n",
       "  if (typeof (root._bokeh_timeout) === \"undefined\" || force === true) {\n",
       "    root._bokeh_timeout = Date.now() + 5000;\n",
       "    root._bokeh_failed_load = false;\n",
       "  }\n",
       "\n",
       "  var NB_LOAD_WARNING = {'data': {'text/html':\n",
       "     \"<div style='background-color: #fdd'>\\n\"+\n",
       "     \"<p>\\n\"+\n",
       "     \"BokehJS does not appear to have successfully loaded. If loading BokehJS from CDN, this \\n\"+\n",
       "     \"may be due to a slow or bad network connection. Possible fixes:\\n\"+\n",
       "     \"</p>\\n\"+\n",
       "     \"<ul>\\n\"+\n",
       "     \"<li>re-rerun `output_notebook()` to attempt to load from CDN again, or</li>\\n\"+\n",
       "     \"<li>use INLINE resources instead, as so:</li>\\n\"+\n",
       "     \"</ul>\\n\"+\n",
       "     \"<code>\\n\"+\n",
       "     \"from bokeh.resources import INLINE\\n\"+\n",
       "     \"output_notebook(resources=INLINE)\\n\"+\n",
       "     \"</code>\\n\"+\n",
       "     \"</div>\"}};\n",
       "\n",
       "  function display_loaded() {\n",
       "    var el = document.getElementById(null);\n",
       "    if (el != null) {\n",
       "      el.textContent = \"BokehJS is loading...\";\n",
       "    }\n",
       "    if (root.Bokeh !== undefined) {\n",
       "      if (el != null) {\n",
       "        el.textContent = \"BokehJS \" + root.Bokeh.version + \" successfully loaded.\";\n",
       "      }\n",
       "    } else if (Date.now() < root._bokeh_timeout) {\n",
       "      setTimeout(display_loaded, 100)\n",
       "    }\n",
       "  }\n",
       "\n",
       "\n",
       "  function run_callbacks() {\n",
       "    try {\n",
       "      root._bokeh_onload_callbacks.forEach(function(callback) {\n",
       "        if (callback != null)\n",
       "          callback();\n",
       "      });\n",
       "    } finally {\n",
       "      delete root._bokeh_onload_callbacks\n",
       "    }\n",
       "    console.debug(\"Bokeh: all callbacks have finished\");\n",
       "  }\n",
       "\n",
       "  function load_libs(css_urls, js_urls, callback) {\n",
       "    if (css_urls == null) css_urls = [];\n",
       "    if (js_urls == null) js_urls = [];\n",
       "\n",
       "    root._bokeh_onload_callbacks.push(callback);\n",
       "    if (root._bokeh_is_loading > 0) {\n",
       "      console.debug(\"Bokeh: BokehJS is being loaded, scheduling callback at\", now());\n",
       "      return null;\n",
       "    }\n",
       "    if (js_urls == null || js_urls.length === 0) {\n",
       "      run_callbacks();\n",
       "      return null;\n",
       "    }\n",
       "    console.debug(\"Bokeh: BokehJS not loaded, scheduling load and callback at\", now());\n",
       "    root._bokeh_is_loading = css_urls.length + js_urls.length;\n",
       "\n",
       "    function on_load() {\n",
       "      root._bokeh_is_loading--;\n",
       "      if (root._bokeh_is_loading === 0) {\n",
       "        console.debug(\"Bokeh: all BokehJS libraries/stylesheets loaded\");\n",
       "        run_callbacks()\n",
       "      }\n",
       "    }\n",
       "\n",
       "    function on_error() {\n",
       "      console.error(\"failed to load \" + url);\n",
       "    }\n",
       "\n",
       "    for (var i = 0; i < css_urls.length; i++) {\n",
       "      var url = css_urls[i];\n",
       "      const element = document.createElement(\"link\");\n",
       "      element.onload = on_load;\n",
       "      element.onerror = on_error;\n",
       "      element.rel = \"stylesheet\";\n",
       "      element.type = \"text/css\";\n",
       "      element.href = url;\n",
       "      console.debug(\"Bokeh: injecting link tag for BokehJS stylesheet: \", url);\n",
       "      document.body.appendChild(element);\n",
       "    }\n",
       "\n",
       "    const hashes = {\"https://cdn.bokeh.org/bokeh/release/bokeh-2.2.3.min.js\": \"T2yuo9Oe71Cz/I4X9Ac5+gpEa5a8PpJCDlqKYO0CfAuEszu1JrXLl8YugMqYe3sM\", \"https://cdn.bokeh.org/bokeh/release/bokeh-widgets-2.2.3.min.js\": \"98GDGJ0kOMCUMUePhksaQ/GYgB3+NH9h996V88sh3aOiUNX3N+fLXAtry6xctSZ6\", \"https://cdn.bokeh.org/bokeh/release/bokeh-tables-2.2.3.min.js\": \"89bArO+nlbP3sgakeHjCo1JYxYR5wufVgA3IbUvDY+K7w4zyxJqssu7wVnfeKCq8\"};\n",
       "\n",
       "    for (var i = 0; i < js_urls.length; i++) {\n",
       "      var url = js_urls[i];\n",
       "      var element = document.createElement('script');\n",
       "      element.onload = on_load;\n",
       "      element.onerror = on_error;\n",
       "      element.async = false;\n",
       "      element.src = url;\n",
       "      if (url in hashes) {\n",
       "        element.crossOrigin = \"anonymous\";\n",
       "        element.integrity = \"sha384-\" + hashes[url];\n",
       "      }\n",
       "      console.debug(\"Bokeh: injecting script tag for BokehJS library: \", url);\n",
       "      document.head.appendChild(element);\n",
       "    }\n",
       "  };\n",
       "\n",
       "  function inject_raw_css(css) {\n",
       "    const element = document.createElement(\"style\");\n",
       "    element.appendChild(document.createTextNode(css));\n",
       "    document.body.appendChild(element);\n",
       "  }\n",
       "\n",
       "  \n",
       "  var js_urls = [\"https://cdn.bokeh.org/bokeh/release/bokeh-2.2.3.min.js\", \"https://cdn.bokeh.org/bokeh/release/bokeh-widgets-2.2.3.min.js\", \"https://cdn.bokeh.org/bokeh/release/bokeh-tables-2.2.3.min.js\"];\n",
       "  var css_urls = [];\n",
       "  \n",
       "\n",
       "  var inline_js = [\n",
       "    function(Bokeh) {\n",
       "      Bokeh.set_log_level(\"info\");\n",
       "    },\n",
       "    function(Bokeh) {\n",
       "    \n",
       "    \n",
       "    }\n",
       "  ];\n",
       "\n",
       "  function run_inline_js() {\n",
       "    \n",
       "    if (root.Bokeh !== undefined || force === true) {\n",
       "      \n",
       "    for (var i = 0; i < inline_js.length; i++) {\n",
       "      inline_js[i].call(root, root.Bokeh);\n",
       "    }\n",
       "    } else if (Date.now() < root._bokeh_timeout) {\n",
       "      setTimeout(run_inline_js, 100);\n",
       "    } else if (!root._bokeh_failed_load) {\n",
       "      console.log(\"Bokeh: BokehJS failed to load within specified timeout.\");\n",
       "      root._bokeh_failed_load = true;\n",
       "    } else if (force !== true) {\n",
       "      var cell = $(document.getElementById(null)).parents('.cell').data().cell;\n",
       "      cell.output_area.append_execute_result(NB_LOAD_WARNING)\n",
       "    }\n",
       "\n",
       "  }\n",
       "\n",
       "  if (root._bokeh_is_loading === 0) {\n",
       "    console.debug(\"Bokeh: BokehJS loaded, going straight to plotting\");\n",
       "    run_inline_js();\n",
       "  } else {\n",
       "    load_libs(css_urls, js_urls, function() {\n",
       "      console.debug(\"Bokeh: BokehJS plotting callback run at\", now());\n",
       "      run_inline_js();\n",
       "    });\n",
       "  }\n",
       "}(window));"
      ],
      "application/vnd.bokehjs_load.v0+json": "\n(function(root) {\n  function now() {\n    return new Date();\n  }\n\n  var force = true;\n\n  if (typeof root._bokeh_onload_callbacks === \"undefined\" || force === true) {\n    root._bokeh_onload_callbacks = [];\n    root._bokeh_is_loading = undefined;\n  }\n\n  \n\n  \n  if (typeof (root._bokeh_timeout) === \"undefined\" || force === true) {\n    root._bokeh_timeout = Date.now() + 5000;\n    root._bokeh_failed_load = false;\n  }\n\n  var NB_LOAD_WARNING = {'data': {'text/html':\n     \"<div style='background-color: #fdd'>\\n\"+\n     \"<p>\\n\"+\n     \"BokehJS does not appear to have successfully loaded. If loading BokehJS from CDN, this \\n\"+\n     \"may be due to a slow or bad network connection. Possible fixes:\\n\"+\n     \"</p>\\n\"+\n     \"<ul>\\n\"+\n     \"<li>re-rerun `output_notebook()` to attempt to load from CDN again, or</li>\\n\"+\n     \"<li>use INLINE resources instead, as so:</li>\\n\"+\n     \"</ul>\\n\"+\n     \"<code>\\n\"+\n     \"from bokeh.resources import INLINE\\n\"+\n     \"output_notebook(resources=INLINE)\\n\"+\n     \"</code>\\n\"+\n     \"</div>\"}};\n\n  function display_loaded() {\n    var el = document.getElementById(null);\n    if (el != null) {\n      el.textContent = \"BokehJS is loading...\";\n    }\n    if (root.Bokeh !== undefined) {\n      if (el != null) {\n        el.textContent = \"BokehJS \" + root.Bokeh.version + \" successfully loaded.\";\n      }\n    } else if (Date.now() < root._bokeh_timeout) {\n      setTimeout(display_loaded, 100)\n    }\n  }\n\n\n  function run_callbacks() {\n    try {\n      root._bokeh_onload_callbacks.forEach(function(callback) {\n        if (callback != null)\n          callback();\n      });\n    } finally {\n      delete root._bokeh_onload_callbacks\n    }\n    console.debug(\"Bokeh: all callbacks have finished\");\n  }\n\n  function load_libs(css_urls, js_urls, callback) {\n    if (css_urls == null) css_urls = [];\n    if (js_urls == null) js_urls = [];\n\n    root._bokeh_onload_callbacks.push(callback);\n    if (root._bokeh_is_loading > 0) {\n      console.debug(\"Bokeh: BokehJS is being loaded, scheduling callback at\", now());\n      return null;\n    }\n    if (js_urls == null || js_urls.length === 0) {\n      run_callbacks();\n      return null;\n    }\n    console.debug(\"Bokeh: BokehJS not loaded, scheduling load and callback at\", now());\n    root._bokeh_is_loading = css_urls.length + js_urls.length;\n\n    function on_load() {\n      root._bokeh_is_loading--;\n      if (root._bokeh_is_loading === 0) {\n        console.debug(\"Bokeh: all BokehJS libraries/stylesheets loaded\");\n        run_callbacks()\n      }\n    }\n\n    function on_error() {\n      console.error(\"failed to load \" + url);\n    }\n\n    for (var i = 0; i < css_urls.length; i++) {\n      var url = css_urls[i];\n      const element = document.createElement(\"link\");\n      element.onload = on_load;\n      element.onerror = on_error;\n      element.rel = \"stylesheet\";\n      element.type = \"text/css\";\n      element.href = url;\n      console.debug(\"Bokeh: injecting link tag for BokehJS stylesheet: \", url);\n      document.body.appendChild(element);\n    }\n\n    const hashes = {\"https://cdn.bokeh.org/bokeh/release/bokeh-2.2.3.min.js\": \"T2yuo9Oe71Cz/I4X9Ac5+gpEa5a8PpJCDlqKYO0CfAuEszu1JrXLl8YugMqYe3sM\", \"https://cdn.bokeh.org/bokeh/release/bokeh-widgets-2.2.3.min.js\": \"98GDGJ0kOMCUMUePhksaQ/GYgB3+NH9h996V88sh3aOiUNX3N+fLXAtry6xctSZ6\", \"https://cdn.bokeh.org/bokeh/release/bokeh-tables-2.2.3.min.js\": \"89bArO+nlbP3sgakeHjCo1JYxYR5wufVgA3IbUvDY+K7w4zyxJqssu7wVnfeKCq8\"};\n\n    for (var i = 0; i < js_urls.length; i++) {\n      var url = js_urls[i];\n      var element = document.createElement('script');\n      element.onload = on_load;\n      element.onerror = on_error;\n      element.async = false;\n      element.src = url;\n      if (url in hashes) {\n        element.crossOrigin = \"anonymous\";\n        element.integrity = \"sha384-\" + hashes[url];\n      }\n      console.debug(\"Bokeh: injecting script tag for BokehJS library: \", url);\n      document.head.appendChild(element);\n    }\n  };\n\n  function inject_raw_css(css) {\n    const element = document.createElement(\"style\");\n    element.appendChild(document.createTextNode(css));\n    document.body.appendChild(element);\n  }\n\n  \n  var js_urls = [\"https://cdn.bokeh.org/bokeh/release/bokeh-2.2.3.min.js\", \"https://cdn.bokeh.org/bokeh/release/bokeh-widgets-2.2.3.min.js\", \"https://cdn.bokeh.org/bokeh/release/bokeh-tables-2.2.3.min.js\"];\n  var css_urls = [];\n  \n\n  var inline_js = [\n    function(Bokeh) {\n      Bokeh.set_log_level(\"info\");\n    },\n    function(Bokeh) {\n    \n    \n    }\n  ];\n\n  function run_inline_js() {\n    \n    if (root.Bokeh !== undefined || force === true) {\n      \n    for (var i = 0; i < inline_js.length; i++) {\n      inline_js[i].call(root, root.Bokeh);\n    }\n    } else if (Date.now() < root._bokeh_timeout) {\n      setTimeout(run_inline_js, 100);\n    } else if (!root._bokeh_failed_load) {\n      console.log(\"Bokeh: BokehJS failed to load within specified timeout.\");\n      root._bokeh_failed_load = true;\n    } else if (force !== true) {\n      var cell = $(document.getElementById(null)).parents('.cell').data().cell;\n      cell.output_area.append_execute_result(NB_LOAD_WARNING)\n    }\n\n  }\n\n  if (root._bokeh_is_loading === 0) {\n    console.debug(\"Bokeh: BokehJS loaded, going straight to plotting\");\n    run_inline_js();\n  } else {\n    load_libs(css_urls, js_urls, function() {\n      console.debug(\"Bokeh: BokehJS plotting callback run at\", now());\n      run_inline_js();\n    });\n  }\n}(window));"
     },
     "metadata": {},
     "output_type": "display_data"
    }
   ],
   "source": [
    "#general imports\n",
    "import matplotlib.pyplot as plt   \n",
    "import pygslib                 \n",
    "import numpy as np \n",
    "import pandas as pd\n",
    "\n",
    "\n",
    "#make the plots inline\n",
    "%matplotlib inline  "
   ]
  },
  {
   "cell_type": "code",
   "execution_count": 2,
   "metadata": {},
   "outputs": [],
   "source": [
    "#get the data in gslib format into a pandas Dataframe\n",
    "mydata= pygslib.gslib.read_gslib_file('../data/cluster.dat')  "
   ]
  },
  {
   "cell_type": "code",
   "execution_count": 3,
   "metadata": {},
   "outputs": [
    {
     "name": "stdout",
     "output_type": "stream",
     "text": [
      " \n",
      " **** 5 first rows in my datafile \n",
      "\n",
      "      Xlocation  Ylocation  Primary  Secondary  Declustering Weight  Zlocation  \\\n",
      "0       39.5       18.5     0.06       0.22                1.619          0   \n",
      "1        5.5        1.5     0.06       0.27                1.619          0   \n",
      "2       38.5        5.5     0.08       0.40                1.416          0   \n",
      "3       20.5        1.5     0.09       0.39                1.821          0   \n",
      "4       27.5       14.5     0.09       0.24                1.349          0   \n",
      "\n",
      "   bhid  \n",
      "0     1  \n",
      "1     1  \n",
      "2     1  \n",
      "3     1  \n",
      "4     1  \n"
     ]
    }
   ],
   "source": [
    "# This is a 2D file, in this GSLIB version we require 3D data and drillhole name or domain code\n",
    "# so, we are adding constant elevation = 0 and a dummy BHID = 1 \n",
    "mydata['Zlocation']=0\n",
    "mydata['bhid']=1\n",
    "\n",
    "# printing to verify results\n",
    "print (' \\n **** 5 first rows in my datafile \\n\\n  ', mydata.head(n=5))"
   ]
  },
  {
   "cell_type": "markdown",
   "metadata": {},
   "source": [
    "## Calculate cutof for given deciles (using declustering wight)"
   ]
  },
  {
   "cell_type": "code",
   "execution_count": 4,
   "metadata": {},
   "outputs": [
    {
     "name": "stdout",
     "output_type": "stream",
     "text": [
      "[-0.67448975  0.          0.67448975]\n"
     ]
    }
   ],
   "source": [
    "#Calculate gausian values for given deciles \n",
    "from scipy.stats import norm\n",
    "Ycuoff = norm.ppf([0.25, 0.5, 0.75])\n",
    "print (Ycuoff)\n"
   ]
  },
  {
   "cell_type": "code",
   "execution_count": 5,
   "metadata": {},
   "outputs": [
    {
     "name": "stdout",
     "output_type": "stream",
     "text": [
      "there was any error?:  False\n"
     ]
    }
   ],
   "source": [
    "#get transformation table\n",
    "transin,transout, error = pygslib.gslib.__dist_transf.ns_ttable(mydata['Primary'],mydata['Declustering Weight'])\n",
    "print ('there was any error?: ', error!=0)"
   ]
  },
  {
   "cell_type": "code",
   "execution_count": 6,
   "metadata": {},
   "outputs": [],
   "source": [
    "tt=pd.DataFrame({'Ycuoff': Ycuoff})"
   ]
  },
  {
   "cell_type": "code",
   "execution_count": 7,
   "metadata": {},
   "outputs": [
    {
     "name": "stdout",
     "output_type": "stream",
     "text": [
      "there was any error?:  False 0\n",
      "Z cutoff [0.34       1.1099756  2.75563427]\n"
     ]
    }
   ],
   "source": [
    "#get the equivelent value with back transformation \n",
    "Zcutoff,error = pygslib.gslib.__dist_transf.backtr(tt['Ycuoff'],\n",
    "                                     transin,transout,\n",
    "                                     ltail=1,utail=1,ltpar=0,utpar=60,\n",
    "                                     zmin=0,zmax=60,getrank=0)\n",
    "print ('there was any error?: ', error!=0, error)\n",
    "print ('Z cutoff', Zcutoff)"
   ]
  },
  {
   "cell_type": "markdown",
   "metadata": {},
   "source": [
    "## get some experimental variograms"
   ]
  },
  {
   "cell_type": "code",
   "execution_count": 8,
   "metadata": {},
   "outputs": [],
   "source": [
    "# these are the parameters we need. Note that at difference of GSLIB this dictionary also stores \n",
    "# the actual data (ex, X, Y, etc.). \n",
    "\n",
    "#important! python is case sensitive 'bhid' is not equal to 'BHID'\n",
    "\n",
    "cut = mydata['Primary']<Zcutoff[0]\n",
    "mydata['ind_25'] = cut.astype(float) \n",
    "cut = mydata['Primary']<Zcutoff[1]\n",
    "mydata['ind_50'] = cut.astype(float) \n",
    "cut = mydata['Primary']<Zcutoff[2]\n",
    "mydata['ind_75'] = cut.astype(float) \n",
    "\n",
    "\n",
    "parameters = { \n",
    "'x'      :  mydata['Xlocation']   , # X coordinates, array('f') with bounds (nd), nd is number of data points\n",
    "'y'      :  mydata['Ylocation'],    # Y coordinates, array('f') with bounds (nd)\n",
    "'z'      :  mydata['Zlocation'],    # Z coordinates, array('f') with bounds (nd)\n",
    "'bhid'   :  mydata['bhid'],         # bhid for downhole variogram, array('i') with bounds (nd)    \n",
    "'vr'     :  mydata['ind_25']  ,  # Variables, array('f') with bounds (nd,nv), nv is number of variables\n",
    "'tmin'   : -1.0e21,                 # trimming limits, float\n",
    "'tmax'   :  1.0e21,                 # trimming limits, float\n",
    "'nlag'   :  10,                     # number of lags, int\n",
    "'xlag'   :  2,                      # lag separation distance, float                \n",
    "'xltol'  :  1,                      # lag tolerance, float\n",
    "'azm'    : [0],                     # azimuth, array('f') with bounds (ndir)\n",
    "'atol'   : [22.5],                  # azimuth tolerance, array('f') with bounds (ndir)\n",
    "'bandwh' : [10000],                 # bandwith h, array('f') with bounds (ndir)\n",
    "'dip'    : [0],                     # dip, array('f') with bounds (ndir)\n",
    "'dtol'   : [10],                    # dip tolerance, array('f') with bounds (ndir)\n",
    "'bandwd' : [10],                    # bandwith d, array('f') with bounds (ndir)\n",
    "'isill'  : 0,                       # standardize sills? (0=no, 1=yes), int\n",
    "'sills'  : [100],                   # variance used to std the sills, array('f') with bounds (nv)\n",
    "'ivtail' : [1],                     # tail var., array('i') with bounds (nvarg), nvarg is number of variograms\n",
    "'ivhead' : [1],                     # head var., array('i') with bounds (nvarg)\n",
    "'ivtype' : [1],                     # variogram type, array('i') with bounds (nvarg)\n",
    "'maxclp' : 50000}                   # maximum number of variogram point cloud to use, input int\n",
    "\n",
    "'''\n",
    "Remember this is GSLIB... use this code to define variograms\n",
    "type 1 = traditional semivariogram\n",
    "     2 = traditional cross semivariogram\n",
    "     3 = covariance\n",
    "     4 = correlogram\n",
    "     5 = general relative semivariogram\n",
    "     6 = pairwise relative semivariogram\n",
    "     7 = semivariogram of logarithms\n",
    "     8 = semimadogram\n",
    "\n",
    "'''              \n",
    "\n",
    "pdis25,pgam25, phm,ptm,phv,ptv,pnump, cldi, cldj, cldg, cldh = pygslib.gslib.gamv(parameters)\n",
    "\n",
    "#check the variogram is ok\n",
    "assert pygslib.gslib.check_gamv_par(parameters)==1 , 'sorry this parameter file is wrong' \n"
   ]
  },
  {
   "cell_type": "code",
   "execution_count": 9,
   "metadata": {},
   "outputs": [
    {
     "name": "stdout",
     "output_type": "stream",
     "text": [
      "Zcutoff [0.34       1.1099756  2.75563427]\n"
     ]
    }
   ],
   "source": [
    "#Now we are ready to calculate the veriogram\n",
    "\n",
    "parameters = { \n",
    "'x'      :  mydata['Xlocation']   , # X coordinates, array('f') with bounds (nd), nd is number of data points\n",
    "'y'      :  mydata['Ylocation'],    # Y coordinates, array('f') with bounds (nd)\n",
    "'z'      :  mydata['Zlocation'],    # Z coordinates, array('f') with bounds (nd)\n",
    "'bhid'   :  mydata['bhid'],         # bhid for downhole variogram, array('i') with bounds (nd)    \n",
    "'vr'     :  mydata['ind_50']  ,  # Variables, array('f') with bounds (nd,nv), nv is number of variables\n",
    "'tmin'   : -1.0e21,                 # trimming limits, float\n",
    "'tmax'   :  1.0e21,                 # trimming limits, float\n",
    "'nlag'   :  10,                     # number of lags, int\n",
    "'xlag'   :  2,                      # lag separation distance, float                \n",
    "'xltol'  :  1,                      # lag tolerance, float\n",
    "'azm'    : [0],                     # azimuth, array('f') with bounds (ndir)\n",
    "'atol'   : [22.5],                  # azimuth tolerance, array('f') with bounds (ndir)\n",
    "'bandwh' : [10000],                 # bandwith h, array('f') with bounds (ndir)\n",
    "'dip'    : [0],                     # dip, array('f') with bounds (ndir)\n",
    "'dtol'   : [10],                    # dip tolerance, array('f') with bounds (ndir)\n",
    "'bandwd' : [10],                    # bandwith d, array('f') with bounds (ndir)\n",
    "'isill'  : 0,                       # standardize sills? (0=no, 1=yes), int\n",
    "'sills'  : [100],                   # variance used to std the sills, array('f') with bounds (nv)\n",
    "'ivtail' : [1],                     # tail var., array('i') with bounds (nvarg), nvarg is number of variograms\n",
    "'ivhead' : [1],                     # head var., array('i') with bounds (nvarg)\n",
    "'ivtype' : [1],                     # variogram type, array('i') with bounds (nvarg)\n",
    "'maxclp' : 50000}                   # maximum number of variogram point cloud to use, input int\n",
    "\n",
    "pdis50,pgam50, phm,ptm,phv,ptv,pnump, cldi, cldj, cldg, cldh = pygslib.gslib.gamv(parameters)\n",
    "\n",
    "print ('Zcutoff', Zcutoff)\n",
    "#print mydata[['Primary','ind_25', 'ind_50']]"
   ]
  },
  {
   "cell_type": "markdown",
   "metadata": {},
   "source": [
    "Test bigaus\n",
    "-----\n",
    "\n",
    "We are using variogram of logarithms... \n"
   ]
  },
  {
   "cell_type": "code",
   "execution_count": 10,
   "metadata": {},
   "outputs": [
    {
     "name": "stdout",
     "output_type": "stream",
     "text": [
      "zc,out_j,out_l,out_h,out_ri,out_ci,out_rop,out_p,error = bigaus(c0,it,cc,aa,aa1,aa2,ang1,ang2,ang3,nlag,azm,dip,xlag,zcc,[nst,ncut,ndir])\n",
      "\n",
      "Wrapper for ``bigaus``.\n",
      "\n",
      "Parameters\n",
      "----------\n",
      "c0 : input rank-1 array('f') with bounds (1)\n",
      "it : input rank-1 array('i') with bounds (nst)\n",
      "cc : input rank-1 array('f') with bounds (nst)\n",
      "aa : input rank-1 array('f') with bounds (nst)\n",
      "aa1 : input rank-1 array('f') with bounds (nst)\n",
      "aa2 : input rank-1 array('f') with bounds (nst)\n",
      "ang1 : input rank-1 array('f') with bounds (nst)\n",
      "ang2 : input rank-1 array('f') with bounds (nst)\n",
      "ang3 : input rank-1 array('f') with bounds (nst)\n",
      "nlag : input int\n",
      "azm : input rank-1 array('f') with bounds (ndir)\n",
      "dip : input rank-1 array('f') with bounds (ndir)\n",
      "xlag : input rank-1 array('f') with bounds (ndir)\n",
      "zcc : input rank-1 array('f') with bounds (ncut)\n",
      "\n",
      "Other Parameters\n",
      "----------------\n",
      "nst : input int, optional\n",
      "    Default: len(it)\n",
      "ncut : input int, optional\n",
      "    Default: len(zcc)\n",
      "ndir : input int, optional\n",
      "    Default: len(azm)\n",
      "\n",
      "Returns\n",
      "-------\n",
      "zc : rank-1 array('f') with bounds (ncut)\n",
      "out_j : rank-3 array('i') with bounds (nlag,ndir,ncut)\n",
      "out_l : rank-3 array('i') with bounds (nlag,ndir,ncut)\n",
      "out_h : rank-3 array('f') with bounds (nlag,ndir,ncut)\n",
      "out_ri : rank-3 array('f') with bounds (nlag,ndir,ncut)\n",
      "out_ci : rank-3 array('f') with bounds (nlag,ndir,ncut)\n",
      "out_rop : rank-3 array('f') with bounds (nlag,ndir,ncut)\n",
      "out_p : rank-1 array('f') with bounds (ncut)\n",
      "error : int\n",
      "\n"
     ]
    }
   ],
   "source": [
    "print (pygslib.gslib.__bigaus.bigaus.__doc__)"
   ]
  },
  {
   "cell_type": "code",
   "execution_count": 11,
   "metadata": {},
   "outputs": [
    {
     "name": "stdout",
     "output_type": "stream",
     "text": [
      "any error False\n"
     ]
    }
   ],
   "source": [
    "parameters ={'zcc' : [ 0.25, 0.5, 0.75],    #threshold cdf values\n",
    "             'nlag':  20,                        #number lags\n",
    "             'azm' : [0.0],                        #azm(1), dip(1), lag(1)\n",
    "             'dip' : [0.],\n",
    "             'xlag': [1.], \n",
    "             'c0'  :  [0.2],         # nugget,  array('f') with bounds (ivarg)  \n",
    "             'it'  :  [1,1],        # structure type,  array('i') with bounds (ivarg)              \n",
    "             'cc'  :  [0.4,0.4],    # variance, array('f') with bounds (nvarg*nst[0])\n",
    "             'aa'  :  [10,10],     # parameter a (or range), array('f') with bounds (nvarg*nst[0])    \n",
    "             'aa1' :  [5,5],     # parameter a (or range), array('f') with bounds (nvarg*nst[0])    \n",
    "             'aa2' :  [10,10],     # parameter a (or range), array('f') with bounds (nvarg*nst[0])    \n",
    "             'ang1':  [0.,0],\n",
    "             'ang2':  [0.,0],\n",
    "             'ang3':  [0.,0]}\n",
    "                      \n",
    "zc,out_j,out_l,out_h,out_ri,out_ci,out_rop,out_p,error = pygslib.gslib.__bigaus.bigaus(**parameters) \n",
    "\n",
    "\"\"\"\n",
    "result=pd.Panel({'lag numb:':out_j,\n",
    "                     'number of pairs:':out_l,\n",
    "                     'lag separation:':out_h,\n",
    "                     'variogram:':out_ri,\n",
    "                     'mean of the tail:':out_ci,\n",
    "                     'variogram standardized:':out_rop})\n",
    "\"\"\"\n",
    "print ('any error', error!=0)\n"
   ]
  },
  {
   "cell_type": "code",
   "execution_count": 12,
   "metadata": {},
   "outputs": [
    {
     "name": "stdout",
     "output_type": "stream",
     "text": [
      "zc: [-0.6744898  0.         0.6744898]\n",
      "p: [0.24999997 0.5        0.75      ]\n"
     ]
    }
   ],
   "source": [
    "print ('zc:', zc)\n",
    "print ('p:', out_p)"
   ]
  },
  {
   "cell_type": "code",
   "execution_count": 13,
   "metadata": {},
   "outputs": [
    {
     "name": "stdout",
     "output_type": "stream",
     "text": [
      "[[0.   ]\n",
      " [0.103]\n",
      " [0.121]\n",
      " [0.136]\n",
      " [0.149]\n",
      " [0.161]\n",
      " [0.17 ]\n",
      " [0.177]\n",
      " [0.183]\n",
      " [0.186]\n",
      " [0.188]\n",
      " [0.188]\n",
      " [0.188]\n",
      " [0.188]\n",
      " [0.188]\n",
      " [0.188]\n",
      " [0.188]\n",
      " [0.188]\n",
      " [0.188]\n",
      " [0.188]]\n"
     ]
    }
   ],
   "source": [
    "#nlag,ndir,ncut\n",
    "vcut=0\n",
    "vdir=0\n",
    "np.set_printoptions(precision=3)\n",
    "print (out_ri[:,:,vcut])\n",
    "#print out_h[:,:,vcut]"
   ]
  },
  {
   "cell_type": "markdown",
   "metadata": {},
   "source": [
    "** Compare with standard GSLIB bigaus output **\n",
    "``` \n",
    "********************GSLIB output***********************\n",
    "Model Indicator Variogram: cutoff =   -0.674 Direction \n",
    "\n",
    "                 (vr-vcut=0)\n",
    "  1    0.000        0.000      1      1.17810      0.00000\n",
    "  2    1.000        0.103      1      0.53184      0.54856\n",
    "  3    2.000        0.121      1      0.41848      0.64478\n",
    "  4    3.000        0.136      1      0.32192      0.72675\n",
    "  5    4.000        0.149      1      0.23902      0.79712\n",
    "  6    5.000        0.161      1      0.16845      0.85701\n",
    "  7    6.000        0.170      1      0.10978      0.90682\n",
    "  8    7.000        0.177      1      0.06307      0.94646\n",
    "  9    8.000        0.183      1      0.02872      0.97562\n",
    " 10    9.000        0.186      1      0.00738      0.99374\n",
    " 11   10.000        0.188      1      0.00000      1.00000\n",
    " 12   11.000        0.188      1      0.00000      1.00000\n",
    " 13   12.000        0.188      1      0.00000      1.00000\n",
    " 14   13.000        0.188      1      0.00000      1.00000\n",
    " 15   14.000        0.188      1      0.00000      1.00000\n",
    " 16   15.000        0.188      1      0.00000      1.00000\n",
    " 17   16.000        0.188      1      0.00000      1.00000\n",
    " 18   17.000        0.188      1      0.00000      1.00000\n",
    " 19   18.000        0.188      1      0.00000      1.00000\n",
    " 20   19.000        0.188      1      0.00000      1.00000\n",
    "\n",
    "```"
   ]
  },
  {
   "cell_type": "code",
   "execution_count": 14,
   "metadata": {},
   "outputs": [
    {
     "data": {
      "image/png": "[encoded data removed]",
      "text/plain": [
       "<Figure size 432x288 with 1 Axes>"
      ]
     },
     "metadata": {
      "needs_background": "light"
     },
     "output_type": "display_data"
    }
   ],
   "source": [
    "%matplotlib inline\n",
    "import matplotlib.pyplot as plt\n",
    "\n",
    "#plotting the variogram 1 only\n",
    "v=0\n",
    "\n",
    "plt.plot (out_h[:,:,0], out_ri[:,:,0], 'r-', label='cut bg 0.25')\n",
    "plt.plot (pdis25[0, 0, 1:], pgam25[0, 0, 1:], 'r-o', label='cut exp 0.25')\n",
    "\n",
    "plt.plot (out_h[:,:,1], out_ri[:,:,1], 'g-', label='cut bg 0.50')\n",
    "plt.plot (pdis50[0, 0, 1:], pgam50[0, 0, 1:], 'g-o', label='cut exp 0.50')\n",
    "\n",
    "plt.legend()\n",
    "plt.grid(True)\n",
    "plt.show()"
   ]
  },
  {
   "cell_type": "code",
   "execution_count": null,
   "metadata": {
    "collapsed": true,
    "jupyter": {
     "outputs_hidden": true
    }
   },
   "outputs": [],
   "source": []
  },
  {
   "cell_type": "code",
   "execution_count": null,
   "metadata": {
    "collapsed": true,
    "jupyter": {
     "outputs_hidden": true
    }
   },
   "outputs": [],
   "source": []
  }
 ],
 "metadata": {
  "anaconda-cloud": {},
  "kernelspec": {
   "display_name": "Python 3",
   "language": "python",
   "name": "python3"
  },
  "language_info": {
   "codemirror_mode": {
    "name": "ipython",
    "version": 3
   },
   "file_extension": ".py",
   "mimetype": "text/x-python",
   "name": "python",
   "nbconvert_exporter": "python",
   "pygments_lexer": "ipython3",
   "version": "3.8.6"
  }
 },
 "nbformat": 4,
 "nbformat_minor": 4
}

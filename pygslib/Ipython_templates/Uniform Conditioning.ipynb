{
 "cells": [
  {
   "source": [
    "# Uniform conditioning on a panel\n",
    "\n",
    "This example is from C.T. Neufeld, 2015. Guide to Recoverable Reserves with Uniform Conditioning. Centre for Computational Geostatistics (CCG) Guidebook Series Vol. 4\n",
    "\n",
    "The inputs of the uniform conditioning function are:\n",
    " - the gaussian panel kriged values, \n",
    " - and gaissian cutoff, \n",
    " - Hermite polynomial coefficients, \n",
    " - the support coefficients of the block (r), and the panel (R). With r>R \n",
    " - and optionally the support effect (ro) (not implemented yet)\n",
    "\n",
    "The expected results is \n",
    "```\n",
    " T = 0.265\n",
    " Q = 0.252\n",
    " M = 0.95\n",
    " ```"
   ],
   "cell_type": "markdown",
   "metadata": {}
  },
  {
   "cell_type": "code",
   "execution_count": 14,
   "metadata": {},
   "outputs": [],
   "source": [
    "import pygslib\n",
    "import numpy as np"
   ]
  },
  {
   "cell_type": "code",
   "execution_count": 15,
   "metadata": {},
   "outputs": [],
   "source": [
    "# see C.T. Neufeld, 2015. Guide to Recoverable Reserves with Uniform Conditioning. Centre for Computational Geostatistics (CCG) Guidebook Series Vol. 4\n",
    "PCI = np.array([\n",
    "    0.2493, \n",
    "    -0.2333, \n",
    "    0.1152, \n",
    "    -0.0289, \n",
    "    -0.0007, \n",
    "    0.0084, \n",
    "    -0.0108, \n",
    "    0.0059, \n",
    "    0.0027, \n",
    "    -0.0061,  \n",
    "    0.0021])\n",
    "    \n",
    "YV = 1.99\n",
    "yc = 2.02\n",
    "r = 0.79\n",
    "R = 0.67\n",
    "ro=1 # no info effect\n",
    "\n",
    "T, Q = pygslib.nonlinear.ucondit(YV, yc, PCI, r, R, ro)\n",
    "M = Q/T"
   ]
  },
  {
   "cell_type": "code",
   "execution_count": 18,
   "metadata": {},
   "outputs": [
    {
     "output_type": "stream",
     "name": "stdout",
     "text": [
      "T = 0.26528477668762207\nQ = 0.25423362851142883\nM = 0.9583423206028661\n"
     ]
    }
   ],
   "source": [
    "print ('T = {}'.format(T)) \n",
    "print ('Q = {}'.format(Q))\n",
    "print ('M = {}'.format(M))"
   ]
  },
  {
   "cell_type": "code",
   "execution_count": null,
   "metadata": {},
   "outputs": [],
   "source": []
  }
 ],
 "metadata": {
  "kernelspec": {
   "display_name": "Python 3",
   "language": "python",
   "name": "python3"
  },
  "language_info": {
   "codemirror_mode": {
    "name": "ipython",
    "version": 3
   },
   "file_extension": ".py",
   "mimetype": "text/x-python",
   "name": "python",
   "nbconvert_exporter": "python",
   "pygments_lexer": "ipython3",
   "version": "3.8.6-final"
  }
 },
 "nbformat": 4,
 "nbformat_minor": 4
}
{
 "cells": [
  {
   "cell_type": "markdown",
   "metadata": {},
   "source": [
    "PyGSLIB\n",
    "========\n",
    "\n",
    "Bicalib\n",
    "---------------\n",
    "\n",
    "The GSLIb equivalent parameter file is\n",
    "\n",
    "```\n",
    "                     Parameters for BICALIB\n",
    "                     **********************\n",
    " \n",
    "START OF PARAMETERS:\n",
    "data/ydata.dat                 \\file with secondary data\n",
    "4                                 \\   column for secondary variable\n",
    "data/cluster.dat               \\file with calibration scatterplot\n",
    "3  4  5                           \\   columns of pri, sec, and weight\n",
    "-1.0e21   1.0e21                  \\   trimming limits\n",
    "bicalib.out                       \\file for output data / distributions\n",
    "bicalib.cal                       \\file for output calibration (SISIM)\n",
    "bicalib.rep                       \\file for calibration report\n",
    "5                                 \\number of thresholds on primary\n",
    "0.50 1.00 2.50 5.00 10.0          \\   thresholds on primary\n",
    "5                                 \\number of thresholds on secondary\n",
    "0.50 1.00 2.50 5.00 10.0          \\   thresholds on secondary\n",
    "```\n"
   ]
  },
  {
   "cell_type": "code",
   "execution_count": 1,
   "metadata": {},
   "outputs": [
    {
     "data": {
      "application/javascript": [
       "\n",
       "(function(root) {\n",
       "  function now() {\n",
       "    return new Date();\n",
       "  }\n",
       "\n",
       "  var force = true;\n",
       "\n",
       "  if (typeof (root._bokeh_onload_callbacks) === \"undefined\" || force === true) {\n",
       "    root._bokeh_onload_callbacks = [];\n",
       "    root._bokeh_is_loading = undefined;\n",
       "  }\n",
       "\n",
       "  var JS_MIME_TYPE = 'application/javascript';\n",
       "  var HTML_MIME_TYPE = 'text/html';\n",
       "  var EXEC_MIME_TYPE = 'application/vnd.bokehjs_exec.v0+json';\n",
       "  var CLASS_NAME = 'output_bokeh rendered_html';\n",
       "\n",
       "  /**\n",
       "   * Render data to the DOM node\n",
       "   */\n",
       "  function render(props, node) {\n",
       "    var script = document.createElement(\"script\");\n",
       "    node.appendChild(script);\n",
       "  }\n",
       "\n",
       "  /**\n",
       "   * Handle when an output is cleared or removed\n",
       "   */\n",
       "  function handleClearOutput(event, handle) {\n",
       "    var cell = handle.cell;\n",
       "\n",
       "    var id = cell.output_area._bokeh_element_id;\n",
       "    var server_id = cell.output_area._bokeh_server_id;\n",
       "    // Clean up Bokeh references\n",
       "    if (id !== undefined) {\n",
       "      Bokeh.index[id].model.document.clear();\n",
       "      delete Bokeh.index[id];\n",
       "    }\n",
       "\n",
       "    if (server_id !== undefined) {\n",
       "      // Clean up Bokeh references\n",
       "      var cmd = \"from bokeh.io.state import curstate; print(curstate().uuid_to_server['\" + server_id + \"'].get_sessions()[0].document.roots[0]._id)\";\n",
       "      cell.notebook.kernel.execute(cmd, {\n",
       "        iopub: {\n",
       "          output: function(msg) {\n",
       "            var element_id = msg.content.text.trim();\n",
       "            Bokeh.index[element_id].model.document.clear();\n",
       "            delete Bokeh.index[element_id];\n",
       "          }\n",
       "        }\n",
       "      });\n",
       "      // Destroy server and session\n",
       "      var cmd = \"import bokeh.io.notebook as ion; ion.destroy_server('\" + server_id + \"')\";\n",
       "      cell.notebook.kernel.execute(cmd);\n",
       "    }\n",
       "  }\n",
       "\n",
       "  /**\n",
       "   * Handle when a new output is added\n",
       "   */\n",
       "  function handleAddOutput(event, handle) {\n",
       "    var output_area = handle.output_area;\n",
       "    var output = handle.output;\n",
       "\n",
       "    // limit handleAddOutput to display_data with EXEC_MIME_TYPE content only\n",
       "    if ((output.output_type != \"display_data\") || (!output.data.hasOwnProperty(EXEC_MIME_TYPE))) {\n",
       "      return\n",
       "    }\n",
       "\n",
       "    var toinsert = output_area.element.find(\".\" + CLASS_NAME.split(' ')[0]);\n",
       "\n",
       "    if (output.metadata[EXEC_MIME_TYPE][\"id\"] !== undefined) {\n",
       "      toinsert[toinsert.length - 1].firstChild.textContent = output.data[JS_MIME_TYPE];\n",
       "      // store reference to embed id on output_area\n",
       "      output_area._bokeh_element_id = output.metadata[EXEC_MIME_TYPE][\"id\"];\n",
       "    }\n",
       "    if (output.metadata[EXEC_MIME_TYPE][\"server_id\"] !== undefined) {\n",
       "      var bk_div = document.createElement(\"div\");\n",
       "      bk_div.innerHTML = output.data[HTML_MIME_TYPE];\n",
       "      var script_attrs = bk_div.children[0].attributes;\n",
       "      for (var i = 0; i < script_attrs.length; i++) {\n",
       "        toinsert[toinsert.length - 1].firstChild.setAttribute(script_attrs[i].name, script_attrs[i].value);\n",
       "      }\n",
       "      // store reference to server id on output_area\n",
       "      output_area._bokeh_server_id = output.metadata[EXEC_MIME_TYPE][\"server_id\"];\n",
       "    }\n",
       "  }\n",
       "\n",
       "  function register_renderer(events, OutputArea) {\n",
       "\n",
       "    function append_mime(data, metadata, element) {\n",
       "      // create a DOM node to render to\n",
       "      var toinsert = this.create_output_subarea(\n",
       "        metadata,\n",
       "        CLASS_NAME,\n",
       "        EXEC_MIME_TYPE\n",
       "      );\n",
       "      this.keyboard_manager.register_events(toinsert);\n",
       "      // Render to node\n",
       "      var props = {data: data, metadata: metadata[EXEC_MIME_TYPE]};\n",
       "      render(props, toinsert[toinsert.length - 1]);\n",
       "      element.append(toinsert);\n",
       "      return toinsert\n",
       "    }\n",
       "\n",
       "    /* Handle when an output is cleared or removed */\n",
       "    events.on('clear_output.CodeCell', handleClearOutput);\n",
       "    events.on('delete.Cell', handleClearOutput);\n",
       "\n",
       "    /* Handle when a new output is added */\n",
       "    events.on('output_added.OutputArea', handleAddOutput);\n",
       "\n",
       "    /**\n",
       "     * Register the mime type and append_mime function with output_area\n",
       "     */\n",
       "    OutputArea.prototype.register_mime_type(EXEC_MIME_TYPE, append_mime, {\n",
       "      /* Is output safe? */\n",
       "      safe: true,\n",
       "      /* Index of renderer in `output_area.display_order` */\n",
       "      index: 0\n",
       "    });\n",
       "  }\n",
       "\n",
       "  // register the mime type if in Jupyter Notebook environment and previously unregistered\n",
       "  if (root.Jupyter !== undefined) {\n",
       "    var events = require('base/js/events');\n",
       "    var OutputArea = require('notebook/js/outputarea').OutputArea;\n",
       "\n",
       "    if (OutputArea.prototype.mime_types().indexOf(EXEC_MIME_TYPE) == -1) {\n",
       "      register_renderer(events, OutputArea);\n",
       "    }\n",
       "  }\n",
       "\n",
       "  \n",
       "  if (typeof (root._bokeh_timeout) === \"undefined\" || force === true) {\n",
       "    root._bokeh_timeout = Date.now() + 5000;\n",
       "    root._bokeh_failed_load = false;\n",
       "  }\n",
       "\n",
       "  var NB_LOAD_WARNING = {'data': {'text/html':\n",
       "     \"<div style='background-color: #fdd'>\\n\"+\n",
       "     \"<p>\\n\"+\n",
       "     \"BokehJS does not appear to have successfully loaded. If loading BokehJS from CDN, this \\n\"+\n",
       "     \"may be due to a slow or bad network connection. Possible fixes:\\n\"+\n",
       "     \"</p>\\n\"+\n",
       "     \"<ul>\\n\"+\n",
       "     \"<li>re-rerun `output_notebook()` to attempt to load from CDN again, or</li>\\n\"+\n",
       "     \"<li>use INLINE resources instead, as so:</li>\\n\"+\n",
       "     \"</ul>\\n\"+\n",
       "     \"<code>\\n\"+\n",
       "     \"from bokeh.resources import INLINE\\n\"+\n",
       "     \"output_notebook(resources=INLINE)\\n\"+\n",
       "     \"</code>\\n\"+\n",
       "     \"</div>\"}};\n",
       "\n",
       "  function display_loaded() {\n",
       "    var el = document.getElementById(null);\n",
       "    if (el != null) {\n",
       "      el.textContent = \"BokehJS is loading...\";\n",
       "    }\n",
       "    if (root.Bokeh !== undefined) {\n",
       "      if (el != null) {\n",
       "        el.textContent = \"BokehJS \" + root.Bokeh.version + \" successfully loaded.\";\n",
       "      }\n",
       "    } else if (Date.now() < root._bokeh_timeout) {\n",
       "      setTimeout(display_loaded, 100)\n",
       "    }\n",
       "  }\n",
       "\n",
       "\n",
       "  function run_callbacks() {\n",
       "    try {\n",
       "      root._bokeh_onload_callbacks.forEach(function(callback) { callback() });\n",
       "    }\n",
       "    finally {\n",
       "      delete root._bokeh_onload_callbacks\n",
       "    }\n",
       "    console.info(\"Bokeh: all callbacks have finished\");\n",
       "  }\n",
       "\n",
       "  function load_libs(js_urls, callback) {\n",
       "    root._bokeh_onload_callbacks.push(callback);\n",
       "    if (root._bokeh_is_loading > 0) {\n",
       "      console.log(\"Bokeh: BokehJS is being loaded, scheduling callback at\", now());\n",
       "      return null;\n",
       "    }\n",
       "    if (js_urls == null || js_urls.length === 0) {\n",
       "      run_callbacks();\n",
       "      return null;\n",
       "    }\n",
       "    console.log(\"Bokeh: BokehJS not loaded, scheduling load and callback at\", now());\n",
       "    root._bokeh_is_loading = js_urls.length;\n",
       "    for (var i = 0; i < js_urls.length; i++) {\n",
       "      var url = js_urls[i];\n",
       "      var s = document.createElement('script');\n",
       "      s.src = url;\n",
       "      s.async = false;\n",
       "      s.onreadystatechange = s.onload = function() {\n",
       "        root._bokeh_is_loading--;\n",
       "        if (root._bokeh_is_loading === 0) {\n",
       "          console.log(\"Bokeh: all BokehJS libraries loaded\");\n",
       "          run_callbacks()\n",
       "        }\n",
       "      };\n",
       "      s.onerror = function() {\n",
       "        console.warn(\"failed to load library \" + url);\n",
       "      };\n",
       "      console.log(\"Bokeh: injecting script tag for BokehJS library: \", url);\n",
       "      document.getElementsByTagName(\"head\")[0].appendChild(s);\n",
       "    }\n",
       "  };\n",
       "\n",
       "  var js_urls = [\"https://cdn.pydata.org/bokeh/release/bokeh-0.12.15.min.js\", \"https://cdn.pydata.org/bokeh/release/bokeh-widgets-0.12.15.min.js\", \"https://cdn.pydata.org/bokeh/release/bokeh-tables-0.12.15.min.js\", \"https://cdn.pydata.org/bokeh/release/bokeh-gl-0.12.15.min.js\"];\n",
       "\n",
       "  var inline_js = [\n",
       "    function(Bokeh) {\n",
       "      Bokeh.set_log_level(\"info\");\n",
       "    },\n",
       "    \n",
       "    function(Bokeh) {\n",
       "      \n",
       "    },\n",
       "    function(Bokeh) {\n",
       "      console.log(\"Bokeh: injecting CSS: https://cdn.pydata.org/bokeh/release/bokeh-0.12.15.min.css\");\n",
       "      Bokeh.embed.inject_css(\"https://cdn.pydata.org/bokeh/release/bokeh-0.12.15.min.css\");\n",
       "      console.log(\"Bokeh: injecting CSS: https://cdn.pydata.org/bokeh/release/bokeh-widgets-0.12.15.min.css\");\n",
       "      Bokeh.embed.inject_css(\"https://cdn.pydata.org/bokeh/release/bokeh-widgets-0.12.15.min.css\");\n",
       "      console.log(\"Bokeh: injecting CSS: https://cdn.pydata.org/bokeh/release/bokeh-tables-0.12.15.min.css\");\n",
       "      Bokeh.embed.inject_css(\"https://cdn.pydata.org/bokeh/release/bokeh-tables-0.12.15.min.css\");\n",
       "    }\n",
       "  ];\n",
       "\n",
       "  function run_inline_js() {\n",
       "    \n",
       "    if ((root.Bokeh !== undefined) || (force === true)) {\n",
       "      for (var i = 0; i < inline_js.length; i++) {\n",
       "        inline_js[i].call(root, root.Bokeh);\n",
       "      }} else if (Date.now() < root._bokeh_timeout) {\n",
       "      setTimeout(run_inline_js, 100);\n",
       "    } else if (!root._bokeh_failed_load) {\n",
       "      console.log(\"Bokeh: BokehJS failed to load within specified timeout.\");\n",
       "      root._bokeh_failed_load = true;\n",
       "    } else if (force !== true) {\n",
       "      var cell = $(document.getElementById(null)).parents('.cell').data().cell;\n",
       "      cell.output_area.append_execute_result(NB_LOAD_WARNING)\n",
       "    }\n",
       "\n",
       "  }\n",
       "\n",
       "  if (root._bokeh_is_loading === 0) {\n",
       "    console.log(\"Bokeh: BokehJS loaded, going straight to plotting\");\n",
       "    run_inline_js();\n",
       "  } else {\n",
       "    load_libs(js_urls, function() {\n",
       "      console.log(\"Bokeh: BokehJS plotting callback run at\", now());\n",
       "      run_inline_js();\n",
       "    });\n",
       "  }\n",
       "}(window));"
      ],
      "application/vnd.bokehjs_load.v0+json": "\n(function(root) {\n  function now() {\n    return new Date();\n  }\n\n  var force = true;\n\n  if (typeof (root._bokeh_onload_callbacks) === \"undefined\" || force === true) {\n    root._bokeh_onload_callbacks = [];\n    root._bokeh_is_loading = undefined;\n  }\n\n  \n\n  \n  if (typeof (root._bokeh_timeout) === \"undefined\" || force === true) {\n    root._bokeh_timeout = Date.now() + 5000;\n    root._bokeh_failed_load = false;\n  }\n\n  var NB_LOAD_WARNING = {'data': {'text/html':\n     \"<div style='background-color: #fdd'>\\n\"+\n     \"<p>\\n\"+\n     \"BokehJS does not appear to have successfully loaded. If loading BokehJS from CDN, this \\n\"+\n     \"may be due to a slow or bad network connection. Possible fixes:\\n\"+\n     \"</p>\\n\"+\n     \"<ul>\\n\"+\n     \"<li>re-rerun `output_notebook()` to attempt to load from CDN again, or</li>\\n\"+\n     \"<li>use INLINE resources instead, as so:</li>\\n\"+\n     \"</ul>\\n\"+\n     \"<code>\\n\"+\n     \"from bokeh.resources import INLINE\\n\"+\n     \"output_notebook(resources=INLINE)\\n\"+\n     \"</code>\\n\"+\n     \"</div>\"}};\n\n  function display_loaded() {\n    var el = document.getElementById(null);\n    if (el != null) {\n      el.textContent = \"BokehJS is loading...\";\n    }\n    if (root.Bokeh !== undefined) {\n      if (el != null) {\n        el.textContent = \"BokehJS \" + root.Bokeh.version + \" successfully loaded.\";\n      }\n    } else if (Date.now() < root._bokeh_timeout) {\n      setTimeout(display_loaded, 100)\n    }\n  }\n\n\n  function run_callbacks() {\n    try {\n      root._bokeh_onload_callbacks.forEach(function(callback) { callback() });\n    }\n    finally {\n      delete root._bokeh_onload_callbacks\n    }\n    console.info(\"Bokeh: all callbacks have finished\");\n  }\n\n  function load_libs(js_urls, callback) {\n    root._bokeh_onload_callbacks.push(callback);\n    if (root._bokeh_is_loading > 0) {\n      console.log(\"Bokeh: BokehJS is being loaded, scheduling callback at\", now());\n      return null;\n    }\n    if (js_urls == null || js_urls.length === 0) {\n      run_callbacks();\n      return null;\n    }\n    console.log(\"Bokeh: BokehJS not loaded, scheduling load and callback at\", now());\n    root._bokeh_is_loading = js_urls.length;\n    for (var i = 0; i < js_urls.length; i++) {\n      var url = js_urls[i];\n      var s = document.createElement('script');\n      s.src = url;\n      s.async = false;\n      s.onreadystatechange = s.onload = function() {\n        root._bokeh_is_loading--;\n        if (root._bokeh_is_loading === 0) {\n          console.log(\"Bokeh: all BokehJS libraries loaded\");\n          run_callbacks()\n        }\n      };\n      s.onerror = function() {\n        console.warn(\"failed to load library \" + url);\n      };\n      console.log(\"Bokeh: injecting script tag for BokehJS library: \", url);\n      document.getElementsByTagName(\"head\")[0].appendChild(s);\n    }\n  };\n\n  var js_urls = [\"https://cdn.pydata.org/bokeh/release/bokeh-0.12.15.min.js\", \"https://cdn.pydata.org/bokeh/release/bokeh-widgets-0.12.15.min.js\", \"https://cdn.pydata.org/bokeh/release/bokeh-tables-0.12.15.min.js\", \"https://cdn.pydata.org/bokeh/release/bokeh-gl-0.12.15.min.js\"];\n\n  var inline_js = [\n    function(Bokeh) {\n      Bokeh.set_log_level(\"info\");\n    },\n    \n    function(Bokeh) {\n      \n    },\n    function(Bokeh) {\n      console.log(\"Bokeh: injecting CSS: https://cdn.pydata.org/bokeh/release/bokeh-0.12.15.min.css\");\n      Bokeh.embed.inject_css(\"https://cdn.pydata.org/bokeh/release/bokeh-0.12.15.min.css\");\n      console.log(\"Bokeh: injecting CSS: https://cdn.pydata.org/bokeh/release/bokeh-widgets-0.12.15.min.css\");\n      Bokeh.embed.inject_css(\"https://cdn.pydata.org/bokeh/release/bokeh-widgets-0.12.15.min.css\");\n      console.log(\"Bokeh: injecting CSS: https://cdn.pydata.org/bokeh/release/bokeh-tables-0.12.15.min.css\");\n      Bokeh.embed.inject_css(\"https://cdn.pydata.org/bokeh/release/bokeh-tables-0.12.15.min.css\");\n    }\n  ];\n\n  function run_inline_js() {\n    \n    if ((root.Bokeh !== undefined) || (force === true)) {\n      for (var i = 0; i < inline_js.length; i++) {\n        inline_js[i].call(root, root.Bokeh);\n      }} else if (Date.now() < root._bokeh_timeout) {\n      setTimeout(run_inline_js, 100);\n    } else if (!root._bokeh_failed_load) {\n      console.log(\"Bokeh: BokehJS failed to load within specified timeout.\");\n      root._bokeh_failed_load = true;\n    } else if (force !== true) {\n      var cell = $(document.getElementById(null)).parents('.cell').data().cell;\n      cell.output_area.append_execute_result(NB_LOAD_WARNING)\n    }\n\n  }\n\n  if (root._bokeh_is_loading === 0) {\n    console.log(\"Bokeh: BokehJS loaded, going straight to plotting\");\n    run_inline_js();\n  } else {\n    load_libs(js_urls, function() {\n      console.log(\"Bokeh: BokehJS plotting callback run at\", now());\n      run_inline_js();\n    });\n  }\n}(window));"
     },
     "metadata": {},
     "output_type": "display_data"
    },
    {
     "data": {
      "text/html": [
       "\n",
       "<script type=\"text/Javascript\"> \n",
       "var x = document.getElementById(\"ipython_notebook\")\n",
       "x.innerHTML = '<img  title=\"Opengeostat\" alt=\"Opengeostat\" src=\"data:image/jpeg;base64,/9j/4AAQSkZJRgABAQEASABIAAD/4REwRXhpZgAATU0AKgAAAAgABwEaAAUAAAABAAAAYgEbAAUAAAABAAAAagEoAAMAAAABAAIAAAE7AAIAAAAFAAAAcodpAAQAAAABAAAIjpydAAEAAAAKAAAAeOocAAcAAAgMAAAAggAAAAAAAABIAAAAAQAAAEgAAAABdGVtcAAAdABlAG0AcAAAABzqAAAACAAAAAAAAAAAAAAAAAAAAAAAAAAAAAAAAAAAAAAAAAAAAAAAAAAAAAAAAAAAAAAAAAAAAAAAAAAAAAAAAAAAAAAAAAAAAAAAAAAAAAAAAAAAAAAAAAAAAAAAAAAAAAAAAAAAAAAAAAAAAAAAAAAAAAAAAAAAAAAAAAAAAAAAAAAAAAAAAAAAAAAAAAAAAAAAAAAAAAAAAAAAAAAAAAAAAAAAAAAAAAAAAAAAAAAAAAAAAAAAAAAAAAAAAAAAAAAAAAAAAAAAAAAAAAAAAAAAAAAAAAAAAAAAAAAAAAAAAAAAAAAAAAAAAAAAAAAAAAAAAAAAAAAAAAAAAAAAAAAAAAAAAAAAAAAAAAAAAAAAAAAAAAAAAAAAAAAAAAAAAAAAAAAAAAAAAAAAAAAAAAAAAAAAAAAAAAAAAAAAAAAAAAAAAAAAAAAAAAAAAAAAAAAAAAAAAAAAAAAAAAAAAAAAAAAAAAAAAAAAAAAAAAAAAAAAAAAAAAAAAAAAAAAAAAAAAAAAAAAAAAAAAAAAAAAAAAAAAAAAAAAAAAAAAAAAAAAAAAAAAAAAAAAAAAAAAAAAAAAAAAAAAAAAAAAAAAAAAAAAAAAAAAAAAAAAAAAAAAAAAAAAAAAAAAAAAAAAAAAAAAAAAAAAAAAAAAAAAAAAAAAAAAAAAAAAAAAAAAAAAAAAAAAAAAAAAAAAAAAAAAAAAAAAAAAAAAAAAAAAAAAAAAAAAAAAAAAAAAAAAAAAAAAAAAAAAAAAAAAAAAAAAAAAAAAAAAAAAAAAAAAAAAAAAAAAAAAAAAAAAAAAAAAAAAAAAAAAAAAAAAAAAAAAAAAAAAAAAAAAAAAAAAAAAAAAAAAAAAAAAAAAAAAAAAAAAAAAAAAAAAAAAAAAAAAAAAAAAAAAAAAAAAAAAAAAAAAAAAAAAAAAAAAAAAAAAAAAAAAAAAAAAAAAAAAAAAAAAAAAAAAAAAAAAAAAAAAAAAAAAAAAAAAAAAAAAAAAAAAAAAAAAAAAAAAAAAAAAAAAAAAAAAAAAAAAAAAAAAAAAAAAAAAAAAAAAAAAAAAAAAAAAAAAAAAAAAAAAAAAAAAAAAAAAAAAAAAAAAAAAAAAAAAAAAAAAAAAAAAAAAAAAAAAAAAAAAAAAAAAAAAAAAAAAAAAAAAAAAAAAAAAAAAAAAAAAAAAAAAAAAAAAAAAAAAAAAAAAAAAAAAAAAAAAAAAAAAAAAAAAAAAAAAAAAAAAAAAAAAAAAAAAAAAAAAAAAAAAAAAAAAAAAAAAAAAAAAAAAAAAAAAAAAAAAAAAAAAAAAAAAAAAAAAAAAAAAAAAAAAAAAAAAAAAAAAAAAAAAAAAAAAAAAAAAAAAAAAAAAAAAAAAAAAAAAAAAAAAAAAAAAAAAAAAAAAAAAAAAAAAAAAAAAAAAAAAAAAAAAAAAAAAAAAAAAAAAAAAAAAAAAAAAAAAAAAAAAAAAAAAAAAAAAAAAAAAAAAAAAAAAAAAAAAAAAAAAAAAAAAAAAAAAAAAAAAAAAAAAAAAAAAAAAAAAAAAAAAAAAAAAAAAAAAAAAAAAAAAAAAAAAAAAAAAAAAAAAAAAAAAAAAAAAAAAAAAAAAAAAAAAAAAAAAAAAAAAAAAAAAAAAAAAAAAAAAAAAAAAAAAAAAAAAAAAAAAAAAAAAAAAAAAAAAAAAAAAAAAAAAAAAAAAAAAAAAAAAAAAAAAAAAAAAAAAAAAAAAAAAAAAAAAAAAAAAAAAAAAAAAAAAAAAAAAAAAAAAAAAAAAAAAAAAAAAAAAAAAAAAAAAAAAAAAAAAAAAAAAAAAAAAAAAAAAAAAAAAAAAAAAAAAAAAAAAAAAAAAAAAAAAAAAAAAAAAAAAAAAAAAAAAAAAAAAAAAAAAAAAAAAAAAAAAAAAAAAAAAAAAAAAAAAAAAAAAAAAAAAAAAAAAAAAAAAAAAAAAAAAAAAAAAAAAAAAAAAAAAAAAAAAAAAAAAAAAAAAAAAAAAAAAAAAAAAAAAAAAAAAAAAAAAAAAAAAAAAAAAAAAAAAAAAAAAAAAAAAAAAAAAAAAAAAAAAAAAAAAAAAAAAAAAAAAAAAAAAAAAAAAAAAAAAAAAAAAAAAAAAAAAAAAAAAAAAAAAAAAAAAAAAAAAAAAAAAAAAAAAAAAAAAAAAAAAAAAAAAAAAAAAAAAAAAAAAAAAAAAAAAAAAAAAAAAAAAAAAAAAAAAAAAAAAAAAAAAAAAAAAAAAAAAAAAAAAAAAAAAAAAAAAAAAAAAAAAAAAAAAAAAAAAAAAAAAAAAAAAAAAAAAAAAAAAAAAAAAAAAAAAAAAAAAAAAAAAAAAAAAAAAAAAAAAAAAAAAAAAAAAAAAAAAAAAAAAAAAAAAAAAAAAAAAAAAAAAAAAAAAAAAAAAAAAAAAAAAAAAAAAAAAAAAAAAAAAAAAAAAAAAAAAAAAAAAAAAAAAAAAAAAAAAAAAAAAAAAAAAAAAAAAAAAAAAAAAAAAAAAAAAAAAAAAAAAAAAAAAAAAAAAAAAAAAAAAAAAAAAAAAAAAAAAAAAAAAAAAAAAAAAAAAAAAAAAAAAAAAAAAAAAAAAAAAAAAAAAAAAAAAAAAAAAAAAAAAAAAAAAAAAAAAAAAAAAAAAAAAAAAAAAAAAAAAAAAAAAAAAAAAAAAAAAAAAAAAAAAAAAAAAAAAAAAAAAAAAAAAAAAAAAAAAAAAAAAAAAAAAAAAAAAAAAAAAAAAAAAAAAAAAAAAAAAAAAAAAAAAAAAAAAAAAiQAAAHAAAABDAyMTCQAwACAAAAFAAACPSQBAACAAAAFAAACQiSkQACAAAAAzcxAACSkgACAAAAAzcxAACgAAAHAAAABDAxMDCgAQADAAAAAf//AADqHAAHAAAIDAAACRwAAAAAMjAxNTowMzozMSAxMDowOToxNwAyMDE1OjAzOjMxIDEwOjA5OjE3ABzqAAAACAAAAAAAAAAAAAAAAAAAAAAAAAAAAAAAAAAAAAAAAAAAAAAAAAAAAAAAAAAAAAAAAAAAAAAAAAAAAAAAAAAAAAAAAAAAAAAAAAAAAAAAAAAAAAAAAAAAAAAAAAAAAAAAAAAAAAAAAAAAAAAAAAAAAAAAAAAAAAAAAAAAAAAAAAAAAAAAAAAAAAAAAAAAAAAAAAAAAAAAAAAAAAAAAAAAAAAAAAAAAAAAAAAAAAAAAAAAAAAAAAAAAAAAAAAAAAAAAAAAAAAAAAAAAAAAAAAAAAAAAAAAAAAAAAAAAAAAAAAAAAAAAAAAAAAAAAAAAAAAAAAAAAAAAAAAAAAAAAAAAAAAAAAAAAAAAAAAAAAAAAAAAAAAAAAAAAAAAAAAAAAAAAAAAAAAAAAAAAAAAAAAAAAAAAAAAAAAAAAAAAAAAAAAAAAAAAAAAAAAAAAAAAAAAAAAAAAAAAAAAAAAAAAAAAAAAAAAAAAAAAAAAAAAAAAAAAAAAAAAAAAAAAAAAAAAAAAAAAAAAAAAAAAAAAAAAAAAAAAAAAAAAAAAAAAAAAAAAAAAAAAAAAAAAAAAAAAAAAAAAAAAAAAAAAAAAAAAAAAAAAAAAAAAAAAAAAAAAAAAAAAAAAAAAAAAAAAAAAAAAAAAAAAAAAAAAAAAAAAAAAAAAAAAAAAAAAAAAAAAAAAAAAAAAAAAAAAAAAAAAAAAAAAAAAAAAAAAAAAAAAAAAAAAAAAAAAAAAAAAAAAAAAAAAAAAAAAAAAAAAAAAAAAAAAAAAAAAAAAAAAAAAAAAAAAAAAAAAAAAAAAAAAAAAAAAAAAAAAAAAAAAAAAAAAAAAAAAAAAAAAAAAAAAAAAAAAAAAAAAAAAAAAAAAAAAAAAAAAAAAAAAAAAAAAAAAAAAAAAAAAAAAAAAAAAAAAAAAAAAAAAAAAAAAAAAAAAAAAAAAAAAAAAAAAAAAAAAAAAAAAAAAAAAAAAAAAAAAAAAAAAAAAAAAAAAAAAAAAAAAAAAAAAAAAAAAAAAAAAAAAAAAAAAAAAAAAAAAAAAAAAAAAAAAAAAAAAAAAAAAAAAAAAAAAAAAAAAAAAAAAAAAAAAAAAAAAAAAAAAAAAAAAAAAAAAAAAAAAAAAAAAAAAAAAAAAAAAAAAAAAAAAAAAAAAAAAAAAAAAAAAAAAAAAAAAAAAAAAAAAAAAAAAAAAAAAAAAAAAAAAAAAAAAAAAAAAAAAAAAAAAAAAAAAAAAAAAAAAAAAAAAAAAAAAAAAAAAAAAAAAAAAAAAAAAAAAAAAAAAAAAAAAAAAAAAAAAAAAAAAAAAAAAAAAAAAAAAAAAAAAAAAAAAAAAAAAAAAAAAAAAAAAAAAAAAAAAAAAAAAAAAAAAAAAAAAAAAAAAAAAAAAAAAAAAAAAAAAAAAAAAAAAAAAAAAAAAAAAAAAAAAAAAAAAAAAAAAAAAAAAAAAAAAAAAAAAAAAAAAAAAAAAAAAAAAAAAAAAAAAAAAAAAAAAAAAAAAAAAAAAAAAAAAAAAAAAAAAAAAAAAAAAAAAAAAAAAAAAAAAAAAAAAAAAAAAAAAAAAAAAAAAAAAAAAAAAAAAAAAAAAAAAAAAAAAAAAAAAAAAAAAAAAAAAAAAAAAAAAAAAAAAAAAAAAAAAAAAAAAAAAAAAAAAAAAAAAAAAAAAAAAAAAAAAAAAAAAAAAAAAAAAAAAAAAAAAAAAAAAAAAAAAAAAAAAAAAAAAAAAAAAAAAAAAAAAAAAAAAAAAAAAAAAAAAAAAAAAAAAAAAAAAAAAAAAAAAAAAAAAAAAAAAAAAAAAAAAAAAAAAAAAAAAAAAAAAAAAAAAAAAAAAAAAAAAAAAAAAAAAAAAAAAAAAAAAAAAAAAAAAAAAAAAAAAAAAAAAAAAAAAAAAAAAAAAAAAAAAAAAAAAAAAAAAAAAAAAAAAAAAAAAAAAAAAAAAAAAAAAAAAAAAAAAAAAAAAAAAAAAAAAAAAAAAAAAAAAAAAAAAAAAAAAAAAAAAAAAAAAAAAAAAAAAAAAAAAAAAAAAAAAAAAAAAAAAAAAAAAAAAAAAAAAAAAAAAAAAAAAAAAAAAAAAAAAAAAAAAAAAAAAAAAAAAAAAAAAAAAAAAAAAAAAAAAAAAAAAAAAAAAAAAAAAAAAAAAAAAAAAAAAAAAAAAAAAAAAAAAAAAAAAAAAAAAAAAAAAAAAAAAAAAAAAAAAAAAAAAAAAAAAAAAAAAAAAAAAAAAAAAAAAAAAAAAAAAAAAAAAAAAAAAAAAAAAAAAAAAAAAAAAAAAAAAAAAAAAAAAAAAAAAAAAAAAAAAAAAAAAAAAAAAAAAAAAAAAAAAAAAAAAAAAAAAAAAAAAAAAAAAAAAAAAAAAAAAAAAAAAAAAAAAAAAAAAAAAAAAAAAAAAAAAAAAAAAAAAAAAAAAAAAAAAAAAAAAAAAAAAAAAAAAAAAAAAAAAAAAAAAAAAAAAAAAAAAAAAAAAAAAAAAAAAAAAAAAAAAAAAAAAAAAAAAAAAAAAAAAAAAAAAAAAAAAAAAAAAAAAAAAAAAAAAAAAAAAAAAAAAAAAAAAAAAAAAAAAAAAAAAAAAAAAAAAAAAAAAAAAAAAAAAAAAAAAAAAAAAAAAAAAAAAAAAAAAAAAAAAAAAAAAAAAAAAAAAAAAAAAAAAAAAAAAAAAAAAAAAAAAAAAAAAAAAAAAAAAAAAAAAAAAAAAAAAAAAAAAAAAAAAAAAAAAAAAAAAAAAAAAAAAAAAAAAAAAAAAAAAAA/+EFdGh0dHA6Ly9ucy5hZG9iZS5jb20veGFwLzEuMC8APD94cGFja2V0IGJlZ2luPSfvu78nIGlkPSdXNU0wTXBDZWhpSHpyZVN6TlRjemtjOWQnPz4KPHg6eG1wbWV0YSB4bWxuczp4PSdhZG9iZTpuczptZXRhLyc+CjxyZGY6UkRGIHhtbG5zOnJkZj0naHR0cDovL3d3dy53My5vcmcvMTk5OS8wMi8yMi1yZGYtc3ludGF4LW5zIyc+CgogPHJkZjpEZXNjcmlwdGlvbiB4bWxuczpkYz0naHR0cDovL3B1cmwub3JnL2RjL2VsZW1lbnRzLzEuMS8nPgogIDxkYzpjcmVhdG9yPgogICA8cmRmOlNlcT4KICAgIDxyZGY6bGk+dGVtcDwvcmRmOmxpPgogICA8L3JkZjpTZXE+CiAgPC9kYzpjcmVhdG9yPgogPC9yZGY6RGVzY3JpcHRpb24+CgogPHJkZjpEZXNjcmlwdGlvbiB4bWxuczp4bXA9J2h0dHA6Ly9ucy5hZG9iZS5jb20veGFwLzEuMC8nPgogIDx4bXA6Q3JlYXRlRGF0ZT4yMDE1LTAzLTMxVDEwOjA5OjE3LjcwODwveG1wOkNyZWF0ZURhdGU+CiA8L3JkZjpEZXNjcmlwdGlvbj4KCiA8cmRmOkRlc2NyaXB0aW9uIHhtbG5zOmV4aWY9J2h0dHA6Ly9ucy5hZG9iZS5jb20vZXhpZi8xLjAvJz4KICA8ZXhpZjpYUmVzb2x1dGlvbj43MjwvZXhpZjpYUmVzb2x1dGlvbj4KICA8ZXhpZjpZUmVzb2x1dGlvbj43MjwvZXhpZjpZUmVzb2x1dGlvbj4KICA8ZXhpZjpSZXNvbHV0aW9uVW5pdD5JbmNoPC9leGlmOlJlc29sdXRpb25Vbml0PgogIDxleGlmOkFydGlzdD50ZW1wPC9leGlmOkFydGlzdD4KICA8ZXhpZjpYUEF1dGhvcj50ZW1wPC9leGlmOlhQQXV0aG9yPgogIDxleGlmOlBhZGRpbmc+MjA2MCBieXRlcyB1bmRlZmluZWQgZGF0YTwvZXhpZjpQYWRkaW5nPgogIDxleGlmOkV4aWZWZXJzaW9uPkV4aWYgVmVyc2lvbiAyLjE8L2V4aWY6RXhpZlZlcnNpb24+CiAgPGV4aWY6RGF0ZVRpbWVPcmlnaW5hbD4yMDE1OjAzOjMxIDEwOjA5OjE3PC9leGlmOkRhdGVUaW1lT3JpZ2luYWw+CiAgPGV4aWY6RGF0ZVRpbWVEaWdpdGl6ZWQ+MjAxNTowMzozMSAxMDowOToxNzwvZXhpZjpEYXRlVGltZURpZ2l0aXplZD4KICA8ZXhpZjpTdWJTZWNUaW1lT3JpZ2luYWw+NzE8L2V4aWY6U3ViU2VjVGltZU9yaWdpbmFsPgogIDxleGlmOlN1YlNlY1RpbWVEaWdpdGl6ZWQ+NzE8L2V4aWY6U3ViU2VjVGltZURpZ2l0aXplZD4KICA8ZXhpZjpGbGFzaFBpeFZlcnNpb24+Rmxhc2hQaXggVmVyc2lvbiAxLjA8L2V4aWY6Rmxhc2hQaXhWZXJzaW9uPgogIDxleGlmOkNvbG9yU3BhY2U+SW50ZXJuYWwgZXJyb3IgKHVua25vd24gdmFsdWUgNjU1MzUpPC9leGlmOkNvbG9yU3BhY2U+CiAgPGV4aWY6UGFkZGluZz4yMDYwIGJ5dGVzIHVuZGVmaW5lZCBkYXRhPC9leGlmOlBhZGRpbmc+CiA8L3JkZjpEZXNjcmlwdGlvbj4KCjwvcmRmOlJERj4KPC94OnhtcG1ldGE+Cjw/eHBhY2tldCBlbmQ9J3InPz4K/9sAQwABAQEBAQEBAQEBAQEBAQEBAQEBAQEBAQEBAQEBAQEBAQEBAQEBAQEBAQEBAQEBAQEBAQEBAQEBAQEBAQEBAQEB/9sAQwEBAQEBAQEBAQEBAQEBAQEBAQEBAQEBAQEBAQEBAQEBAQEBAQEBAQEBAQEBAQEBAQEBAQEBAQEBAQEBAQEBAQEB/8IAEQgAlgFWAwERAAIRAQMRAf/EAB4AAQACAQUBAQAAAAAAAAAAAAAICQcCAwQFBgEK/8QAHAEBAAICAwEAAAAAAAAAAAAAAAYHAwUBAgQI/9oADAMBAAIQAxAAAAG/wAA2yKhD4xgcw2DL5MYkofQAAAAAAAAAAAAAAACHhW6S5JrGVDUaDD5CUjcWcklQAAAAAAAAAAAAAACpY3S1E8XuNDhmURDxG20vGyYe0wej3uo3uZYtMO41m4qjMslkQAAAAAAAAAAAAABU8ZYJ15/NEWxatxhIYx3ODP2WPJyuvb7zxxu/TrsuLLUYl0nYBZdcfTL6MsNAAAAAAAAAAAAAIqELC17N54HW1SvSe7X+g83p7vB6O0xZeb07/XHDyY+pz4Ok9Hl9Vqt1MqrrgqE6ZbJjNoAAAAAAAAAAAAKGS7oiJZ1R4mkkUzTG5VmONynn9MvK6dt7jn6bPbrwu+Pg5MXWZMeRNFI9Os3FU5c8AAAAAAAAAAAAR8ILFjG101edy0T6rye2TsGsCSsJsLWfQD4aDSbJsmwVMloJ74AAAAAAAAAAAFX5Jc8pYVZR0m9fer8ntk1B7AkrCbB1moA0Gg0G0bRsERzgE4QACs46g8WW6lIhnk8yWwFUh6YzedIYHPFFmJmwAFLBbWQftylMb76N7nbpJCFT6XdcWp9NR9PhpPhHacV3nCIzft/L7eOYtIhFlwAOIUnF3hVOTaKty8YpEJ7ldxJwwiZ6JMHXmEixIAFIpcQVqXj8+xym1f6MmKbtX27PGpLq3DUfT4aTbIHXBRfgttqLIaK+itzjnxhDssfABpPzxH6GijAuNPz5H6Pj8+xcSQPLhjzRWoSxOrI+lmoAKciy4rlvb53jRPK67XH2nBV1vz3qK7NZqANBoIDXFRUTLFrCwWlL+krA7G8AYXJvAAEOyAxNQnSfnEJFk2yapWmYHJzm+ZhOIY3JUAAroOwONZ1TV43NRPZ9O85Ktt6ftQXdrPoBpNJX1clExIsar8oR2UWt/O/09HUygZ1BiHdaLz/q8md45Jt/jsAKZi5kAAAAAAGOSl4uC92vpL+oPknRm806aruCwOn7v1GoHw+GkrxuehohWPVvD7Lu/lX7Ei3hzzhOeVL3RRnrfF78ga3adtg9M5a9sf4D6DS41OQPjj65qquGlLVaeusaXGpzsdutZFs09Z9UlxijEs/I7WhUlct0UVknT7jJmk33I4b/ABzucc/T4bXPGNN3oPEbTVOve6X5a+vOJ5Pdnc8Z7tdXPalR2jU9dfVZcPN6ZMP7yP1tWrUXF79LNamuKKUzg2Gt3pMb7fR3I0T9BVL3TRmQ9XuJaQucU1Xv89WgVBdfN6dsCSON9Zm8ko4fOKq7mo22yk75l5CZ3jApPLwnFb110PCWzqn5vTnmcc8njnc686jSbfPHH7cbBlTQyO3L5p+qsr8duQY92eojtK4fIuJzKAVm1V4Paab2Ph2O907cPJiydpt9GSXwi5ug/o6FlgVscRRmsEklE5jO2trTpzvj52uOof6Kw1v43FOaQOIk6r68P50+nqlbvoG3OjvoECIJAcuEIi2LWNdlv0n5TYavkcc7nHOo0nv9Tuu88ntxPvo9OarrbsmqG6+eDRzxDCwaylNC59u9O1b9uUrlPS7/ADjGpVnuMyzhZMVU12UFa3SV/QSsuqZBxaX5a0UhgtZVVSRiM1gxZFV2u0lf9UF3/P8AarSd+1MXl89230X9DVZ3RQ1p1LX1u8dgIxleJZWZb7447y6F4ckUY8z7PD6/wbHNcalOfYrMa07ko+Mc1gd0vzx9L5B1m3AHSejyxrl8Ix3tdPJyHTnJGo3cK7DrLrcuCYUDsbpvR5oiTmvMs6WQSrhM+g5Y9W7/AE7TXryzozzCEcDJi9P5PbhjfxrIOr3EroTP4YWBWmTNPvJBxeXgDzZAE8aSKMwnfm0dIcMhZbVMSdjUrlZCp4AAAAAAAAAAAAAAAAOKYpPHGo9Ue4PVnjvdrvZ+HYgAAAAAAAAAAAAAf//EAC4QAAAGAgIABQMEAgMAAAAAAAIDBAUGBwABCBEQEhMXIBUWQBQkMDMhUCIlNf/aAAgBAQABBQL4iEEAZJdMAjYnXkyr3v3juJ4F9/350G6bbZhNPJffcatuCSj/AEdg3LHYRglFsXUpjHHBkSFs0GiEe1rWtawQQi09V9C5Bkm44oTQJZHadPqoLacbnQfz7Tu9QpPrihNCxKmToyHOUNDXtTPXA3Zkhfj9/V3nCZE/EbSzpWDbc/tbpjg3oXRLP6SWsZlU3OF33+bedonDOqCoiIumWLErenepiudBFl6wBeBLz0s9LBF4IG9YzTBSj2ScUoKuCpi15dL2eN+K/Lt6e/YsXoOvf1pqtWnQJXt9VP6soGFgwAMCXmi89PBF4MGGAxhkBzIeUcUoKuCEnRF6r+YJ5tGvypUrU3BbKBEmbEU4ftuK8oORpiLehhhCbWahyfWaiZGs+1iM+1ic3FCN5uHp94KEJt4KBJd4ytG2VO/syORM9TvCyDWD+Tack1FYJxtjYQlSV0+jspXe8JyA/wBv8G83m8vpmG3SCLPIZDHfyOTbpspnqZq+kV9Zq7swnCsgX9v8O83l1NgHGC0C6frYV8bEs98WSPVHzFUW3TmZVZJCjCzi2OyZCxSA2prIkQIPPZHC5aqVJ0SYMhnNxvThTkxjyeoLJPmSe/XNa2RxoeLDtBHJIpOqtBX0tDNIv8OTCkZssQEgTIbAUerKCd4J5QJsrJ404KfPvPNvO87zvPNvPPvJTLzI4+N7mjdUm83vJmn0qifHvfpD+B5uiCeOBn1yc5yfLKJSVYsNX13SQylFvZyUABtmtyuJiap6qsx3iLF79SzKURSL3N5Om+jFqfCXqtbq8uqx40n7OhHw5G62Gwi9/wDCxXEtFLznFUqwG8pzf7rw7zvO/G1Rf9zC5WKPuGjP8ebvJD/4NGE7LcfhvWhaqt4KqW3ADAYDkjL00pkkPZPtqLVvOG6DWolXolyO1njVo3DbEdVSCteLc0bgocTPLQtW8rxbDEaX33Vt576qjiuLYoJ8OTSLyPrGvA5MdwJ/RloN4AWU1v8Ad53nfh3nfhbAunoQsrORbdGnJUf6UbplJssr42XS0ZsgWuMtgkgrahozX6nKoi7LMbOcOLcnJPq2k2GthZP+NzFJl2uOlnqQ1fTzNWO7grM+z2KERsUQic+i45pEKjro+s458OSzd6kKod7+sVzdDSI9rALAiyl9/u+87zvw7zvwtwXT4IeQV4E0SjeWQu2Qy1yh0ii/g7z6GMRqK069cBlmFnF/CmIBMmC1v5pcwFSmMceH89hljw2EPbUtRqWpcEeUqLtZnfj3nfhb4un0Q89YRYkxv6hNJyDZA/JU5aRNlr2a/O77FuODWUndeOsIVk1TApdAnX49/Jhm8rVXh4d68DN70XREzlElf/C/YouiE2hcpRTOOW3CxLiQjxjkzxHh6s2a5qzJpnuXM89yplnuVMs9yplnuVM8eX90fj9jwANm4QbtEwRZo1o/JE4CaWGj42QbIBjAWH6i34UoTqMsCZpoLG4/B55cJcjgc4p8EAlxU3jFy2q4x1SioCXvpKsdkUa7MD2ikbM4OkuuedKaDlDDk/iElmMZbog9LbBrqr5dEpHY7dashfjONzwMiq5lKIxN7SryTzFdXULfZi5VdAZHCh5MYo3TSOwSSO9OTMkwlSTY9ZmtwwjwJmaMzQ88+efPPmx5sea35hMyDaxT+mEtOKKASXksTbVxupygpDJTHyJTHzeNbOWVxwK2S/8AJEZpmMNmTBnZJLYc2kjDx/aHtnZWMr63fuX23lrIBQphm4C/w2Z1jMIpezE8D1vW9Rwjq/8AJdPI7CyS72XrtEOKmQXId/Tx2I9KS+Ns1clsFsrOx3KBrE5xCoiY1C2vQ3mNPUeP0DeaDvPLnl3nlxiiT9JDZrEPtBUlK7MrBg2udCCAkB8N60LR5KmIPza+NbqW6uLe3o6FI9J8vdkMXNVayJK9xc00ogtGuRuJD4VuDW0jWJHBPd0hRHNtasZschra7tjyRd0fjxaCsNqdwRu9Nuuvzg0J+TInC5d7TIk6haje7hM12XSQym+W6GDY/GwqxaJ0Q0Pc3qNyi86jssAcmJUlOdTw9w2so4Pfsi8Yjo9OHbXV8QbNgKAWG6daHIWdAoXLIwwkxxn+C9vSORDpWIT9gpg5SdGIYyxMClMnWp3SmCPXIpxwVDYGNFHGuTRNolaUymHMkyNVOzMqgWtC0vpvZKhspwAlJRRZBc0rNHKFcLrc6NOkxrpslhiWoXQ7YKqb0siyS1EQ5uEGg4oj8XVnbHxJIKRUJhJJlYUOG2W42KNETiLqM1Jo+LBSdj1hkrT7wCx2c8tJvPKe63gf26R/ojiCVJSuBRNWIVYsmArlIDZEIaysTsTUmzWtB0awtyh6/N//xABaEQACAQIDBAUDChALBQkAAAABAgMEEQAFEgYTITEHFCJBUTJhcRUgIzNCUmKBk6EQFhcwQERQVFV0dZGUs9HTJCU0NVNzgrGytNJDYGNywWRlg5Kio6Tw8f/aAAgBAwEBPwH/AHczHaPK8uLJJNv51uNxTWkcEdztcRx2PMO4I8CeGKnbatkv1Slgp17jKWnf5t2vzMPTiTaDO5zdswmXzRbuAD0bpEP5yceq+b/hKt/SZP8AViHaLO4D2a+SQe9mWOcH43Uv/wCVwcU221ShtWUcUq97U7GJx59DmRW9GpfSMZfnuW5lZaecLMfteb2Kb0BSbOR37tnHn+4dXV09DA9TVSrDDGO0zfMqgcXdvcooLMeQxnG1dZmLNDRl6Oj5cDaomHjI49rB/o4z46mfuVe7CpgJjd+bBjwU82CpUggm44gjgQRxBHfwPIjvxk+1tRSFafMtVTTcAJ+dRCPhf0yen2UdxfguIZoqiJJoJFlikGpHQ3Vh6f7xzB4Hj9wKqqhoqeWqqHEcMKF3Y/Mo8WY2VV5sxAHE4znOanOqreSXjp4yRTUwbsxr75u5pmFtb/2V7Iwq4VcKmNONGCuCuGXDLjIs+myacI2qShlb2eHnoJ4GaHwce6XlIBY9rSRDNHURRzQuJIpUDxuvJlYXBH7DxHI8fs/bDOjXVnqdA38FontIQeE1SODk/Bh4xr8LW3etoxjZ/Jo83epSSZ4dwkTgooa5csLG/hpwNjKYfbs3yaftwNkaf78l+TT9uPpTp/vub5NMfSpT/fUvyaftx9KlP99S/Jp+3B2Sp/vuX5NP24Ox1Oftyb5NP24OxVMft6b5KP8Abg7C0x+35/ko/wDVjJsqOUU70wq5amEvriWVFXck+WEIJ7DntaeQbUR5TfZ2f5j6l5VVVSm0unc0/K+/m7CEX5lLmS3ghwtybkkk8STxJJ4m5PMk+PE4jGNifbsw/qqf/HL9yOkCrJfL6AHgokq5BfgWb2GK/oAmt/zYTuwnd/8Ae7GxXt1f/Vwf4pfuRttNvNoZk+96ali+No9+f1wwhw+Z0cAsZdZHuYhrPovwUfGwx0d5kK+qzZViMaxQUpBZrltUkw4gCw5eLen6xtRtXJs5nlEu6aammoVeeJXAuOsTLdVbgJFC9lri/ktwxl9fS5pSQ11FKJqedbqw5g+6jkXmkiHsuh4qfiP2ftzWpS7TZkD25D1MhRwsOoUoBY93IjvJtietqKi4dyEP+zXsp8Y91/avgHHRR/Ks6/FqL9bP9Y6Uf55oPyYv+aqMbF7TtkNcIKl/4rrXVakNyp5DZUq097p4CfuaLj5UaYBDAMCCCAQQbgg8QQRwII4gjgR9ndKNOYtpUntZarL6V7+LQtLAfjConzfQBx0T/wArzr8Wov1tR9Y6Uj/HNB+TF/zVT9Do5z45jlbZbUPeqyvSkZJ4y0Te0nxvAQYW+Bue8m32b0r5Y02XUGaxrc0M7U9QRzEFXbdufgpPGqemcYB+h0S/yvO/xai/Wz/WOlP+esv/ACWP81UYJxsXmrZVtJl8l7Q1UnUKkdxiqiEB9Mc26lv8C3In11dtPs/lsjRVub0MMyEh4d+ryoRzV449bo3mYA4p9s9lqlgkeeUAY8t7LuPnnEY+fCOsiq6Mro6hkdCGVlYXVlYXDKRxBHAjiPsbNcuhzbLqzLp+EdXA8Oq192xF45QO8xSBZBxHFeeK2jqMuq6mhql0VFLM8Mo7tSG2pfFHFmQ96kHvwDjok/led/itF+tqPrHSqf46oPyWvx/wqpwThXaNlkU2aNg6kdzIdQP5ximl39NTz900EMw9EsayD/F6zbfbHM6/NPpY2aaVfZhSVFRT3E1VVMdLU8LjtRQQtdZpVtvGWTjuFvJkvRJQpEk2fVc9TVMAzU9IwigiPejSsryT298u5F721CxxW9E+zdRGRSSV1DLbsyLKs8d/hxSrqcDnZZY+PfbhjYnZrPtmazMKWsrVq8neFGo2WViu/wB53U7ktTvu9W903ja8dpHK2T63lu0meTdJM+USZhK2WrX5lAKQrHuhFBBO0SjsahpKKdWrUbcSbn1rkhGI5hSR6bY6Ndos5znMs2hzOvlq4ooN5EsgjtG2/VLroRbDSxFuXLhw9b0k7Kmsi9X6CLVU00YXMY08qamjHZqQvupKZezJbtNBY8dzxxlGfZpkTzPldT1ZqhUSY7qGXWsZYoLTI4Fix8m1+/A6QdrPwoP0Oj/cY+qBtb+FB+h0f7jH1QNrPwmP0Sj/AHGPqg7WfhMfolH+4x9UHav8Jj9Eo/3OPqg7WfhIfolH+4x9UHaz8Jj9Eo/3GM2zrMs7njqMzqOsTRRbhH3UUVo9bPp0xIintOxuRfjzxfCRmW/hjLF05blq8iuX0SkeBFLEP+n0c2qzQ5ZmFYvl09JPLGDyMixtuwfMZNIPmx0aZTHJmuYZrON5LSRJHCzcbTVhk3039Zu4yl/CZ+83wzKoLMQqjiWYgADxJPAY63S/fNP8tH/qwksUt93JHJbnodXt6dJONqtooNmcomzGUbyW4go4P6eqkDGNTaxEahWklNx2EIXtlQco2d2n2/j9Wc5zqWjy+V5OqRorMH0vpbq9IrwwxQAq0e8Z9bOlysnFjnOze0uwKLnWTZ1NVUMToKpSDHo1PpTrFK0ksU9OxZY76iwkIfQnZZdls+j2kyWlzNVEcrgxVUSm4iqorCVV4k6GussYYlhHImrjfHSFtzV5RPFkWSfznMqPUVAQSPTrL7TBAhDA1EvlMzA7uMpoBeTVFSdF+eZnH1zPc/mhrJVD7v2StlRiL2qJpJoxr99uzIB75jiql2v6NK+mElZ1/K6hiUQySSUVQqEGWIpINdJUhSp1oLkadLyorKMrzGmzfL6TMqRtVPVwrKl+a8w8bW4a4pA0b2uNaGxI44nr896Q9p6zJaPMGy7J6NpiyxkqOqU86wtUSRqymqqJZGTRGz6I9YAKLvHaToyznK9NXs/tJN1yMht3KJKMSW4sBLHNOCX5aJEEZFw72ONp8izjPsmoaSlzIZfXQyQTVUoaVY5WWneOVLwdq29fWvZ08OQ4Yo8izOfa+TII8xEeZJV1kBzDVNYyU8cryPrA33sioy8RftceGNk9js/yPNOu5jngrqfq8sXV1kqn1O+nSWEwCgLbVcXOoLw7xtdS7cZrmaZbkMoy/KeqxvNmAlEGqZnfWjSpqquyFA3UKWZW9kuGGH6JK1ojL9M0jVui9mp5N1vvxjrJlCfC3BYeHdjYnaLO8n2lbZLPah6iMySUke9k3ppqlF1QmGZu21PUKAixHheRJFEZ3gfbTZbOc/npZ8szn1PipqeWOWBnqEV2L694u5vcsvYa4HBE4t7nY/Z/Nc/rK2DLMzXL5aeHXLIXnTervVXTeEEntEN2sbGbM5xs81e2aZsMyFUIBCivUOIt1vdbHf2sW1gdkchxPAes58DxB5g9+NuNgpKJ5s4ySEyULFpayhiUl6I82lp0Fy1IeJaMcafuG59rvf6Fzi+LjFxi4xfFzgC5tjKqFqqpp6ZR2p5ooR6ZHC/Ne/8A+YVQiqg5IqqPQosP7vo59CajJsyiXiWpJTbx0DWfmXGwKrC2aQ8mbq0o849lQn0A6fz4zvKo87yqtyqWWSBKyMRmaKxeMrIkisAeB7SC44XFxcYk6HaJEd/Vyu7Ks1txF3An3+Oh3WM2zhSzaTl8Rtc2uKkAHn3cbeFz446ZpHIyGmv7GfVCdh4ugpUU/Erv+fGWbcbRUGXUFFT7FVrwUtHTwRSLHW2lSOJFE3Zo9J33tpYE6i+rU17nOdsNpc5yuuyuTYuviStgeAyiGucx3tZwpoxcqQCOI49+OiehzSgyrM4swpaqkiauR6WOqieFiTCBO6RyBW0kiMa9NmIsCdJAyweqfSxNJU2fc5zmegEDllsdRHSfHH1eJgeepAfodKtKlRsnNK1tVJW0U8Ztxu8vVio9Kzn02GOiqR22TSNrkQV9ZEl+5SUlt6NUjfnxm+z+0uxO0FRtBkEUlXQTyTSndxtOqwTsZJqKvpozvN1G1mSdLJZIpNccqlVyHpUynMGSnzaFspqGson1b6gdibcZbCSn4/0qGJR5U4wCCAQQQRcEcQQeRB8MZOh+q3Ut/wB7Zx+bq9UPobQbVZPs1GrZjO2+lUtBR06iWqmANtSoWVUS4I3kzxxkgqGLC2F6VKmpu1BsjmdXDcgSrK7Xt47ihnQHzCVvTiCvmzbpHy3MpqKXLZajNsuL0c2reRaEhi7WuOFu2F18Yl4MOfMye1yf8jf3HHQ+unOs6H/YVP56sfs9ftP0b0Oas9blDR5bXNdpIdJFFUseNyqAmmkJ5tErRt7qLVd8ZnkWa5NKYcyo5qY6tKyEaoJbcjFOt4pAeY0tfuYBrgaDjRjRjRjRjKNms4zyRUy+jkkjvZ6p/YqSId5knbs8PeJrlPuUONqdmfpaqKGkNT1maehFTUOF0xrKZ5Y9EI8ooqxjtOdTG50oOyKeK746P8o6xmPXpFvFl6618DVSgrF6d2uuS3cwQ+sIBBB4gixHmOJY59nM2E6IWiuwsOAnpXIuoPLUthcHyZEB8m16LNKDMED01RGxI4xMwWZD714idQI8eKnmrEWOK+spKOmleqqqemTdv2p5UjHknlqIvfwHE46Jo9Ga5qfHL4v8yMdK+VyVWX5dmCIWWhnlhnsD2I6wRhXa3JN7CiEn3UijvxsVnVPmuRUEYlTrtFSw0lXBqG8DU6LCJtHPROqrIGA0hmZL3U4d0iUvI6xoouzuwVVHiWNgPjxTVVNWRCelniqYWLKJYXWSMlGKOA6kqdLAqbHmMZqrbLdITZm8bGmkrWzC45vTZgrLWMnvmjklqNK34lAtxe+Kepp6uGOopZo54JVDRyxMHRgfOPnB4g8CAcdKGc0z0MOR08qy1MlSlRVrGwbcxQBt3HLpvaSSVldUPaAiuV7S32Jyt8m2aoYKhd1O6yVlQjc42qGMgR/B0i3auPcuGXuxRZhQ5lCJ6Cqgqoj7uFw9j4MPKRvguAfNjpRynJ0o6aujhggzWWsCEwhY3qoGjkaZ5kW28KOI/ZmGoFtJY6rY2GadtlMn6wXZxA6oXJLbhJ5Up+J46RAEEf8AwwtuFsUZWj6UJ5agiJWzeuXU50gGqilEJN+596lu46h441LqC6hqIJC3GogWuQOZAuL+FxjNooKzpLKZzY0Qr6aIrM1od0tIjU0bX4bmScprB7Da3DcGbBMNNDcmKCnhT4MUMUSDh4IiIo8yqB4YlqqfM+kilr6N97TPnFAsctrB9wsMLOt+aM0ZMbe6SzW44cXRh4qw+bHRe6Um0OZU8x3clTRyJEG4apKepRnjHw9BZwvvY3PdjUpYqGGpQCVuNQB5EjmAbG3jb18sMU8bRTxRzROLPHKiyRsPBkcFSPSMV/R7s1WktHTSUDnjeilKJ8jKJYlHmRVHhio6KUuTSZyyjuSpow/D+sinj4/+EP8Apj6ldffjmtFbxEE1/wA2of4sU3RTALGsziV/FaWkWH/3JZp/1eMv2C2aoCrmi67KvEPXOZ1v47myQH+1E2ERI1CIqoiiyqgCqoHcFFgB5hjpQTVnNB+TFH/yqnGXUU1VUxU0EZkmnkWONB3sxt8QHNmPBRcmwGMjyqPJsugoksXUa55APbah7bxvHSOCJfiI1Uetq6OnrYjDUxiROYvwZD75GHFW845jgbjhiu2FSZtVHXmL4E8W8t6JI3jP/oJ8+F6M3mkDVmbDQD5MFMWc+YSSy6V+Sf0YyPZrLNn1k6ikhlmCrNUTPrlkVCSq8AqIoJJsiLc+VewtPBDUwy088aywzI0csbi6OjizKw8CMVvRpDvjNlGZS0XG4imRpNHmjqIpI5VA7g6yN4vfEfRvVzsPVPPpZYx7iNZpmPokqZ2VPkmxlGVU2S0EOX0mvcw6yGkbVIzSOXdmICi5YngAABwAxnmz+XbQU6w1yHXFcwVEVlngLW1aGIYFXsNcbhkawNtSqQ3RpWxMy0edqsLH3UU8L2+EsM5SQ+fsg+A5YyTo/wAtyyeOsrJnzKqjYSR64xFTRyDiHEOqRpGVuIMsjLezaAQLEBgVPEEEH0HgcVXRtu5jNk2bzUVybRyCS637lqaeSJ9I5ANG5tzc4oujZDOKjOszlr7EEwxiRd5b3MtRNJJMyHkVQRm3JxhESJEjjVUjjVURFAVURAFVVA4BVAAAHADG02w9Nn1R1+Gp6lXFUSVjFvYZxGAqF1DxusiqAgkVj2FUFDa+Nmtipckr/VGqzLrcqwSQRRJG6ook03ZnkldmsFsECqBzucbSbGUO0Diq3rUdeqBOsIgkSVV8gTxErq08ldXRwvAllCgQdHVdIVhzLP55aFLWpod+1wO5RUTNFD8UUluQHfhdgaKDOcvzOiqeq09B1ZhR9X3jSyU5vrapM6nVMeMhaJiD5PCwXGddHcFdWS12XVvUZJ5DLLBJEZIhI51O8Lo6PFqbtFLOLk6SgsuNltljs71uSWuatqKwRBzuzGiLEXIA1SSu7HXxYlfAL3n670jxNJnFAqqWZqBEVQCxZmqpwqqBxJJIAA4kmwxsZsoMmi6/WopzKdOyp49Shb/Zr/x5BbfsPJ9qU21l/uTJldJLmMeaSpvKmCAU8GqxSEa5HaRFt7a2806zfSo7Gklifs3/xABbEQACAQIDBAQFCRMJBQkAAAABAgMEEQAFEgYTITEHIkFRFDJhcYEVFiAjQlJikZIQJDAzNUBEUFNUVXJ1k5Shs7TTJTRDc3SCstHwF4OxwcInYGNkZaLS4fH/2gAIAQIBAT8B/wC7lDkWY14V0i3ULWO+n9rQg9qixdxbkUUjy4p9kaRB881M0x7ogsSfrEjH4x6MR5JlEQstDC3llLzE/nGYD0AY9TMr/B9H+ZT/ACxLkeUTDrUUaH30LvER6EbR8aHFRsjTtxpKqSNuxZwJE9LIEYefS3mOK3J8woLtPATEP6eL2yH0sOKf7xUPk+0dNTT1cyQU0bSyvyVf1sxNgqj3TMQo7TjK9m6ShCy1WirqufWHtER7kRvHI+6OPxVXtZ8M+NWNWNQwG8uAwa4NiCLMpsQQeYI5EEcD5MZrszDUhp8v0wT8zDygk/F+5N5vaz3LxbEsUkMjxSo0ciHS6MLMpHeP9X5j7QU9PLVzx08Cl5ZW0oo/WT3KouzNyVQSeAxlWUwZRT6Es9Q9vCJ7dZ296vasSnxV7fGbrHDNhmwXwX4414D4D4VsI2M4yaLNYtSWjrI1O6l5B+3dS96n3J5oTflcGSOSGR4pUKSRsUdG5qy8CP8A75HmOH1/srlIo6Tw+ZfnmrW8d/6KmPFR+NNYSN8HQvfdzjPM1fLFpykSy75pAdTEadAU9nfqwdqqg/YkPy3wdp5z9jRfLfHrkn+94vlvj1xzfe0Xynx645/veL5b49cs/wB7RfLfA2onH2LF8t8DayoH2JD+cf8AywNsKkfYcH5yTGa5l6qTJUGmjp5QmiQxsx3tvEL390o6urmVsD4o+vskoPVLMqamYXi1b2fn9Ji6zg25a+Ed+9xhrDgAAoFgByAAsAB2AcgMOcbXfS6H+sn/AMMf2o2HperXVpHEmOmQ+Qe2ygecmK/4uH/zw+NrfpdF/WT/AOGP7UbIRbvIon+71FRL6Ffcj9icPhcuq5uIj0KfdSdT9R63xLjbvLzRU+Ws0gdpJqgEKtgNKRHgSbm9+4fQNntm0z3KKtt4sNRFWMsMhUmx3ETWYg3MZvxW3whxxW0VTl9TLSVcZinhNmU8iPcuh5PG44o44EfX+xtG9Ts9l5uFjHhQLc7kV1SeA7efmH6sRUkEHipdh7trF/Qfc/3bYOOkv+bZT/aKr9lF9A6O/qVW/lA/u9PjazZ1c5ojNAv8o0is0DKOM8YuXpW4cdXjQnsk4cpGwQQSCCCDYg8CCOYI7CO0dn190cT7zZ9ob8aavqFt3LKsUw/Wz29OCMEY6TP5tlP9oq/2UP0Do5+pVb+UD+7QfM28yUUGYrmEC2psy1M4A4R1a8ZR5pgRKPh73sAv9e9GWYLFX1uWSGwrIVqIL8jNS31r52hcv5ofmEY6Th865Qf/ADFX+yh+gdHH1Krfygf3anwBja3LRmWQVyW9tp4/DKc9okpgXI/3kW8j/vA9g9lRbOZ7mKLJR5VWzRNYrKIWSJgeRWWTQjDyqxGKjZDaamUtLktbpAuTFHv/ANUBkP6sMrIzI6lHQlWVgVZWU2ZWU8QQeBB4g/W2W18uWV9JXw8ZKWZJdN7a1B68ZPYJELIfI2KSqhr6WnrKdtUFTEk0Z7dLi9m7nU3Vh2MGGCMdJ/8ANco/tNX+yh+gdG31Jrvyi37tT4AwYxIrIwurgow7wwsR6QcVEe5qJ4TzimliPnjkZP8Al7DYzZLLaLLvXHtEsJG6NTBBU2aClpgCVqJ4zdZJpRZ4oiG0KU6hmbTHnHSpWvK0eSUkNPTqSFqKtN7PIBwDLEGWGEfAbfG1uK8Rij6UdooJAapKKui90jQ7h7fAkgZQp8rRSD4PaNsto8k2kpKCqpaRqXN1mdazVGuowboWvUoAKhd5bdFwsiWe6KCNX0PMdnsmh6PIM1joYkzA0WXTGqBk3hknngWQm76euHYWtYX4AcPYrxZQeRYX+PHSLkGT5Rl2VS5bQxUsktQ8cjRmQmRBAGGrW7XIbjfn5fY9H20opZPUOuktT1EmqgkflDUOetTlvcx1DdZL9VZrjhvcEYzXJMuzlIUzKn8IWBneIb2WPSzgBj7U6E3CjnwGPWLsx+Dj+l1f8fHrG2Z/Bx/S6v8Aj49Y2zP4PP6VV/xsesbZn8Hn9Kq/42PWNsz+Dz+l1f8AGx6xtmfwef0qr/j49Y2zP4PP6VV/xsZZlFBlEUkGXQbiKSTeuu8lkvJpVL3lZz4qqLA27bc8AYeQJbGYENmFew5NXVZHpqJD83LKYVuY0NK3i1FVBE5HMRtIokI8oTURjpEzWRMsocsgOiKqlZ5lXtipBHuovxNbh7dpiTlYjABYhVBYnkALk+YDHg1R97zfmn/+OHjkjtvEdL8talb+a4GNmshm2izWHL423cVjNVz/AHGmQjWw75GLLHEOIMjrqsgYjM9oNm9hX9ScoyeKrr40TwmRmVSmtdS+EVbRzTzSkEPulCxor8GTxMZVtFs9tyxyfN8nipq2RHNMwKyayq6n8GqhFFNBOqhnCG6MqkF2voO0uSPs/nFTlrMZI00y00rCxlppetEx4AahxjkI4bxHtYcMbCbGUuawyZ1nIvl0LOsEBYxrOYheaadwVIp4vFsrDePr1FUjtJUdJWSZc/gmTZCk1JExQSBoaCJlBtqhhSmmOk+5Mm7YjmgxTx7KdIlFUFKMUWZQAB3EccdZTlwd3LvIrJV05YMLSXtxusLOrHMsvqMrr6rL6pdM9LK0T28VrcUde9JEKyIeZRhcA8MU9FkmwWzlLnFXQLmGa1YgUNIFLeE1ELzCCF3SRaWCKNHDyrHvJNPHWWRFi6SMozLVS59s9D4JJw1xmOr0X4AmKWGJgV8bewyCRSAUTVxxs3neVZHm1bVVWXeqFFLFPDTRMkMjxBqhJIn01F1vuk0Mb6hq588VeeZdBstHncmX7zL3pqSVaDdwG0c8kSRpu29o9rLhrchp6vG2NqdrsjzrLPAqDJBRT+ERS+EGGkjsiBwygwDWS2oC3i2uTxAxsrU7G5Zl0mY53F6oZp4S6Q0JhM4WJVQo6xSaaU6izXknckEe1qCpunSpRLKIxs4qUYbT1aqLeCPvEAo1iv8A+HvQvZr7cbY5Dk+bbPDarJadIJFjiqZNzGIRUU0jiOUSwr1FqKd21PIACRHIrF+oRsftNlGRwVUGY5OMwlqKiKSKfd00jIoTRuz4QLqFbrrpY3LtcC122rz7LcjpKOfMcu9UI6iZo4o93TybthFr1WqOqOrw6vH0Y2v2jyrPhQjLcqGXGmM5lfd00bS70RaV+dxxC6CeseBPAc/YcuXDGxu2yVaxZTnEuirULHS1srAJVAdVYp3NtNSOAV24T+6O9+mFcEYti3kxbFsWxbFsHgL4zOsFNBUTseEMUkp80aFv+VsMxdmY82JY+cm5+bksogzbL5DwC1UQv3am0f8AVjbZjMMtm7AKiMnsB9rYfHx+LGT5nJk+Z0mZxRpM9JJvFikuEe6MhBI4jgxsRyNjxwnS1mDOi+pFJ1mC38Im7Tb3uOlhg+W5SeFxWzWNhexpwTx7jYX8w7sdEqIrZ3UW9sAoYQfgMal2HpKJ8QxmWx+QV2YVtZU7Y0iz1NXUTSoz0V43klZmi41gI3ZO7C2XSF06VtbGU7LbO5TmVFmUe19FI1HOkwjMtEgfTzQsKskBgSDwOOk+uy6vzLLZKKpp6qRKF46iSnkSVVXfu8KM8ZZLjVK2nVcBrkDUL5g3qf0YQxUxKb3KMu1kHj/KEkE1VxFuD+ESoR2o2n5nRnVPT7UQxr4tVR1kMnHhaOI1Sm3bZ6cAd1zjpLRRtPI685qKkkfysFaO/wAmNcZXn2z+2GQwZFnsqUlZCkMY3kiwlpoE3cNZRzyDd711JV4X63Wkj0vGwJzvo2zOgV58smXNIFBYwhdzWoo48IrlJ+H3J94T4sOORseBHMHmMZs//ZdTJ/6ZlP7em+ZkezWa7QSMtBCu6jOmarnbdU0RPHSz2ZmexB3cSSSWIJUA3w/RtT09krdqcupprXMTRxrbzb+tgcg9hMS4lo4sr2Ar8uhrYswjgyzMAtVEE3cmt5pOrokmXqFtHCQ8V7Dwwnjp+Mv/ABGOlV9WU5N/bJP3Yez2c6QKzLFSkzRXr6JbKk2q9ZTqOwMxtUIPeyMrr7mXT1cZdnWW5vFvcvq4qgWu0YOmaPySwtaRCDwN1t71iLHGv041DGsf6tjWP9f/ALjUMZptDlWTRs9dVIkgF1pk9sqZPIkKm/H3z6Ix2uMbNbQ+uGCsqhTimihrDTwKTqkaMQxSa5SOqHLOeqnBRYXYgsZ5LJjbnNNxQCjRrS1zaW7xTxkNJ8ttEflUv2+wBIII5g3HnGI3hz/LDCzAS8CTzMNSgNmt717kXHONiPGvary6soXK1EDqAeEgBaJx75JANJB9BHJgDcYo6Wpqp40pqeadta8IY3kPP4INvTjpOk15blg7q2X9hjo0zJKaurqFm0tWQxyw3IGuSlLkove27ld7D3KMezG12UzZbnNa5jfwSsqJaqllsd2VncymLVy1wsxjIJ1EKHtZhhEeRgiKzuxsqopZmPkAuT6MT089LIYamGSCUBWMcyNG4DqGUlWAI1KQRw5HGWuNpNhRlyOvhEdIKEX5JPQsrUqv3B444AW42DFrG2J4JqWV4KiJ4ZoyVeORSrqR3g/qPI8xwx0c5VUJWy5zNG0cEcDwUrSLp3sk1g7x3tdI4gyM46pMlr8GttdmSZttBWTwNvIUMdLA45SLAojLL3q8mtkPahU9uKuhrKCXc1tNNTS+9lQrcd6k8GHwlJHlx0cZpmjVc9E8s02WR0pcLIWdKaZXjWJYna+71qXG6XqkLqt1ScbYiEbS5ruAqqZ0ZggAXfPDG1RwHujMXL/DLX44qtVX0cwxQDeMuWUbWTrE+DTRmUWHG6bp792k92NLWLWOkWBNuAJ5AnkCbG3fbGWSz0vR6Gyq61Zo6iTVCLy7xqt1qJFtx3qQBtBHWXQuniowBLUS2G8mmmfs1SSyyOfSzuzHykk9+Iqeoy7YCpoqpd3OmV1rPHe5TfNLKFbucK4Dj3LXXnheDKe5h/xx0iq9VkeX1EQ1x09UjSEcdKT05VZDb3GtVQn3zoO3GlrBrHSSQGsbEi1wDyJFxfuuPZxySQuskMkkUim6yRO0bqR2q6kMD5jii262hpAFeojrUHC1ZGHe39bGYpT53Zj34g6THsBVZQrHtemqyg/Nywyftcf7SqK31MrL92/gA+PT/wBOKjpLnNxSZVHH8KpqWm/9kcUH+M4rttdoa0FfDPBI24FKJNwbHs3t2nH92QYZmclnZnduLMxLMx7yxuSfKTjo3a2U1v5Rb92gxmFXFS08k87hIoUMkjnsVefnJ5KO1iAOJxnGZSZtXzVb3Ck6IEP9HAt92vcDzZ7cC7MfY01VPSSCWnkMbjn2qw96yngw8h84seOKPbJogBVUQk+FDLo+ON0k/wAY82D0hLEhWkyw6zyaaoAQdxMcUepvzqefGc7QZjnjR+GOgihLGKCJNEaF7Bm4lnZiABd2a3Za5vDNLTyxzwu0U0TrJHIhsyOpurA94OKTpBl3QhzTL4qzgAZI2WPVb7pBJHJGxPepjHcuH2/poVPqdkkUTn3btFEo88dPCC/51cZnmVRm1bLXVWjey6ARGulFVFCKqgkngoHEkk8ycZPnlfkk7TUbjTIAJoJLtDMFvp1qCCGW50upVhci9mYFekKklVWq8nLTKOayQyrfvUywhkHk61u84zjbjMcxielpo1oKaQFH0OZKh0IsUMulAisOYjjVrdXWRe4NiCOYNx5xim6QN5EIs2yuGrsAN5GUs1u1qedJE1Hjcq6juUYq9v3WEwZRl0VACOErFDoJ7Y6eKNIlYdhYyDvTDu0jtI7F3dmd3Y3ZmY3ZmJ4kkm5J5nGz22FTksHgUsHhdGGZ41Em6lhLnU4Rirq0Za76Co67MQ4uQdoNrY84ovAKfLxSxGZJnkaRWdjHqsAiRoq8WuWLMTy4cSdn9rK3I0NPu1q6IuX3DMY3jZvGMMtn06ubKyOpPEBSSxm28pIw0uX5JBFWPzqJRCpBPMsYIlll9Mkfl7sNttVzZVXZfVweEzVu/BqzPoEaTgDQtOISNMQFkAkUcePG5bGUbeTUdJHRV9J4YkMYijmWUJJu14KkqujpLZbLruhsBq1tdsbR7RjPfBo46NaOCl3hQbwSO7SaASdMcaIAE4KAeNyWPIfRdgJBHlNcWIVVrXdmJCqFFNCWYk2AAAJJJ4DG1u0xzaXwKjdhl8DcW5eFyr/SEfcUP0lTz+msL6Qn2pTMaqOgky6N9FNNMZ5gvBpToRAjt9zXRfSLamPW1WUD69//xABeEAACAgECAwQDBwsMDwYHAAABAgMEBRESABMhBhQiMRVBURAjMkJhcYEgJDAzNDVDUmJykQclQHOCk6GipLTS1BZEUFNUY3R1kpSxsrPR4TdVVqOltWZ2hMXV1vD/2gAIAQEABj8C+pZ3ZURFLO7EKqqo1ZmY9AoHUk9AOOQ2V9MXBrrUwSLkCmmoPOtB46EJDdDE9vvHXcsLKCQ6YPstBGPwVjL3pJSflenTjh/Qt76eN+NrRRIfgriOzUlmPT8+56TZvnDj5uNeRmdP/k6t/wDiONcpUqTp8YZjs9PU+hXpPjND+cH+bhFzvZfRfKSziL+/r7Vp24l0HyG6x+XgRVMzHQukhfR+YHo6yS2u0QtK3dbROnlUszlNQJAjED+4c2Pr6ZztEq9MZWlCwU5CAU9KXAHWt0O/u8aTWyu0tDEkiS8NGnePQyS+OGAti+zVQ+oTOWJvzRjxBJXyFuLXekcatxHN2oydjK2tdWp476yxyD1RmVla7Y9plVqWuu3kDbvYeh+zuKpuP7Y7qk9w/nXrPOuOPkacgerjQAAewdB7mjKGHsYAj+HgtlOzeLmmbztw1xTu+WnW5T5Flh+S8rJ7V4M3ZTLS1ptSe4Zj3+s49SxXIIhYgI9XOitB/ItHpu4jx2RjsSYvVuRQym69iJ0B8XovIRsWr/jmCvYURGQSWKW6TxCCrIcdmhHvmwt107x4QOY9KUaR34EPm8QWZF0eevBuX+4E3ZTsBOzF2FS72gp++zTyu4RqWB2b9d32hsigaSRnYY3Y6xXWgznbxWZ5GFmHs9vOpJPMEmanR9zM7eN8fG35N2V989QRVakENWtAojhr140hhiQeSRxRhURfkUAcNHJP3iyuoNarpLIGHQrI2oiiIPwhJIGH4pPTj6zqV66+2XfYf+Awp/FPG58nYHyQ8uBQPZpAkf6W1PtPH30v/wCtS/0uNVyMzj1pOsc6n6ZUZx+4dD8vGl2lFMvrauWhf59rmRG+bVNfaOAtewFmP9rT+9T6+wKTtkP7U0g+XiWjkqde9TnGkta1Ck8L/OkgI1HxW+Ep6qQeP7Iewj3JoK0neGxkcsrZXHMh3rPjJ09/txRHpy9e/wAQ2srW9ZGirdm+10yRZQhIcbmW8EOUOgVK934kOQf4k3hhusdukVjYtj9mzdgOy85aST617RXKu55WebwegarJ+EfcBkjFubVhjtRJ3yIQdoe0ECTdo7EayVq0qapgo3GoUK2v65sCOfNoDV+54NDzpZpLVyZYIIx4nb1+xEUatJI3xI0Bdj0UHhoKRkoUeo8LaWpx7ZZF+1qR+BibTz3vJ02/VajoQdQR0II8iD6iPPX1cLXyhe1V8hP8K1D+cfw6fne+j1M/ROEngkWWKQbkkQ6qw9oP8B9YPQ9Rxa7V9ma2zIIHsZjGQjQX1Hjlv04x8G8nikswroLigyxL30MLadlO0FgvmqsRONvTMN2VqQqCYZmY7nyNZNWLaFrVZDM5M0UzP+y3lpyIM7l2ehhkbazRvs1tZHlE+NMfEysCQ0fe5accoKS7Se3ucR5wk8gwS2dz94uK7C3mJTINZzDNuhqybiO9izM2ssMTCa5akEcECb5GP6AoHxndiEjXzd2CjqeObLrHVjLCpVDeCJPx39TTuPtkn7hPAB9i2tulx8rfXEHmUPlz4fZIPjL5SqND4grLHPA4kilRZI5F8mVhqCPX9B6g9CAeKnbPs4DSp2byTnuuqHE5tHNhZIlHSOtcZTLEo96SYT1yiQvBG1PLppHcX60ytYdO75GFE54TqfeJQy2K7an3mVA+2VZEX9lJjMfL+tkVr0PRsAapDice7yZPJgfGE7Las19dnOVqcLFSRpUx1KIQ06NaGpVhHlHBBGscS/LoijU+s9ePRddvrPHyESaH7fcHhkY/k1/FCg/H5rdQU04tLJO8Hd0iYFEV93MLjruI0028fd8/7zH/AEuPu2b96T/nx91y/vaf8+PuqT97T/nx91Sfvaf8+PuuX97T/nx92zfvSf0uPu+f95j/AKXH3xsfvMf9Lh6ouS2oTJzIllRV5Bb7YEKk+Bzo23yV9zDq7cZDC313VchXeBiPhxP8KGxEfVNWmVJ4joRvjG4Muqm52UybBa+UtPhranULHlasjjHWo9fi2GLVtPwiW4pNx5Shv2T2gyauUtvU9HY7YRzO/wCSIp13TqPufmtbk08Sw15XAJXTjN9qpxq7MuEodPgoojt5GbU+ZkZqUMe3Tby7IbdzF2XLinSbYIKvlr3mf3uMjXzMfim09kR9nGpJJPUknUknqSSepJPUk9SfP3Ml+1Vv9+b7Jie09ImvLkIlRp4vDImSw5i7vZ3j8KKzVVjbz0pj1Lxhc0u3XI4+tYlC/BSyYwLUY+SOwssf7n9k9mcKD93ZK3kZB+Tjq6wJr+6yP8HHZiApslt0BlZumhL5V2vx7/y0rTwRH9r4xeNB6KJb0q+os3vEBP5qixp+efdyP7VW/wB6b7Jcm2bpsTcp5GFh5r753Kx+4Na5KWX1skbeaDiXHsffMLmLlXbr4u72lhyMUmnqRpbVmJflgf6r+wbsM0i2u8DH2btUp3uzkG1EtOnI3hqQ0+os3NyyiVZtGrQ1TLYNq72tq+kX8bRyHJXNznqebkXlSXeD0LCtN1HRiOvEfZ/thPPfxOsTSc+Z7+2hKxjXI4q3JrZMUex9acnT3qSHkQzaNxHNC6yRSoskUiEMkkbqGR0YdGVlIZSOhB147RrVfI5vI5Se1jMXUs2rl6FL0mVXlTLSMrmedYlkgqwxBSXlVPtW6N/Smd7S1kyUy8wU7dq5P3fd15G6snc6gX+9Uo5YFPlwnYrtfPPNSa4mNcXJ+e+Mnn2ilaq2pSWfHTb4dYjIIkrTd5hCNG0M1m7blSCrUgmtWZ5GCRw14I2lmlkY9FSONWdmPQKCTxex/Z64+E7OU+shEstWNK0jOtY5F657zdt21Rm7kp7quw7ggTnM+V7Odr5b9+pG83d4K9vDW5RGNxStKmUvJO8nUCtPyY3+CZH3beLeJzBU53FRrNz1jEXpCiWERneNAEjs15isdkKsaMJoHRdTKEwjUrtukZs6I5TUsz1mlQY684SRoHjLoHUPsYld6q2m5VIqYbs/ZlxGDxGOo0cnl57U8Ul+7HUiSx3q9FzLdmSZw7ipB05Do+QYmVCa3aGtnDLW7wkElvGzWV5Uj6mNL9SwOVNWmKlRzOfCZNquqM0etHMlVjt6yU8jEnwI79bQS8vXXSOZGjtRLqSkU6Ix3K31PZ6h8Sv2eayv59/I2YX/AIMfHxSqxjbHWqVq8aj4qQQJEi/QqgcTx/4LUowfS8Pe/wDZaHuaNNzG/EhHMP6R4B9LjjMKkBjWKCmQWfcW3SWB1AGi/B/Gb3PM/UefuUlMLT1pqCPPErgajvNhdUVhoJV2+F9w6eE6jiG9RmE1eddVbyZT8aORfiSofC6Hqp+g+72jgPXdhsg30xV3mX+NGOO1db8f0TOP3HpCNv8AeX6madgSsMUkrAeZEalyB8ug4y+YulZrseFtXt7dSLmTu1u8Tpr1Virzx7h15c7r5Mfc7I39FE3espTLfGaNoqs6gnz2o0bkD1GQ+3jshZmO5zhasWv5NbdVj/8ALhXjJB0SRoE7SSxFwGMcgucvmJr8F+XI6bhodrsvkT7mHyMJEct7ARNJt6E2MdetKs7evc0MsEWv4tZNPLjM2FJDW62Igcjodtu9REwPyPGXRh6wxHr4uVMX2BynaQWsnJYmylHv2zUVq0SU2NfFXU1rhTLoZtR3n4A11b/sj7Q/+rf/AK9xZyU3Z7NYfG262cmlFuhdr1q8NqYT1qhsWK8CSmOTlRpoFaQx8zYADp2bPt7Saf8ApORPHZNo0RObjmlfYoXdJJZnLyNp5u7dWY9SfPjtUzfg69Fx8jLlaGh4yvXUL2mtafTjMVr9TiWPwT2Wxv8AFzGb3cIfyV/2cZlSC8rejWVB06ehsaAXb1eRA8z0+njSSTRD+CTwx6ewjzb92W9zO/5Nj/8Ai2vsFD/Na/zu3wILL/rTedUshj0rSnRUup10XZ0Wx6ng6nxRR6Ag7lIBBB1BB6gg+sEdQR0PuZzX/ufJ/wAyn47RN6u6UR9POn/6/UlWAKkEEEagg+YI9YPrHF/BdoXapjy17svPbsHlpXXvUEuJyU5f+1Z1gg3TEhI4LvemblxseFkjZZI5FV0dGDI6MNVZWGoZWB1Vh0I6jjs92O7NMMvZxUk6WO4MLAmzOVkr14MXCY9UkswLCol2sRHLb5DlZYplXs/gTsMmKxNGnO0Z1R7UUCd6kQkA7ZLPNdeg6N5cXcvmhL6LmvZzGWp4VMjUkuX20utCoMk0UDRqZ44QZ+SXaGOaVVhkiyFK3Wt0J4ufDcrzRzVZYfPmpOjGNk6HVg2g0OvlxQwvZ+ZbtRHxvZajPAS9eYpans5S8hUsrQxSWrO+xH729Sgk3wBu47S4bGxma8uNSzRgX4dibFTQX0rRD1z2lqmvACQpmlQO6rqwzHYy9agrZF8j6XxUc8gjfIJYrQVrcFfeRzJ6ppxSmBffTHOzqpWKUpxaxtPJ4+1kKKo92lXtwTWqiyMyI1mCN2khDMjqOYq9VI47L6f+KP8A7NlOOxZP/dI/nNjjtiR/gdL/AN2x/GZJ/wDFVr/2rEfU9lsiNdbWIv0SfV9Y24p0+n9cX4w2Rj+DkMTjro9eneqcM+n7kvt+jiOxp0uYqm+v4zwPPWPzkRxxD5tPdz3+TY//AItv7Bj/APNS/wA8t+4+LsNrbxGxI2J1M2PfpAfbursDXb1cvu51JZtOMyx82oTQ/wCsDkD/AInHaGzt8Lz0K6v6t0UdiWRPnC2IWPyMv1QvzyS4btBFByI8zSijl50aa8iPJVHMa3ooCTs0mrWVQmJbSx6BWo1+3lBcaSRyVsZ2CF016M+Nj31dxHUoZX2npzW03cQ5iezN2h7RRKeVkbUK1alN3VkkfH45ZJ+S7IxTm2bNyZRryZIt7D3O0uAz1UWqFut2n10OyevMmSQw2qsw8UFmBusbjoRujlWSGSSN7FXA9tqxwczlkgyAyNSfYSdsdqvS59K3JGOneNK4lOrCtB8HhskbT5vtHNAa75SaBa0FWGQgyw42mHmNdZdqrLLLYsWJFXarxRO8J4s5vs1km7MZazM1meua/e8PYsOWeSRYUlgsY+WaQ7mkryy14zuK0CW4Slf/AFTj6M6I0PpPtPkIY4vLwYyeerVfaPgxc6JT5b18+L1qrkb2XyuTrwVrt20sVeHlwu0pWpTi3clJJW3Nz7NuXwIOd8LdjcXWzEWGnxmWXJrLPRe9FYXudum9ciO1VeBvroTLMOePejCYffhNDg+zT3BkHxFJar3FgNVZ23vIzrAZrBjXV9ADM50GpPXQZvsxHdXHSZavFEl165tpA0NqC0pauJ6xkVzByzpMhUPvG7bsa3hbOWhy81zLTZNp4Kb04ohJVqVVgCyWbLSkd15hlJi+2csRe98yT6ilnFTc2Dy0PMfTpHXyammN59SyX/R8I185JUXzI4xcTOXsYae7iZ9TqdI5zbrfQtS3BGo8gqADpxjM1Euvo6y9S1p5ite28qQ/kR2Ylj/OtA+7n/8AJsd/xbf2DHf5pT+eW/cxsm7SC5KMdaB8jDcKxq3ycqxyZ9f8WVPhdvchpp9sv249f8nqe/yfpm7sv5pf16cVX27GvzT339p5rCKJj89eCH6NPdevle0uJq2I2KSVu9LNZidehSWvX5s0bg9Crop+TgR1+1mJDnoBZmakP9K4kCfxuI5oZElilRZIpY2DxyRuAySRupKujqQyspIYEEHT6nM5fM9n72PxZi7Qql6cRCvK1q+jV+U6yNzeanjXZuG3qdB9nzvZ6XZplsZapo0g1WKd4z3af19YLIimUjqrIGXqBxmOxuRLQDKiVVqygqYM9hmlWaIKescslUW4rC+bvTrqesQ4v4qz0ivVpIN+3dynI1inC9NWglCSqNRqU8x58WsdcTl2qU8leZeu3fG2m5CQC0bjxxtoN0bK2nX3O0H+S47/AItv7Bjf80J/PbnuCRTo0ZDqR5hkO4H9I4rWB5T14Zx800ayD+BuIKEBOyN46MbaaqJHf65m0/FjPQ/jCHUdCOK9SEaQ1oYq8QPmI4UEaa/LtUa+5/YJ2Ge2ulkY63bx5Md3KZJmCPRpz6o9erWk1imsK8PPlWU80UY+ZYjn7XZK1cuMoZ8fipFrUoSdd0clp4ntWiOnji7kobd0lGjcMMZYy+Hs6e9yraF+Dd/jq9xWkkX8mK1WP5fGax2RyMV/svLUjkxZhnblC8bTNIVoSnfRlaIu9rl7oJmkibnSyK2z7Hb7PT5q3LhVzefprjSIu7LWp17vd0CiMEcswRtv13kglmO5tfc09xyPMIxHzgHTjtHVzuYtZKvBj4rEEdjlbYZTdMZMeyNdgKNt2jw9B08I92h2+wgarXy1uvc71BoopdpaG2XVgvl36OBbg1BWxMl/m+fvmPz1IoO8x7LtZT1o5GIAW6bg+IctzuiJ+215IZ1LJKrH+yjGQ7rdSLbloY/hWKcQ8FwL8aWmg2S7fG9UKevduvFiTD3O6NaWNJzyK829Yi7Rj64ilC6F3+Dprr18hx9+v5BjP6nx9+v5Bjf6nx9+f5Djf6px9+f5Djf6nx9+f5Djf6px9+f5Djf6nx9+f5Djf6pxHZy1rvU8UPIjflQQ7Yg7ybdsEcSnxux1IJ66a6ae4fZxjT+G9F4+KNT/AHzucI1I9iaFj82nr4kyUo1Kbo4Cf74/26X5SFOwHy8b+sDTjMZKMAy08dbngB8msJC3IU6ddrTbAdOuh4y2ftqZrGNrRxVHk66Wck03eLOvrmEELxAnXw2pfWVILyMqIo1Z3IVVHtLHoB8/H3fT/wBag/p8HkTwzbfhcqVJNuvlrsJ01+Xi1mpkE9kstTGVDrpayEyuYUkIIKwRqjz2G1B5MTLHrM8at/ZN2m7UT47ETSzChHy5JlkEb8t/R2Ljnq06lZXVoO9OzTyvCd6T/beF7Udmu1Fi/i4ZoUvBY5K3KEsnLiXI4ySzbp36jOyRc8ESRyzArBBp3jihnVjWCxJvrZCsh1WvkKxC2ETUlhE+qWIA5LiCaLcSeph7J9lW2ZuxHHJevqizSUlsnSrTpxMrq16yDzGkdDyImhESvNPvreku03bHuWSsqszwzQ3M/aDONSly3Jk6ISZOgIia2g9T+HQ0hJkjk8HcZmjhNiexhr6xkd4r8ix75jLyq6MZIFjZtVYSWo0kQY7OY5i1PJVksRbxo8ZOqywSj1S15lkglAJXmRttLLoTkOy+NzD4Xs7j2uScuMyiBcfRtR1DeuV4ZoHyd2xNNCYass6wxF/ezCsc1gpkuxnbef0pANyxTJPiWkYDUhLda3ZjZZCAhq2q/IkUkTTFNVOIxuPza4fK1rNS3kJ1mtwRWWSjNDYj30fHt7zKJUUqY/DroCF4m7IwZdYc1HkcnTbMGe4FaelHZeebnp9ee/iF13Hxtv8AH0J49L5ntWMpSFC1WNKO3k5+ZLM0PLZ0uaRBY9hfcPGGCgdC3EOC7J2ThezZoRS2svHbWjzLEkkoliltQF8mOWqIBBSjUMrazMyuNDOe3SSZIrv5cmKtcgzEdUa+cu8+3d/bPcSxHXu2vB/U67VXJ7lZ7FjGwi1O1psffhjaWqatqXWZqF1IxFFATy1M9eSNIPfg+Ou4PtN6IrUaM8E9N7GQro0rS83vCdy1WRpU0ik5iqVEEW0uHITJ0sHmlw09Kok9iZrF2DnxtY5Qj3UvG2j+PR/D6/PjMNnu0PppcgtNa0S2L9hIGrmwZJD374DOJUUctfEAdx6L7mQ7PZIEQ3I/ebChTLTtxHfVuQ7h8OGUAkeUsRkgf3uVwb/ZrtNHJHi57KVstHtkKRHqtPP0Omsldo23SbFbvNMldDZrRBI54JI569iJJYZYmWWGaGVQ6SRupKSRyIwZWBKsp1HTifPdnK5kxzl5r2MgVmkx7HxPPUjGu+iTuZ4U60vwamr9zfYQOKtVfhWZ4YB88rhNfo14jiUbY41CL7I4l0Bb5zoPnO1dfXwkUY0RBtA//vWfMn1nr7mZgUalqMzae3lDmkfoQ8Z2v5M/cZwPWVXvCN9AJX/S4yfZ+xPLWhycCwvPCFaSPZLHMpCt4WG6IBlPRkLLqNeJJB2lvnZG76ejqnXapOn23jtEBqFfD1SV8lLLd8JI8iVDMAfMan2njsnTBIh/Xi0w9XMTuEUbfuVkk/0uMRiqH6meRenj8bSqVpUgy2k8UFeNFsapjCrGxpz2cFt7OX3Nu3HKYKf9TbKwR5Oq9Zplq5eRod2hWQI2NAYowDAajqPPjPw5Shex9ebKQT1Ir1eWqzzd0WG3KkM6pJtKRU0MmzYxj2qxKMFsWb6rLyO1Od5YZen6xR3q2NOh+PCKNWQHzEse7z9yadtOZjsri7MR0Gus9j0c6g+fwLpc6efLGvlxHDJrpVy2Rhi19UbGKxoPk3zP+ni12t7JQS38XYktS7oYJLSpUuS8+1i8tUhPP5Ebqjx2U0iPKr2BJDYjMccVTP1XwNqTYqWw/esTKx0HinCrNT1Plz43rqvV7Y8uAQQQRqCOoIPkQfWDxcl/+JO0p/TBkvcjbL2JGszqXrY2nGJ79hAdu9Yi8ccUW4FedZlhiZlZFdnBXgyYn9T7MZCtuZVnjszyA7Tpo3dMTaiVx5OizybT03HjDZu1i58NPb7RYJpMdY5hmr8oU4PGZa9Z/fFjEo1hTo48x4jL+1v/ALp47TH24mH+f/ULZqcur2mxsbejbbeFLcPVmxl1tCeRIxL15fhVLB3g8mWzHK/Y/tjDbixUFgwfXCFrnZ2zu98QqNxmxzFt8kcbS8n7oo8yORklhtVZorFedFlgngdZIpY26q8ciEqyn1FTxJkMC0WIyTatLWKkYy45+NsjBNKXz1eBHif40AfWXg18xj7FM7yqSsu6tPp8avZTWGZWHUbX3afDVWBUev6lY8VQlliLbZLkmsNGAfGaW042eH+9x8ydvKOJ26cY2i1s3LFnGrctSBdkKTNZsQ8quD4zGiwr45PE7bm2xghBwbzpuhxqbl/FNuYFYdfby05k3yOsRPTodB8I/Cb2/wDQer3Sp6hgQR7Qeh4W1GhaEbgADotqjIRuj3fjpovRvgzxK3VdrMr07cTsw6wMypZjPrWSAneCPaNUb4SMykMZ5L92rTj5MniszxQg+AjQcxhqfkGp4zh088RAP5YOMPlkQumMs2K1nQE8uLICHZI+nknOrJFuPTfNGvm3GLg58ZyWLpV8ffr7hzg1ONa6WTH0bl2o0SYOBsDu8QOsZ4aWaRIokGrySuqIo9rOxCgfOeBaoWoLlZmdFnrSpNEzRuUkAkQlSUdSrdehHD5p4ZDTlyjZjp8KWpmFkGReLyDNFPYu8tNQC8SxllB3cRW6ViK1WmUPFPA4kjdT7CPX7QeqnoQDxW7M1Z0ntyXI7mQSJw/doaobkwz7ddss07rKsZ8aivuZQGQnGVbacizKs2RtRN0aF7bGVY5B8WSOvyllX4kiuvXTXjvWLvVr8H49aVZNp/FkUeKNvyZArfJxTykNarVztjIbGMCpFLerPFPJZlsRIBz2jlEP1yw3gybGc8wDjs93pnd1rSxxGQsW7rFanjqDVuuxKyxJD6hCsYXw6cWLFsiBW7RZVd0nhAN+OyK2pPkJe8RbT6xIp9fAQuodgWVNw3MF03EL5kLqNSPLUa+fDJ2i2tjPSlKFlsttg5CY6FqcMhOgFeW0Y+YpIjfmuH8LtrqTBUqVYh57IK9eCJdAPixxRRoNB5KqjToOKOVx786pL2ixCxTbdBL3XutZpE184neJmib48e1tBrw49qMP0g8ZanPpFLdxsscO7w75qlyN3gGvnIY2kkC/iQSn1cNGHUyKFZkDDeqtrtLL5gNtbaT56HTy+o7x4aGfgh2U8oiD3wLqY6uRUDdYqbidp+3VtzNA2jSRSnEZGq02OaQynG2XJo2kLANaxN5VfkNIF6sgdA/3XTaVdoAx9sQ3tu58Xc2QXlHrKR7illF+NJWeUJ05mzUavBZhhsQyDbJDPGk0TqfNXjkDI4PrDAjgvDUmxch1OuNnMcfX2V5xPAg9ixJGo8gOCcf2iZV9UV7HCRvps17cQ0+Tuh+fj79YrT28q4T+jlj/AG8a5HtDNMP73Rx6VtD+32LNveP/AKePhXOO9JSqdQ+Uk70mo9tbSOo3zSQPwEjRI0UaKiKqIoHkFVdFUD1ADQcYzQg7cMgOhB0Pfrp0PsOnEFOpE01mzMkMMS+bO50HU9Ao82Y6KigsxABPFbHR7WlUc23Mv4e3IBzX8gdo0EcWo15UcYPUfUmvchWWPzHqeNvx43HiRvlB6jo2qkjgvj8nyv8AFW4N/wCieFkIHyGBj+VwGyOcjWIHqlSq0srj5JrEqLEflME3zcTejI5WsWVRbFuzJzJ5UjJKJ4QkUaAknSONdx+GW2rpNUtwpYrWY3hnhkG5JI3G1kYewj/p14Njs/mJKHUkV7UbS7NT+BuwSRTRqvqEkU7np76NOoOa7TvLED1jhSxaldfYs92cLD/q8wPycQYmhzTXgMjBpmDyu80jSyO5VUXUsx6KqgDQAcJXycTCSAs1W5BtW1WL6b+W7KwMcm1eZE6tG5VG270RldaHaGHu7E/bILNaTafiukEs0chA821QOevLTyEN/Iztmb0LiWPfEK9KOVTuSQV98zyvGfJppmQt4+Sp02lT1DAgj5D0PBsdnM9NQ1PSGwJA8euv2u9Ukik2r5BHgdj65uBa7SZmXJ6EE14RKObofKe9YkkndG8ikccLj1TeyOGFFiihRIoo0UKkccahURFHRVRQFVR0AGg4OUq2/R2TZI0nZoefWtiJdkZlUPHJHMqBI+erOOVGqmFtAR6YvZYXbCVpq0NeGKRY0E2zc7zyyF38K6LEIYwp8RZugAuidsdlFjWLvSRCeKdE+ALVffEZCg1VJI5onA0DGRUVBHXzPaieXGRfBp1mty6geSxJbl7tU/OWvP08IUa7hiszjbopU8Y1KT0b3LnSTy02LGRrxuJo1htrSlqshB3BTtZBFxPk8NkFx0tmZp56k8JevzpDukkrzRMskAZtWMRjmXcx5bRIAnF6afI+kLeQECybYTDDEkHMIUF5ZZJmLSHWRuUNNFEQ6s31D0ctRr36r+cU6btp0I5kT9JIZVBOyaFklTzRweO+dlL3N2EOlC9IIrSEeurfULGzDptFgQEAamyzaArUzMVixBuCRx5yCR/gjqtXJKVkl1X4pnsxqBrGi+LcFyOLu03OnvlV4rkOvrJDGtMg+RUm+fjw5LZ8kta1F/vQafw8dMpWP0t/Q46XOZ+1wTt/Dywv8PGlarK/5U5SMf6Ccwkful40iVxH5aQLsj+XdKT1+Yvp+Txi4WHMmmxkW2OIF2LyXrSJGug1d2bRQFB1Y7V3celspGpzVqPRIz4vRtd/wQP+FSjTvLj4A+t0YrzWl/uE0FiGKeGTo8U0ayxOAddGjcFW6gHqPMa8b2xEMD+2m8tT+JXdI/4nGsFzJw/IZK0qfxqof+Px987JH7TDr+ny/i8DfPdm+RpIUU/vcCt/H497pxk+2XdMf/NLDgBQAB0AHQAewDiHO2Iudeq1FqVOZoY6wEs0rTRpp9vbnFeYxOxAOWEJct+zf//EACkQAQEAAgIBAwQCAgMBAAAAAAERACExQVEQYXEggZGhQPCx0TBQwfH/2gAIAQEAAT8h+l+xMzjCG1YAqgYp0d4QY1QIRgrPj7PAgBb6Z+G+ah1700sPBKvgEbjFrGYhoEi08FN5wGDdHyA/3uU4pIDN+GLzp5VREpsdicJ/0W+5zbQjFDbYD1NQeFHUjjko4o4ZeMkqjEQoAKsd0t6m3ongBTQDWDhLgAPgIeiJ15QvkCZt6BQ69D7SMEKYS1UgrtMn5MKZbxI70ZnKAvFHCXVAzFXMDoBuT/P3Soj0CdnDpNx0Pp5KtvzN1iXwdyknEh1aKyriqGi0ToOaJmEpodPX5NA+ETtcb1dngQK0sEc5XeGKydyIWnSAvbkg3Szg7CpLJ1NeLQ30nvNC7/GHI8u+PrzvAGgC42oFIwlBiLmJYCnLYBUjpjeo/ncVGodKglULz4qga+cEslPGMdTkq2klVRQMSmxosvCIm6nf35gNmMCACAQAgfYn2/xnsf38Z7OHs/WOnB+M9nFRkJpQUCKAARRpEzU0X5ZR19iBqKAb/n3+h2IgwSAhhtqXxobB2+WAbxvyigob/mChI/F5Sg0ARbOp3ELXnQh42DKHYeoh3grtRCTyHEy/nQilgBJ5hrqE8GexnHr0PZx9uc2sndZzaylwaGyiFQLN0ieEYb4tOVgGnYFwhBUV8xIxGnLjkaSepiHgttWh/l6BY8vcm2zLXlijPdKRFS6oDkstrjzZhsV8Ab9la3C8WsCKtkN80CKTmtzsT5wd6ejSoWYV9MZTrTFZ0YOdDM190fxrDlvicWrDhlFRYIyiGu5OpA1zDKDaEefyvQPqAd6aracMqoHHqNhhKyanm4u58PYX0r0ndiLKKmpnlOV1JQqVcHHxgnpYfQ+jnb1Buh6uuJzDM9AxSkUsBJ3Bg8fyURWwNM8fMlO8dOQyFv3JwhfZNBiLe9GxkeSvZq7zp9s/v9Yv7/8AbWDcPocXFxxejhEDkLBZWkgKLjEZknX+XMFTEPqNkdmvFMYBYeaRXoiBCbLAiDRIww/gpNnktBoNhqx/uiUqYJCDHBz8u363QTfY0LxoJVZSjtQO7VXhcy/mfRp2NpmOwjQseSioAx3Ha/xh4bXVxnrPYcB/WAEOs5T6jBY2hj3V/jSTHR+LiwJ0bYkCo8bzQMd8nAAGufYMxGE2UXbo68JLKcB+mUZp85Ez9D4fOGhLhAzjwe+MgrbnsF/Hk/PEzgfa/Abfwf4y0EztTeLH9p1gVFTcKGgVDY86rXufGf8A0HLz7svzPvngX5cn2Pyf6mdPChbCEDkKNdQoy0B1QXqnvYovQDMAol358iD3Mv2tJ8kfff8Ab6fy8BJLAoe+adloEZ90sCjYHNZSOBz91w5JnK/KtdnT5ZV757wVwaZlofeLYicFUL74uGifSG2WIJ6Jp1E2KaWmBYP1t0dFQCSmfSkI6LX6akdVQM52rK/3vbCFsEE3ksNx1S5BQ06ciDw9XwubFDb3Kf8Ax9NA1oOpMPn/ANyxOLHwmfrK0W1A4AQqIC7wEVVdxts6Cj1UZw5XMRwfR8vQuLkPn8t9MGXdEcIxoJZiwsJg9B0QEEESmTw58Yh6iLfCWRJu/wC9P0fSOgp4dEKAUQiacsqB50Owb5IVAKYmIn8VMqhEcBL4OUpB8Z4Ear0bAiYBylIUcegRiz5kvgRx5bRvwjCtKJAQqCztzslOnUpW8padPWlkf2I80OiaIjFo6emLiwlf/ajbmjmCYuuKz92JuC2wfmBP8WL7WH2+kivwlJs+Stmgl3FFGSpB6zlSnzhdTcz5m9k96B8Zw+hfFB9S+hwuTfpmw+YOg2uC2IIFcrhtoA90A+7E7uMFkSbG58Jeld/USnjwJu67ctPZxNzV0GQIF6MDImuDIG1edpKMQG+F8zf427FWP1VYMVpQzviM1LZ+kFtVwfQ2T1a8NbO99Dab6hIsi8v1nE+hx7hWuTKawDBigupR90wHsPnu3THPxi3kJHAK/BYfKQ3yE8BxmZqpxE8LI+kVZBE1Gh5isBpmTS1tzBN7OrJUACstQNbU9n/dCN4f8+lXf6QPQvocX0QfuZC5B8fg9yIcmqis6ua+IcHftM02FXRsk+UJFvT1V4GpgxChDLzhij0SeDvXVw6B2etmAGKZD9ItN9gfqSVMK2z/AJ5GjSu9hINdr4zJ4/fGoKuICcKvELEnaU8JZo3xOcLKoMFEO1QaZab9IuPovvl9/wB58vQvrKClTroIE9ICPnD3j31bfuOV/k2z0cqOcay7FxNgoGIARQhWs9HnYwhCsM9GGyrtNi+opuGAE5j0z9jJ5n6tZqEbc0QxTgXJkemfG3RgjsaeT1QcoXyz6BHhH4b6UtlWwvqJC3anq2bFeCl/HpqXdZdlp3vrBVq0qyZRJhnLQ9IPZDdKEVsVN6ZQaCwSHcWY5ipResMw7qpxhMCgY4sbCfenQXnUvkpBXKw+SxHlZ/fZPfZXysj1LOvwrUiH4tP0AZaZ0fvggNNmQ/FCOhjWMVvdWqDTugipeWei8A8+o6CH6ESusq4Mie3cpVDUyKHVES8qgu1Aemm5JiubPZYzSxnGNBcYCAI7522DpqKq61vZF0eJ68SAHAI5jIcVrR33whiFW/KDgq7hGgCOMqnn2gyENnLWJDB3wHNWS5AgF+D1quzDIJKi4i1pZQfwBDGGePJrUJTJhEZBhMSoxpsXSIzRycF7G4lc8FDqnDwiKbQDB6u6vxuQJCoSYMjMeUvYu6hUU2rZFJiYDtbTjIWi2xcCya7NeSneRD1GQxAA+wFw8QuoxwaIgU3Rd6EuWhvLIGsugMBMkyPkK7aNlMjidwrPIJwRUVmm68m3t6YjIa3GkRE8jT/We56HuYem493D/rnuy4dOwZZ9nNr7Y78AZoUCSWghwAME1L9kcr5S9oVt9Pd2GABjtTAbeCrmkfRKpg5avwm8l1I0Ci76q4obA8mIcESnaMmRka1hAoIBCBiFLKg7KThxZ96XHenC5HBk/cqzrBFJ1YTu+S1mmOuX75lNBRjTxa8QySBmuHYDqehPW4RibECJ00DwbJf+XBo/XawZyM7y1j4AYMy8JRd7Ca9W02wCZywAoGgbE0mzFiO6pr7D38+iJ2hYVJCWXBkKfbhAVX4wDdSqBWYUAqb1RNq9AcyBwP8APx7fRxySq4fsygpHJUJF5ueKrBAwY8b1X4//AMoe+nGTu4wDSHaZbtmDgUhc133nBTDT+w57r94L3/LnvYr3fu5D3kgjpDXtrd+HvVUnEBO6HdhBfu6P7/vGCnX+xP4dTcWGfR2y2ug78T5eX1M0UbYCD7IxxEfXC/1LOgjIxAP6PnztuJAhh0QbBGoi2mUCooAucdOinC4sdAmugPXYLERH6DJNZNmhvCTFH6KP5BF5AwhEJC23gwqh4xEaKa3w0wWCEAl/gwCK0BZNYITAebCZMzQ2yoaxUovuWk3dp2iq7BsLsPflO8bTsfQRiPW+CDlzmK7YxIOqDB0YqTG5ynZhDQxZy9BLLN4yJvCK75GoqWY6gGnhRaCqKOxOoa4IGNVuWN2mQjKCBMYvkL5EYsgdzwbJH8K6DVWBMyqTG8AAdzU9XsvpZrawk2+ctoelV3Pb8N7rACwpf2bli22eGglC2QNEoqGkxTOpQVdB/SvRMXLrnZ7New3nzKRKtwh9o/E3inOXEAdytmyDscfM234Zp0CIY7AhBNlwDhj40FAoBAQJl6wf1EjsDGMR4cj1UScBhtFwWMoMgToOq9XRI0+lcy2tgQjANRFiYpzrjkXwsHCbl87D3+NrxjaNNQ7OCGDgGbY74OAmYiOvq+Vp0nKAOcAnenQAE62tLYBa9yONlYzky6cc4RTbjAQdosBj/AEFidx16IMdrx43M1EkAmEC5CBkTuwNwS+J5wLvurCh9xTBCaIvJQpKGVVuFd3E4Ewb9ZvLZgKtRmjsKwAwAZwJVTP7emiPZ51EIy+yZRJTMt2nSUbRJrD5SiuBEFoEOVveMhCD1URHTHGwj0EcSWOSm6ZuLG5raIaRKhOIKY+mUvHGpKDZgNdCceqLrrUSPp2AzCiesfqSmBY623gtYB4GeboEJpThQkmbcXyl+L+cIp3sr+Nv1lWy8WPj9oTyhvEXphavInzi+2KiSqXfpeRwlPKGuE4BEYBbDnD0Ip6zJiNVxB8Xqx/0bKUwOgEXggcA5BiJUVSde7f7owzy+hZ4IgHu3yucWXqXP3OFsmc+wCAn5e+QUF3/AKTfYMOI4GAaAQAOA0ZYbi8ugX17L+dP/wD/2gAMAwEAAgADAAAAEAAABBJJAAAAAAAAAAAAAAAABIIAAJAAAAAAAAAAAAAAABIETXPJAAAAAAAAAAAAAABJM9mwFhAAAAAAAAAAAAABIjEqFIR5AAAAAAAAAAAAAAGhxLZ7lAAAAAAAAAAAAAJNVhAABAAIAAAAAAAAAAABJmKAAJBAJAAAJBJBJAJAAJL6hIAAGAIABIJAJBIBIAAJitJIAPJAAABIBBJAAJAABM/QBBI1AIAABIBAIBJAAAAFoAIIM4JAEcAAAAAAAAAJLm5AIA2SICyBIBQARQOJgBPDrADe0wHbo1SfWidaeuAJytAmnOUA5l53eHylxc1gBABe89aCAIxLEflDzW5DewBJNlP1PgAKWsHQ4BqCWQ8AAIIIIOAAAAAAAAAAAAAAAAAABIBgAAAAAAAAAAAAAB//xAArEQEBAAEDAwIGAgMBAQAAAAABESEAMUFRYfBxkRAgQIGhsdHhMFDB8WD/2gAIAQMBAT8Q/wDnFy0BLSNmBJGQJosEFjHgczeYkSWatOznsQWJMpaqtqX9fePthf28aDOCUdCKIyuLAsZnRzCUTMUKEyRriDhMkbErKqjKxQLhn/R1tQU5YwywTBAjrIMcHcQfEUMWUaGu2A3eLnO7tvb+9e5jEMT2nbKfeaXk77Z42YddyzfQNjLH3M/uzatzpC4PT+4PsZ11ofN7nbJ3TnRBCi6tEhAyUCCwgj2Oj9IqWkSjwqKA5KjWeQcjRIBACH17SjGNjAaXwtz2hUiSBS7YhrAwFwBxnbNCBnvvTBjJqgQ5HGQy9ec92986EnqdFu8/XR900ccHW5sznhx3g8UmjYRneHXidvMXsvJnH6I7dcb3XHJ2f2effUxTbNxt37S9vtzvbGfznJ27eu0mkpGoVYBqRgnJVGmkamqcrAlHICUAIfXJcqqobgIqmzXZNCu+FmN85kJ23w9ugBNAJuFkMpOvHO0+z5xn27aE2vl5376CJTN8XXsc8N3fS3H6eDzvpVxr559xs863Ly/f3efsHtjaX1xvT1zy6t4KJvemN073H3tUyYBW5GFqYbbfWyRc0RQj8i4c5ENUkGutKjFQqpTKraGHapnnr6dJ+rozqZP9QubCyCgo5TgvOF1sSdMkz0/P4PTWZ9z4O+Og+mpiecv+h0/1A32Fi2fYA2MevXVIuAzeAHl7Bu93WTJOMyYoKrwyYzo4cNXQhDCoNXImfnYOzVBfMxDIoLErQhwHxYa+OWIin1xbNbpTOGFABlIEddSFFhcANjqqc420R6P/AHfs9b6ot15zx/f2/wADh8rbG0/fG+5w6X7apd+ZBi45cWBknPDxcUggoEUR+u4UjEMrY2n3giRyNLqWOPPG/iad4U3vSwTbHD2nL85E4vNiA271p7d9Od86ZdnTFpmy37Beo/rgIQUYCxzBOGYuYO+OQ646z+ft8HQ5Pa/v2+/+D3n6fUNpffz/AM3zJDhqQbu0kcmxt+ZMkQlV0QkbfYl0vIYGK0Nq5QKLcXQX2YnGVTF1AiI/TIOL03WSkdRESLdTIltt9qCAuE/gahjfLtO0nX09udeN3/8Ab8f4IHt3c1x9vGbK7fe7228/3W6Qk5qIIncQETOgCaudUz7g+Q82X88j5bJZAx1oxXTUqusBMwBVIo1JSEEmhC8FdISySBGo6YRKaH4ahlYdXQjkadT4qG6Hqz5BHZHMw3JuY5+GEdgyHBQ+AiSA/CgxSuxSv2+HQEEuCTHOZjRUElQSKhkC3FkH5XjgT2cMiRuhygaceds/fjP9nsWneqhs0MMoCL5no/w7ryn9eebo527yf+O+3PTGtjJ18H6314h538cb0zdUfGdvzNKyFO9fXw99AuLFDj5KRNrAAQevB5t99PAGBztMZu9JkfvtTSOChG6WPcUN6fEuR3cCpo5AMiUqTWRSrU6o75XXfiABnKIdugAcqh8G1wZNZhZsFjLLHpoP6MFKo0BlQaOmSygBC3WGIdcNfLwVXIlNMS2Q13H48GIkMBAiSlGYspCAh01EZBqNaU5CYay+XOUXGhVtCkkEzS6Uss4so1MD2IZCODy2RaC2BhvUvTVAB0UgLwuOAj++KaIoQUzeDEV4IzOrUA0MSl073/rDmHpRFELoQ60zG18p5MM9pVLs392ISswSqPAMOY2mpzDSQk0CmOkBAxLgLxWUNSWKJCwo0pAMHcNKLDiSSABD302n5EAgAQAgSIjREURERjjTJRCdxwkzl1W1ghERKTPTkomT9lHXn89Omguj69evn7zovc9c+0vf23uu5+H+Ndw99dz96T068+2136cfnS3b00xDlMHr69/zphcBCqbYS7h6FDSZmAtoZdoPiEUQ6EYI1UAjVkzrAmCXIhVyqC5jLlNEhbBJJCB3a6DQLMnximm9BSXKHV01ITpkxBQoS4Inu0TkLwCDZC971nTRJ2S6AiKKNJ6MwLaHJ5OMMJqwQmGmmQkG0tCwoIDArIrtaw4APhHk+A5/GINIOVthGVpitdO+Dt3KzqPpgxaBxJAdLmeq1nZCX3b5LAEEzEABQKKERFEaY1R14fV1Gwczr6fB/wAYiUcJ8tnY1lMci8Rkud4GzWl71mzEE/OeAITRmHXTJkpNd6B5eBvPT51MjdFVYMKoaCQnZUeMlodAQChtLuB6s3cemPyTVYOXGLw8evcbwcavlpx/b/GdtTRu3FZ7ebGm9kOu/nT+9NXBJcBFj34UsTZZYjF6mXehHcGpCUwJuW12ykznsdjJM2qJCAcIoFC2xh+JJCSCiCIjuIomi8YDKccWtQO60tRMsec9UZSCGjSM4VOUQrtYKJgF06RIJ9yh0e8dMWZGVLUACoUqRQ4UgPyTbbBCxD3rAubqiOqDSGq3rgoV0iHGnb3cpuKgixC+IE0QiEIiMSyK4Qga7W6wxxt7EwXRc5TIeRvTOtIlOMKz2ddg5D8jQt2AUIwazAiCGlw7ItyrjduVNZMhUJ8YGXqAmwVBIuIFQy0QQIqJTSxXmVb+GgRySIQLKpLBWWAMSCDWfwVChGFRgUITpAsoh3UH70ERUBGjUrGCo2I0MZITVZbuIQKRY/O2DDfeFDXRDS3/AFVBVZQExYIDfT6NFtNyJyEAQEVmhjA6ji72FnHu50kAlylnAKJN1Ddg30jhpBDsjDcgQxNAbUVKgKMYAAMBo2IKE33pwZw/njWI9gaQBXFCxCpCVrxNAEagkAgRij8qc87iDCEYxUyCqmGZM3ZvAM7WaVJdCBEUkXIPDs4nlo/wvLATNjcBWqBF9dsYYUJwm4iCXFFDIqphvxCMoMve7oaxTFAg48EmqR2ErZuqgeAA0YWj4iBDcKIeNDfmylR3CM2qXM9DwOjJBgjYaaU0M2MnZBB9RTThsyO1SbyJkZlVtaQAIcFg4DsDRl0vkTQJOAAAGqdAiFhYShqqAsxKBTZmgXm0AC5klNFYsqzA1KlUCmGwhDAYeCGlkABpNvFUpEh/Cm23PEoL6w80hkmQ61RyJjAAZ/zBOvlldSPGQArHAUYQQKo0EZKC/wD1X08qZDzQCoQAfXE//8QAKxEBAQABAwMDAwQDAQEAAAAAAREhADFBUWFxgZHwEKGxIEDB0TBQ4fFg/9oACAECAQE/EP8A5zCDQyKpcbJHpSN0GSeXYLZSGN6ts4bDQ3bVVvE2AGYBTXBuXefzfOkQisdE3hcthLub6BeShzmA1eawzQ0bQTLisEYSoFChkh/o1ynDGCgirxEuQ0ZYIss2Rk3iq4vF0ouUzvnoZ3UNvxsa6DI4dz05X/smnPfL1Z4mevELjoa3u3GcS74yPTrk41sNTvZ9r7jttnS3C4w4vYfO+/bbRg0gIBEqkQRFREcjBlY7YsAR3ZyYOcRMdFvIT3EoEREX9+U9/MLVUYaWQQjoTKWpAFXRZISUZkQgUxN+707qs9jRO7v0wYE4z654d1dEW57cDt7/APc6QyQWzl9Ptkxgm2kdXplm2/tj5uCsedieNsD5DTdcePydMSm0Zc6sBeme/wDTx7eIx5smYXjfNZJzc6ekSSAFrBVjfZqvXN92AMVRRjsFCIoX98AiOABlEZREGQ4k1KC75x42883s9Lpe2aLi0c1oN2mG3UT1fHxjr+fGtyPxg8Y6/wBcaUb/ADDy/OMa+JfxoD+INAZy/Y6ba599vdzt042NQpj4wp6qfeccOj5tI+Dbg+c50AlAsl4RN/DCuJ/vQUKMKJDmQgKJAjHWIQQQAAwAiAgQMGpezPTf1uPTW4d3e6SPRi+r/qADFymTMHTzAHXS3xlO6T176x46gHSEX8ret08PQD8HoX0x/qFQAlSVplvUPfDMlsm4h1VAAObt541BXyJAMzJRjktl0g1WO/QOoKw2M/4CpEnwytDNkYoI5GsYVZgkDZVwiH74nhH8kIsUIVxYMo6REjbdU3QlXh3WaFE+fPuaEL/ApWF7OoccrBy6FqhHGS1EzhlIiAKBEBQiCJ++DPL8lwh3i7CYVuDm5z7ZffVs8/n7+077rgl+YOXGTx8ev+A34vw2N/TQAff549ffOiUWbEfCwNPCoyn98VyHFmpzjHxlRuIkw+H1Px0658EKzD9rx4/81ADhKZu56/4M8efX+BqO+/Tjvx/VN90L7riChGI0rkc73UNz+k86w05GLiOIZulyYAsDLcFCsU06CP4ghByMARBE/bW7DBGdMa5RiKJht+uwIMQpmjeOjqG5h6m/X2/p5NCed+Hjrz6/4CsB6nB8vOh3c/14T5jRJFwMLONkQNwjpQkHOig93+jp2KwosLK489KpvsTynMFA3RjTQfM++6cY5FLkzQJfxx2Y0ogA1/8AUi7F/RE3J9GnnNXhhGzeGJH0jLGdePf6EGUEdRAntoVjnQCkAAnNaq39B8ri7LVLQKhFshxvo/zPx6nU0sQYqa5lTjYYBXTwjvj2Ts26ZvGkt/Q/6vX+9V4e1/n+e23wPjx542mPoQ6nxP6fzvgHd76fbz/nrdO0bZTMmuyATAqRN87Y/jD/AO9ucgY07w8O/q+bTTiVGNkOTyN+rxJKTIgCbkEoXGgUOdAFY3F9BXoQ9EgWU7AFV4AV+irlCuDpd0lLLKabkQAGdOiMpEDQcgyF7xKUP8oxQvncrbAmKq9LWumoQpgoMIjiwFlim3o2fLApxrsxIZVS0iiQLcoDlhPEjcixOtQMw5dCG8KegRoIYHEuvdihSJOgqD7tQYBAFEIiAaqk0MkJ0gWAhKiyrqzhsmhioQNA8p8ebrhDRZAGl4iPl4qrIU0zTKmILKGxH1DiNDsdcDJdp1olyCyQPMjqRQlFnQq7KBOUiipRQy7Fe4qKAIO562CVT9RUKUIiKImREiI5EaOTR2xgBhTAKhPZeqDJY8mR+YvDbNdHE4539Km3Hd0ovIYvz/zSOYfHx65/Gk3dnptn2fN+91PV+39aDzX540DgribYnpXzdV0/55lnrrKSAHOWbJ25UyTwLHq+7bDz16HQjg19wJxU71b9VDoHUIPYEK7BlxqdFzkoT2BSM5R9IMpuwhyZTGU4RNKkaQpCqSUGhtdTOi8AEAFEUUFRMNMDYKFBGy79HsLJQQ5hSAoxBBAAnQYhKRJpAxLh20BfSaLJCIUYZpHUSIFEFFdRRCpX6JQzSiqIwkRMGHLS7BSMZTcqmVzA8sYpgz2YKdL1nUalqEbif0WMhnSKAoQEQYiORHCOzjQoGwJi4dzjZ8+X6FqHRjgBugAEq0XjcpKBHIxuDDI6KwU5XcUrW5haHWoDDUwdsX5+/wCsYmFARIIaSZAgCMknMmZ374Zoqao4nouTflIJN2+s0tmZkIbfec4w+mtjbvs/Hz212T30G2AdsR32td//ADY1iwZVcwzNHHMlc1IMqwDllQNdwDLHnibzfr7dXbUhoEbgJsmQZAjCn1RJAIbiUTuJdTrtwgB6bBQS0A0ebg4ciQSILVDhf9+UQquMAqwBldd2n42vBhxtfOidhTIFQqkWWJLA4sGd1u5JZFSaG8EBsHT2C76Pn8w4zKhCgmHRLd8yV4WeJV7q9rJ6SIMZTBQiKHSI3yV05QmEEtPQtmVSmHYOVCUFGmREUd9LO3V8LWGTMJAc6qECXQhHZwN0AMP71pq8CJYBcCgjNxxY0IR1DTdkDgAtpLHQ4leAJAKyFWDaQgswECri5FcuWrVTu0Vl8xbyxZQmmLbJfAF/GmsUGuPQhQKEYTBBhqILpkgwCuRKfrPI6IsgKoRBxvoRaghAAFhg1MtTDR4IOYWJF45tXD205w8QViYpS5c9neAqMuMWm84bsSj1xoFxEAtB3QGOWb3hKgKeGVVZ3QvLpS8PuRcW7cz1019sFKXAKiBFI0BM6uq2iIqRqIQxJ+jH0iJRqIt6DGIAEiZvmXGxFcqgV7JLikW2YBEbQSdS6WjB0OIUIjQEOqQnIgyJZAD0dkRTTwQMcOFymlHvUwWhzEdaOayqdHMoywEiQOgwleqF1JGXuSgIst7WEIIMFkiBkEy83LoXfQiRSsJSCn6EZQSdEEfRDVDFihgOU4HlgrppQhAAm0NK+lTSSrhN9iTkFRVVuoouy5eG5jkEagwJX0RvYQbzCtCqUkcAGAUAdHScCSbkIFQq8VNUmSdxOJw0Ez+AlH0FNGVMSLpAEqKI62MkDCEgX1RH+Zfe0MVmAzACqBTIAUluYFmJobUD/wBVs+ey5dRZEkELH74f/8QAKhABAQACAQIFBAIDAQEAAAAAAREAITFBUWFxgZHwECCh0bHBQOHxUDD/2gAIAQEAAT8Q+196klwxVzqwRp6kp0RdiFBkNkijcKABL5AU3YwgsRNQSgSdK0EjgTLSiYFqoQm1QhmuYpr4Ds6ArFqTytOe5qKl1RAwEsZs+q/S5s04AgAQFBRE0ibE0mz/AMJpjXcKDykE+Fy4gNCFkmD6ZH5LGa4GIMvH/KdCRJaaRAAMYPA/EnIwYeh9BwYgoJEUBFGmxmWoqR7C+TRNhkWnNgpIDLeH8sWbRYsBbpscEdi1iSn5RBnq/wDAJMSGlK20mmY37r1WAGuDrCZnyqYnf7QnqhmwBrKhDHoMUJzDZIfRC3QN87spABKpB9GVKh06gIRqZsKPWdI8Wc+Hg6y+GDZnO1cgAklorqhToQcSkaBscEQGhSLG4FRgLQhJZiUauprLQFBwEFcKcQD1LLS78xEroB2pv+dRpIPFjOVMZB4yz510OK6F4mRvlhaRVgJWuQMTeENIAvIAIRJiEJIGAOAAAHADnu3w6cdrZJz0Hsq8aRhqdbv14N+rrib3/ta/x2u7J26qUdDT+wfm4INPXYb53ePGduWawyVKjz6IjlIDKQJHQWQadGY3uZXVSAkOjIIX+V007igFCJBPHucv1NMaxf5gFVrYddWq+jQgr9ECpkfTpLSwZJd5ShCJFS0qKlNH9NNga1ziZgTsaoGuUJJwQ6anfcysewC7XjaduxqnOsHQ23aeA7YBdnaAF5w2U7ca/E/fO3kwPw9vU1fFVmPLw7zuGuOYzk9smdCPOuu9bf8Ahe2bA4LTnk5IcvXp1l3gzg7R551s0dd8nMHRZ0IKEXg5gMsHUbQhEYlQhx9MeWyuVAGdmCvYlUq2Y1pTrl/ln1Mn4ngAhwZXp2/BQygothsa7aDjg7SUAhCihlPOPLtPDy7Q3phFIkCIACylXElihsHBvHPo9MNJI3Zfgj53bnHv4v7H488k74TfvZC4XuZRmiROX2148e2W7ReG5/h4f3vAaA9BJ2e6apwzfbLoAiMXTzt5878tM0yvgIIeaznhB1L7HDWIlD7NdRg6II4kbM5X+VMUjvkvK5JzjMmi2F+l6GgVwcIjzKsWa8Ky1bK41sS5nobQqIiN3ThLx1DwdA1m/wA4SDr+P9nhoPoqD7+f2OHi6/f04nn+8Xs1/X+86PX+sEJ2ffn/AL5ZJw85wz2ZB8EY3ENTh6psSoN/yWNgS2IgWjr8qWkANBoqoq2BovBgFoMOLI8sRYRBmGeInoRJycQLbO2OOnonnUO+en47YxBu306++t8XEc9QZzfL5/f2c/T95HRt6454r34+fvOJ5/PnjgzW04enz9axK78/XeJ9EcBrDHGrLAxLK9g2GKhegUBX7UWH2HDjCr8qGRZGsW6gw6jApq0teZqi8l+r8ViWZM8xKBUPkS/kSUkozgAQ6UbeVVhI/QgAlnSbFTr91GDjoTNHp4iTkk/E9BLC/NZ0G2NqQTtA2pSNF9Jya9dlZu80yiZDwbqrIo7oxGOYMu/21hYOViswTStcUbo5nYZkOW77WOY+ber1GdyaOjNSOqm0xOuqG1wWkAVpGxzVhSp1ADsQA0pNgXQAKrAEvDl+hQRkbXdyfaC7TNZzuhfBQNQYMONL8AXfdqdtOz1wTkH0v511zuq+r/v+s8/u/wB4jwvFV96Yj7t1fzvzdZ6w3i96Pe3Bs/tHXbdtxFQwXyCsAX2+kTExEDmAdfnzv4MjNXXj8h55x61WPAC3LuEmzA4QN6kC6NFHbuh9hfmipcrpELygzup8uoaTVAX0AQ5D0vJFcVKw53RpCteCdgs8xytmEir9TroDfThDukAS7rLxYkgdGhBiCLrHuEZFxdgzGZkPK6lNx6xDPOp5x8sIwIBCf2OAcVYtsuRReNSePnphbCLml8cB23THBusK+d2KsEYrFxUSNJqSFWDHDrXl+1D1HEFsSLQpdRYI4aWpAeUfMKMWAh9PzFoXpZ8WIoFMxBoES1uwAJ8vDp88nV9MDtwr4Me+uf64md3Z0fnP84vXZ3+c/N4Dunnx+vfK7PxiO6/x+f1i9WHz3+az0z8vh/rIWw67wP59jo6rrVJxB5AIpkeVQ34JXXVYeJOZM7A63r3NxOdm5yFKAQ7ZTSOHTZwzthTYpyCj/PW6zc+1BKjER+oklIIpiDjhKzQqhJNnGPA9J220O5SjJFCsUUP085agmyenqhmXnQ60cQEx01bNvr/6Cya9omzE4B19EFgknOP901q8FxLhMdgjfqn6iSvRrh36Tpg5tLHRfitExFNHQI8hN6x7q5PVD/gxvo4t6Xpo8L1ySgO7dG5VXav2xgRCUcgrQwDbOMsPbhLhyVEc+1wJRZIFA0CkbKwBPCW6G9N6Zz1vfqds4fz182Py985OIedN3+t9d3p2fUfn8YA7j7/PbBPEfnXL7H5/eKOoT39t52Kvd+XO617fOMp3KssAh+U9J4mc6vf5o0XrP9EnISBJoamYbjcWik4mm9zx7f1vDebDyaniVjkA0wTBTuTkbze7M/dcZlBaVgI9BeYXTcn8AFm+k5ClLMO+64N9+iODHm+7apHLnkQO52D0M9FG+ZeOiqHp30XUFl4dGWraHQo+mCbElaCN3piYvzHXicwnjNFTtg9wlCMbwhHI2ImyIiOsv+hWUeq9cmUqAwHg9odGyPzkQlP7ecu2Cy6Gzg3iO+DMTpbWbcIl7KgzJx7dG2HAGLG3QldF58On/Ru8rGfjW/Lf/dGdzDrd/Ge3r44d2vEzxB6+M+d8jqf3+sns/j949h7/AK/3ncQnbn9485x3f58PXALeW264fNntl74OV553yzXte5MiNUBABS8sLFg9jdBr1+axybuhDq2Hn7VtjOpiXoB4OhFs8IgfTVKdevZKhuAUpfprJIAUEggu+hiUKgdQDXGoKfZO/HZnIjfw0P8A7gDbkJmUk1ZQwStYhTHJseICUMzoTB9ioPTAN5SZP3JU3ibdoPA2+/hOs26d7OsUPE2r/b8k7KOuHpx6647YDsnl8M3/ANk/nPl/1jHU+Tf7xHQ985a+h+v3kjUqBZ0/fV9+XZy7p4JOvt+u0uMD6wAvbDZsFOCUBQvLqctUNU2xeVm1AUtyK7KPUYcQ2ElpQCWsWfQySKJCMejPI4435VDbenOZNAeOS06R8DZsQhky0itdZ8KlIf6FAoAVVADuroPPAQCbEETuJR9PrL36EqexUrs0d/sHU0UUAJyKLE6nP0mIOESllT/rauoFGVUGdxNTxD6L6goENQhEERCPCJrKY9DBF+S9R+soMoqTzg0t86sxzFdk7LNmOsFCjoygO0Qz8njShelt3NdP1zzzxeCxH0eYK3QYxzQJzP1Tae22VpjuV3+84vj0njjuX+XbfGW9A6ic+Tr9PjjnvgOL8J+189XCWHnrcePt2B1jjhRG/QuyMx3Y1oYyW68Lrfsd+25ABGa+R34Hh143MPiELCKKLQCm5ZW3EgHKAT1RJ/Qe38pSF6QTI1ATH7AZR0oIAu8EKmhONO8bFHKfTQczpKFQMTDmnMVMWvVO6JO+LGxoFYffxYViauh5kFyvDkBjyWN9KwUXQ9K3mQqrj0umjbv2DxKaVWHg8FfwglcugpQyIuf+t+0wwARswUzFBCj/AJ14Ggc1lwiiJwVWRxAwVMWtVnIFluxHM7WHLRMF4GCnJxTiekLGkZzeHQvMI4Dsdoot4q7zRzInMCK3xerurlXcInF9uyY4lEDGd03FvDD56egeWCztl1bNRQVKvGVK/Ohbat5cS1HfTplbeGsaQ1UkMmwC7UVbl4nhJPck0ncbI3EoBKIjQiI7HkZM4IB83T7913vtzMJmw5aLxePfby9CGgeZeEqsLy7vzUxOVD1Q302tt7b451lTn1up7dOu9dcXue+jvqk8+MHt93j1Sc65fEmCsbpP9OLO/poSqa1IY2FFWTnjjOXmAAHQbR1to5LRdW1+cUF0OIWAGp9BTYsCuoXbg/RPhudhkN2glQgClQ9KbB9BLBAUZqKmJOuEy9gDMexXMDogpSFBvOItj9pAGmQdFm2Iax0SwC4RoXCNMCNVWwl86Ik07snOZ+5QODlHt8gtxr+DDaDAQEdSUKKQcj6VxByZAF/WxAME48LRYBAE404oqYHVfYotxeYuePJCvjqTGQ9lUfYGZxhWIsoERHGdLgzTDXamu29zj6QLUadXPNG6ao4Kyu4pBp1ljTXfBm3iXlORNHuHuOIgAxSK7twPC7W9fs3ynDXiRN+g7ISzN8VFe0meB4OBtbnZgh3RNgHHS4ZYZIsy5k1sE/MIPIhMyz/kOFP5Dfszy30SjwV3jQ8Dt685Hz5qe3PXpweOaEpvVd++R8p3QntKd99sGANMAOSlnRkSZur3NeB0AOYXrkQICK631LGzQtOGGNviCh/6IEXB+MHkkAgFqaKIjyqV+p92rFcJ0rA6RRx+WbNXCQi4rHBBYF/TMHQKDEg7jOZoizzkzANMq/z7AdG7FPXWCTqqN2BaoiVnFVzY9u1ASTsvMAZYcYoY6uJYWWyWqUSPOFOskeriCzrNzF9aiGjwELB2sXjuiziq4DLAZejUzUEKuZHOLG4HYSkDQWLmMyTs/FxcxzroCeQD8o6hpmRTv2iV7rmvaEvW+Em+L1FpQoxSOr6L4eVUUfGqhjNzKBHz9GEjAc7bCuZocAJtOjlCvVQxk7KAC5LtwIxxVNIhEKkgqSPs1uPSh9KaOm8zPM6geUJKt0xOCWAUQqzloNKMKQA7sw4tSJKBTBz6JjFfgw9QeGB04oLevAkCaromZ6SIMCVEwFRGot2ACIl+GwvwKEiG80Df8FYM4B1iwFYyCAbAFJCAB2nzxSm3uvmEKYggSqIVmJI9BY2qoJX88a+n2xfItVqYVxSBzQREYdwEax6hSkETADAQO0TvtAcaxkXwQjgKVddWVxrGVf8A1NyIrhIIbyBoprOoOLRyJXSCBNSGNECRfe7CoGqw9RapAry+jfGRp5mifkwWqQ47xDgZeGonEEw0mFxvrJQdGIxREY6coIjXNL83BX3PRV/JU7RQyLPxA3U6QsWK0QgLod85gON34bkPeS7AQ0QjvLQ1+zf1z6RLNHiBvx+VjgUAGYzhtYjgFFf/AA0aS5TFJOS3OqhyvuznfNzQIjKI7LXkesJVTHN1mRmqvNpiDvkQ10emTLhztKlJLAClU5zD01MLssFR7ykXSKBcig1/nvQ5dMCgBqx9mUrA2ycAcNI6a+qOt+E9abmY0NBdBSbbgS7Ujl715kpOaNB+j7Fo+lH/AOGlw1Js01H1yUDjlUiWcpMuwE6GPWFVmugatF2DFshJSOcV3x79SseBVeb3Vk4O5zpY40lQgInCE5KTXAKtJdBEcAAAABm/YYH04R5R/wA6vV//2Q==\" />'\n",
       "</script>\n",
       "\n"
      ],
      "text/plain": [
       "<IPython.core.display.HTML object>"
      ]
     },
     "metadata": {},
     "output_type": "display_data"
    }
   ],
   "source": [
    "#general imports\n",
    "import matplotlib.pyplot as plt   \n",
    "import pygslib \n",
    "import numpy as np\n",
    "import pandas as pd\n",
    "\n",
    "#make the plots inline\n",
    "%matplotlib inline  "
   ]
  },
  {
   "cell_type": "markdown",
   "metadata": {},
   "source": [
    "Getting the data ready for work\n",
    "---------\n",
    "If the data is in GSLIB format you can use the function `gslib.read_gslib_file(filename)` to import the data into a Pandas DataFrame. \n"
   ]
  },
  {
   "cell_type": "code",
   "execution_count": 2,
   "metadata": {},
   "outputs": [
    {
     "name": "stdout",
     "output_type": "stream",
     "text": [
      "\t\tsecundary data \n",
      "    Xlocation  Ylocation  Primary  Secondary\n",
      "0        0.5        0.5     -1.0       3.26\n",
      "1        1.5        0.5     -1.0       2.64\n",
      "2        2.5        0.5     -1.0       2.15\n",
      "3        3.5        0.5     -1.0       1.69\n",
      "4        4.5        0.5     -1.0       0.51\n",
      "\n",
      "\t\tprimary data \n",
      "    Xlocation  Ylocation  Primary  Secondary  Declustering Weight\n",
      "0       39.5       18.5     0.06       0.22                1.619\n",
      "1        5.5        1.5     0.06       0.27                1.619\n",
      "2       38.5        5.5     0.08       0.40                1.416\n",
      "3       20.5        1.5     0.09       0.39                1.821\n",
      "4       27.5       14.5     0.09       0.24                1.349\n"
     ]
    }
   ],
   "source": [
    "#get the data in gslib format into a pandas Dataframe\n",
    "cluster= pygslib.gslib.read_gslib_file('../datasets/cluster.dat')  \n",
    "ydata  = pygslib.gslib.read_gslib_file('../datasets/ydata.dat')  \n",
    "\n",
    "print ('\\t\\tsecundary data \\n', ydata.head())\n",
    "print ('\\n\\t\\tprimary data \\n',cluster.head())\n",
    "\n"
   ]
  },
  {
   "cell_type": "code",
   "execution_count": 3,
   "metadata": {},
   "outputs": [
    {
     "data": {
      "image/png": "[encoded data removed]",
      "text/plain": [
       "<Figure size 432x288 with 2 Axes>"
      ]
     },
     "metadata": {},
     "output_type": "display_data"
    }
   ],
   "source": [
    "#view data in a 2D projection\n",
    "plt.scatter(ydata['Xlocation'],ydata['Ylocation'], c=ydata['Secondary'],\n",
    "            alpha=1, s=15, marker =',', linewidths= (0,))\n",
    "plt.scatter(cluster['Xlocation'],cluster['Ylocation'], c=cluster['Secondary'])\n",
    "plt.colorbar()\n",
    "plt.grid(True)\n",
    "plt.show()\n",
    "\n"
   ]
  },
  {
   "cell_type": "code",
   "execution_count": 5,
   "metadata": {},
   "outputs": [
    {
     "name": "stdout",
     "output_type": "stream",
     "text": [
      "error ?  False\n"
     ]
    },
    {
     "data": {
      "text/plain": [
       "<bound method Figure.show of <Figure size 432x288 with 1 Axes>>"
      ]
     },
     "execution_count": 5,
     "metadata": {},
     "output_type": "execute_result"
    },
    {
     "data": {
      "image/png": "[encoded data removed]",
      "text/plain": [
       "<Figure size 432x288 with 1 Axes>"
      ]
     },
     "metadata": {},
     "output_type": "display_data"
    }
   ],
   "source": [
    "npoints = len(cluster['Secondary'])\n",
    "ydata['Declustering Weight']=1\n",
    "#using declustering wight\n",
    "parameters_qpplt = {\n",
    "     'qqorpp'  : 0,                             # Q-Q plot (qqorpp=0); P-P plot (qqorpp=1)\n",
    "      'npts'   : npoints,                       # number of points to use on the Q-Q or P-P plot (should not exceed the smallest number of data in data1 / data2\n",
    "       'va1'   : cluster['Secondary'],            # array('d') with bounds (nd)\n",
    "       'va2'   : ydata['Secondary'],               # array('d') with bounds (nd)\n",
    "       'wt1'   : cluster['Declustering Weight'],# array('d') with bounds (nd)\n",
    "       'wt2'   : ydata['Declustering Weight']}   # array('d') with bounds (nd)\n",
    "\n",
    "vr1a,vr2a,error = pygslib.gslib.__plot.qpplt(**parameters_qpplt)\n",
    "\n",
    "print ('error ? ',  error != 0)\n",
    "\n",
    "fig = plt.figure()\n",
    "ax = fig.add_subplot(1,1,1)\n",
    "plt.plot (vr1a, vr2a, 'o')\n",
    "ax.set_xscale('log')\n",
    "ax.set_yscale('log')\n",
    "ax.set_xlabel ('cluster|secundary')\n",
    "ax.set_ylabel ('ydata|secundary')\n",
    "ax.set_title ('QQ PLot')\n",
    "plt.grid(True)\n",
    "fig.show\n"
   ]
  },
  {
   "cell_type": "code",
   "execution_count": 6,
   "metadata": {},
   "outputs": [
    {
     "name": "stdout",
     "output_type": "stream",
     "text": [
      "error ?  False\n"
     ]
    },
    {
     "data": {
      "text/plain": [
       "<bound method Figure.show of <Figure size 432x288 with 1 Axes>>"
      ]
     },
     "execution_count": 6,
     "metadata": {},
     "output_type": "execute_result"
    },
    {
     "data": {
      "image/png": "[encoded data removed]",
      "text/plain": [
       "<Figure size 432x288 with 1 Axes>"
      ]
     },
     "metadata": {},
     "output_type": "display_data"
    }
   ],
   "source": [
    "npoints = len(cluster['Secondary'])\n",
    "ydata['Declustering Weight']=1\n",
    "#using declustering wight\n",
    "parameters_qpplt = {\n",
    "     'qqorpp'  : 0,                             # Q-Q plot (qqorpp=0); P-P plot (qqorpp=1)\n",
    "      'npts'   : npoints,                       # number of points to use on the Q-Q or P-P plot (should not exceed the smallest number of data in data1 / data2\n",
    "       'va1'   : cluster['Primary'],            # array('d') with bounds (nd)\n",
    "       'va2'   : ydata['Secondary'],               # array('d') with bounds (nd)\n",
    "       'wt1'   : cluster['Declustering Weight'],# array('d') with bounds (nd)\n",
    "       'wt2'   : ydata['Declustering Weight']}   # array('d') with bounds (nd)\n",
    "\n",
    "vr1a,vr2a,error = pygslib.gslib.__plot.qpplt(**parameters_qpplt)\n",
    "\n",
    "print ('error ? ',  error != 0)\n",
    "\n",
    "fig = plt.figure()\n",
    "ax = fig.add_subplot(1,1,1)\n",
    "plt.plot (vr1a, vr2a, 'o')\n",
    "ax.set_xscale('log')\n",
    "ax.set_yscale('log')\n",
    "ax.set_xlabel ('cluster|primary')\n",
    "ax.set_ylabel ('ydata|secundary')\n",
    "ax.set_title ('QQ PLot')\n",
    "plt.grid(True)\n",
    "fig.show"
   ]
  },
  {
   "cell_type": "markdown",
   "metadata": {
    "collapsed": true
   },
   "source": [
    "## Testing bicalib"
   ]
  },
  {
   "cell_type": "code",
   "execution_count": 7,
   "metadata": {
    "scrolled": true
   },
   "outputs": [
    {
     "name": "stdout",
     "output_type": "stream",
     "text": [
      "This module '__bicalib' is auto-generated with f2py (version:2).\n",
      "Functions:\n",
      "  ssqu,avgu,umin,umax,ssqv,avgv,vmin,vmax,pdfrep,fract,yx,em,vm,nm,b,lcdf,error = bicalib(vval,u,v,wt,cutu,cutv,ndp=len(vval),nd=len(u),ncutu=len(cutu),ncutv=len(cutv))\n",
      ".\n"
     ]
    }
   ],
   "source": [
    "print (pygslib.gslib.__bicalib.__doc__)"
   ]
  },
  {
   "cell_type": "code",
   "execution_count": 8,
   "metadata": {},
   "outputs": [
    {
     "name": "stdout",
     "output_type": "stream",
     "text": [
      "error ?  False\n"
     ]
    }
   ],
   "source": [
    "parameters_bicalib = {\n",
    "        'vval' : ydata['Secondary'],             # secondary data\n",
    "        'u'    : cluster['Primary'],             # calibration scatterplot (primary data)\n",
    "        'v'    : cluster['Secondary'],           # calibration scatterplot (secondary data)\n",
    "        'wt'   : cluster['Declustering Weight'], # calibration scatterplot (weight data)\n",
    "        'cutu' : [0.5,1.,2.5,5.,10.],            # thresholds on primary            \n",
    "        'cutv' : [0.5,1.,2.5,5.,10.]}            # thresholds on secondary\n",
    "\n",
    "ssqu,avgu,umin,umax,ssqv,avgv,vmin,vmax, \\\n",
    "pdfrep,fract,yx,em,vm,nm,b,lcdf,error = pygslib.gslib.__bicalib.bicalib(**parameters_bicalib)\n",
    "\n",
    "print ('error ? ',  error != 0)\n"
   ]
  },
  {
   "cell_type": "markdown",
   "metadata": {
    "collapsed": true
   },
   "source": [
    "### Comparing results with the report file (bicalib.rep)\n",
    "```\n",
    "                  MARKOV-BAYES CALIBRATION REPORT\n",
    "                  *******************************\n",
    "\n",
    "       Number of pairs retained     =          140\n",
    "\n",
    "       Primary variable:   average  =    2.52812052    \n",
    "                           variance =    22.0867615    \n",
    "                           minimum  =    5.99999987E-02\n",
    "                           maximum  =    58.3199997    \n",
    "\n",
    "       Secondary variable: average  =    2.52758455    \n",
    "                           variance =    9.77680969    \n",
    "                           minimum  =   0.180000007    \n",
    "                           maximum  =    22.4599991  \n",
    "                           \n",
    " Cutoffs on Primary Variable\n",
    "  U cutoff  1 cutoff =       0.5000 cdf =  0.29924\n",
    "  U cutoff  2 cutoff =       1.0000 cdf =  0.47028\n",
    "  U cutoff  3 cutoff =       2.5000 cdf =  0.72501\n",
    "  U cutoff  4 cutoff =       5.0000 cdf =  0.87425\n",
    "  U cutoff  5 cutoff =      10.0000 cdf =  0.95929\n",
    "  \n",
    " Number within each bivariate (u,v) class:\n",
    "                0.50     1.00     2.50     5.00    10.00\n",
    "      0.50 |    0.1927   0.0130   0.0094   0.0000   0.0000   0.0000\n",
    "      1.00 |    0.0780   0.0568   0.0344   0.0068   0.0000   0.0000\n",
    "      2.50 |    0.0067   0.0934   0.1416   0.0315   0.0205   0.0000\n",
    "      5.00 |    0.0218   0.0000   0.0562   0.0917   0.0174   0.0032\n",
    "     10.00 |    0.0000   0.0077   0.0131   0.0169   0.0256   0.0115\n",
    "      Max. |        0.       0.       0.       0.       0.       0.\n",
    "\n",
    "\n",
    " The cumulative frequency (local prior cdf) table:\n",
    " 0.89586 0.95633 1.00000 1.00000 1.00000 1.00000\n",
    " 0.44297 0.76568 0.96116 1.00000 1.00000 1.00000\n",
    " 0.02295 0.34097 0.82286 0.93023 1.00000 1.00000\n",
    " 0.11440 0.11440 0.40956 0.89164 0.98330 1.00000\n",
    " 0.00000 0.10326 0.27851 0.50410 0.84630 1.00000\n",
    " 0.00000 0.00000 0.00000 0.04442 0.47650 1.00000\n",
    "\n",
    "cutoff,total#,mean,Variance\n",
    "  for U(x) <= cutoff \n",
    "     0.50    30 |    0.70124   0.07721\n",
    "     1.00    47 |    0.71755   0.07886\n",
    "     2.50    76 |    0.84762   0.04005\n",
    "     5.00   101 |    0.93332   0.01228\n",
    "    10.00   126 |    0.97366   0.00769\n",
    "  for U(x) >  cutoff \n",
    "     0.50   110 |    0.12758   0.04022\n",
    "     1.00    93 |    0.25076   0.04704\n",
    "     2.50    64 |    0.40175   0.07353\n",
    "     5.00    39 |    0.46354   0.13237\n",
    "    10.00    14 |    0.62067   0.03795\n",
    "    \n",
    " B(i) values:\n",
    " 0.5737\n",
    " 0.4668\n",
    " 0.4459\n",
    " 0.4698\n",
    " 0.3530\n",
    "\n",
    " ```"
   ]
  },
  {
   "cell_type": "code",
   "execution_count": 11,
   "metadata": {},
   "outputs": [
    {
     "data": {
      "text/plain": [
       "['1', '2', '3']"
      ]
     },
     "execution_count": 11,
     "metadata": {},
     "output_type": "execute_result"
    }
   ],
   "source": [
    "[str(i) for i in [1,2,3]]"
   ]
  },
  {
   "cell_type": "code",
   "execution_count": 12,
   "metadata": {},
   "outputs": [
    {
     "name": "stdout",
     "output_type": "stream",
     "text": [
      "      MARKOV-BAYES CALIBRATION REPORT \n",
      " ----------------------------------------\n",
      "Primary variable:   average  = 2.528120517730713\n",
      "                    variance = 22.086761474609375\n",
      "                    minimum  = 0.05999999865889549\n",
      "                    maximum  = 58.31999969482422\n",
      "Secondary variable: average  = 2.5275845527648926\n",
      "                    variance = 9.776809692382812\n",
      "                    minimum  = 0.18000000715255737\n",
      "                    maximum  = 22.459999084472656\n",
      " Cutoffs on Primary Variable \n",
      "  U cutoff 1  cutoff =   0.5  cdf =  0.29924345\n",
      "  U cutoff 2  cutoff =   1.0  cdf =  0.47028258\n",
      "  U cutoff 3  cutoff =   2.5  cdf =  0.7250056\n",
      "  U cutoff 4  cutoff =   5.0  cdf =  0.8742452\n",
      "  U cutoff 5  cutoff =   10.0  cdf =  0.95929337\n",
      "\n",
      "Number within each bivariate (u,v) class:                               ??? max is differen ??? check this\n",
      "           0.5       1.0       2.5       5.0      10.0       max\n",
      "0.5   0.192696  0.013007  0.009393  0.000000  0.000000  0.000000\n",
      "1.0   0.078034  0.056849  0.034435  0.006843  0.000000  0.000000\n",
      "2.5   0.006743  0.093448  0.141597  0.031549  0.020500  0.000000\n",
      "5.0   0.021771  0.000000  0.056170  0.091741  0.017442  0.003179\n",
      "10.0  0.000000  0.007736  0.013128  0.016900  0.025635  0.011514\n",
      "max   0.000000  0.000000  0.000000  0.002207  0.021471  0.026014\n",
      "\n",
      " The cumulative frequency (local prior cdf) table:\n",
      "[[0.8958624  0.9563326  1.         1.         1.         1.        ]\n",
      " [0.44297126 0.7656814  0.96115637 1.         1.         1.        ]\n",
      " [0.02294715 0.3409743  0.8228645  0.9302348  1.         1.        ]\n",
      " [0.11440152 0.11440152 0.40956345 0.89164126 0.9832976  0.9999999 ]\n",
      " [0.         0.10326085 0.27850875 0.5040999  0.8463005  0.99999994]\n",
      " [0.         0.         0.         0.04441569 0.47649848 1.        ]]\n",
      "\n",
      "cutoff,total#,mean,Variance\n",
      "  for U(x) <= cutoff \n",
      "   cutoff      mean  total       var\n",
      "0     0.5  0.701239     30  0.077207\n",
      "1     1.0  0.717546     47  0.078863\n",
      "2     2.5  0.847617     76  0.040054\n",
      "3     5.0  0.933323    101  0.012283\n",
      "4    10.0  0.973663    126  0.007686\n",
      "  for U(x) >  cutoff\n",
      "   cutoff      mean  total       var\n",
      "0     0.5  0.127580    110  0.040218\n",
      "1     1.0  0.250763     93  0.047037\n",
      "2     2.5  0.401749     64  0.073528\n",
      "3     5.0  0.463537     39  0.132374\n",
      "4    10.0  0.620672     14  0.037951\n",
      "\n",
      "   B(i) values:\n",
      "0      0.573659\n",
      "1      0.466783\n",
      "2      0.445868\n",
      "3      0.469785\n",
      "4      0.352990\n"
     ]
    }
   ],
   "source": [
    "U_cutoff= np.arange(len(parameters_bicalib['cutu'])) +1\n",
    "index = [str(i) for i in parameters_bicalib['cutu']]\n",
    "index.append('max')\n",
    "columns = [str(i) for i in parameters_bicalib['cutv']]\n",
    "columns.append('max')\n",
    "uv_class= pd.DataFrame(pdfrep, index= index, columns = columns)\n",
    "\n",
    "U_le_cutoff = pd.DataFrame ({'cutoff': parameters_bicalib['cutu'], 'total':nm[:,1],'mean': em[:,1], 'var' : vm[:,1]})\n",
    "U_ge_cutoff = pd.DataFrame ({'cutoff': parameters_bicalib['cutu'], 'total':nm[:,0],'mean': em[:,0], 'var' : vm[:,0]})\n",
    "\n",
    "\n",
    "print ('      MARKOV-BAYES CALIBRATION REPORT ')\n",
    "print (' ----------------------------------------')\n",
    "print ('Primary variable:   average  =', avgu)\n",
    "print ('                    variance =', ssqu)   \n",
    "print ('                    minimum  =', umin)\n",
    "print ('                    maximum  =', umax)\n",
    "print ('Secondary variable: average  =', avgv)\n",
    "print ('                    variance =', ssqv)   \n",
    "print ('                    minimum  =', vmin)\n",
    "print ('                    maximum  =', vmax)\n",
    "print (' Cutoffs on Primary Variable ')\n",
    "for i in U_cutoff:\n",
    "    print ('  U cutoff', i, ' cutoff =  ', parameters_bicalib['cutu'][i-1], ' cdf = ' , fract[i-1])\n",
    "\n",
    "print ('')\n",
    "print ('Number within each bivariate (u,v) class:                               ??? max is differen ??? check this')    \n",
    "print (uv_class)\n",
    "print ('')\n",
    "print (' The cumulative frequency (local prior cdf) table:')\n",
    "print (yx)\n",
    "print ('')\n",
    "print ('cutoff,total#,mean,Variance') \n",
    "print ('  for U(x) <= cutoff ') \n",
    "print (U_le_cutoff)\n",
    "print ('  for U(x) >  cutoff')\n",
    "print (U_ge_cutoff)\n",
    "print ('')\n",
    "print (pd.DataFrame({'B(i) values:':b}))\n"
   ]
  },
  {
   "cell_type": "markdown",
   "metadata": {},
   "source": [
    "**Note:**\n",
    "This is also comparable to data on file for output calibration (SISIM), or *bicalib.cal* in the *.par file above \n",
    "```\n",
    " Thresholds for secondary variable\n",
    "           5\n",
    "  0.500000000    \n",
    "   1.00000000    \n",
    "   2.50000000    \n",
    "   5.00000000    \n",
    "   10.0000000    \n",
    " The local prior distribution table:\n",
    " 0.89586 0.95633 1.00000 1.00000 1.00000\n",
    " 0.44297 0.76568 0.96116 1.00000 1.00000\n",
    " 0.02295 0.34097 0.82286 0.93023 1.00000\n",
    " 0.11440 0.11440 0.40956 0.89164 0.98330\n",
    " 0.00000 0.10326 0.27851 0.50410 0.84630\n",
    " 0.00000 0.00000 0.00000 0.04442 0.47650\n",
    " The calibration parameters B(i): \n",
    " 0.5737\n",
    " 0.4668\n",
    " 0.4459\n",
    " 0.4698\n",
    " 0.3530\n",
    "```"
   ]
  },
  {
   "cell_type": "markdown",
   "metadata": {},
   "source": [
    "### Comparing with results in the file for output data / distributions (bicalib.out)"
   ]
  },
  {
   "cell_type": "code",
   "execution_count": 13,
   "metadata": {},
   "outputs": [
    {
     "name": "stdout",
     "output_type": "stream",
     "text": [
      "   P_Thr_0.5  P_Thr_1.0  P_Thr_2.5  P_Thr_5.0  P_Thr_10.0\n",
      "0   0.114402   0.114402   0.409563   0.891641    0.983298\n",
      "1   0.114402   0.114402   0.409563   0.891641    0.983298\n",
      "2   0.022947   0.340974   0.822864   0.930235    1.000000\n",
      "3   0.022947   0.340974   0.822864   0.930235    1.000000\n",
      "4   0.442971   0.765681   0.961156   1.000000    1.000000\n"
     ]
    }
   ],
   "source": [
    "names=['P_Thr_'+x for x in map (str , parameters_bicalib['cutu'])]\n",
    "Ptr=pd.DataFrame(lcdf, columns= names)\n",
    "print (Ptr.head())"
   ]
  },
  {
   "cell_type": "markdown",
   "metadata": {},
   "source": [
    "**expected results **\n",
    "```\n",
    "                         pt0.5   pt1.0   pt2.5   pt5.0  pt10.0\n",
    "  .5   .5 -1.00  3.26   0.1144  0.1144  0.4096  0.8916  0.9833\n",
    " 1.5   .5 -1.00  2.64   0.1144  0.1144  0.4096  0.8916  0.9833\n",
    " 2.5   .5 -1.00  2.15   0.0229  0.3410  0.8229  0.9302  1.0000\n",
    " 3.5   .5 -1.00  1.69   0.0229  0.3410  0.8229  0.9302  1.0000\n",
    " 4.5   .5 -1.00   .51   0.4430  0.7657  0.9612  1.0000  1.0000\n",
    "```"
   ]
  },
  {
   "cell_type": "code",
   "execution_count": 14,
   "metadata": {},
   "outputs": [
    {
     "name": "stdout",
     "output_type": "stream",
     "text": [
      "      P_Thr_0.5  P_Thr_1.0  P_Thr_2.5  P_Thr_5.0  P_Thr_10.0\n",
      "2495        0.0   0.103261   0.278509     0.5041      0.8463\n",
      "2496        0.0   0.103261   0.278509     0.5041      0.8463\n",
      "2497        0.0   0.103261   0.278509     0.5041      0.8463\n",
      "2498        0.0   0.103261   0.278509     0.5041      0.8463\n",
      "2499        0.0   0.103261   0.278509     0.5041      0.8463\n"
     ]
    }
   ],
   "source": [
    "print (Ptr.tail())\n"
   ]
  },
  {
   "cell_type": "markdown",
   "metadata": {},
   "source": [
    "**expected results **\n",
    "```\n",
    "                         pt0.5   pt1.0   pt2.5   pt5.0  pt10.0\n",
    "45.5 49.5 -1.00  8.82   0.0000  0.1033  0.2785  0.5041  0.8463\n",
    "46.5 49.5 -1.00  7.97   0.0000  0.1033  0.2785  0.5041  0.8463\n",
    "47.5 49.5 -1.00  8.62   0.0000  0.1033  0.2785  0.5041  0.8463\n",
    "48.5 49.5 -1.00  6.59   0.0000  0.1033  0.2785  0.5041  0.8463\n",
    "49.5 49.5 -1.00  5.83   0.0000  0.1033  0.2785  0.5041  0.8463\n",
    "```"
   ]
  },
  {
   "cell_type": "code",
   "execution_count": null,
   "metadata": {
    "collapsed": true
   },
   "outputs": [],
   "source": []
  }
 ],
 "metadata": {
  "kernelspec": {
   "display_name": "Python 3",
   "language": "python",
   "name": "python3"
  },
  "language_info": {
   "codemirror_mode": {
    "name": "ipython",
    "version": 3
   },
   "file_extension": ".py",
   "mimetype": "text/x-python",
   "name": "python",
   "nbconvert_exporter": "python",
   "pygments_lexer": "ipython3",
   "version": "3.6.5"
  }
 },
 "nbformat": 4,
 "nbformat_minor": 1
}
